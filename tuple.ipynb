{
 "cells": [
  {
   "cell_type": "code",
   "execution_count": null,
   "id": "942f15aa-f09d-4450-a722-36a3ce7afe0e",
   "metadata": {},
   "outputs": [],
   "source": [
    "# tuple\n",
    "# -support indexing\n",
    "# -ordered\n",
    "# -multiple and duplicate data\n",
    "# -immutable\n"
   ]
  },
  {
   "cell_type": "code",
   "execution_count": 2,
   "id": "7672d739-29d7-4357-a907-463b5f97c12f",
   "metadata": {},
   "outputs": [
    {
     "name": "stdout",
     "output_type": "stream",
     "text": [
      "<class 'tuple'>\n"
     ]
    }
   ],
   "source": [
    "a=tuple()\n",
    "print(type(a))"
   ]
  },
  {
   "cell_type": "code",
   "execution_count": 6,
   "id": "a6cef658-18fe-4cfb-934d-b318b1885a18",
   "metadata": {},
   "outputs": [
    {
     "name": "stdout",
     "output_type": "stream",
     "text": [
      "(1, 2, 3, 4, 5, 6)\n",
      "<class 'tuple'>\n"
     ]
    }
   ],
   "source": [
    "a=(1,2,3,4,5,6)\n",
    "print(a)\n",
    "print(type(a))"
   ]
  },
  {
   "cell_type": "code",
   "execution_count": null,
   "id": "e2ce766f-df17-4dcb-94a5-8d0d86cbe4f0",
   "metadata": {},
   "outputs": [],
   "source": [
    "help me with list, dictionary ,tuple, set with example"
   ]
  },
  {
   "cell_type": "code",
   "execution_count": 5,
   "id": "357b817d-7402-4feb-a399-ec0720ffe06b",
   "metadata": {},
   "outputs": [
    {
     "data": {
      "text/plain": [
       "['Cat', 'Dog', 'Apple', 'Ball']"
      ]
     },
     "execution_count": 5,
     "metadata": {},
     "output_type": "execute_result"
    }
   ],
   "source": [
    "#converting set and list that help to remove the duplication\n",
    "\n",
    "l={\"Apple\",\"Ball\",\"Cat\",\"Cat\",\"Dog\"}\n",
    "s=set(l)\n",
    "l=list(s)\n",
    "l\n"
   ]
  },
  {
   "cell_type": "code",
   "execution_count": null,
   "id": "b0b13745-8081-4819-abda-3d13f30d2534",
   "metadata": {},
   "outputs": [],
   "source": []
  }
 ],
 "metadata": {
  "kernelspec": {
   "display_name": "Python [conda env:base] *",
   "language": "python",
   "name": "conda-base-py"
  },
  "language_info": {
   "codemirror_mode": {
    "name": "ipython",
    "version": 3
   },
   "file_extension": ".py",
   "mimetype": "text/x-python",
   "name": "python",
   "nbconvert_exporter": "python",
   "pygments_lexer": "ipython3",
   "version": "3.12.7"
  }
 },
 "nbformat": 4,
 "nbformat_minor": 5
}
