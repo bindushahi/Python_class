{
 "cells": [
  {
   "cell_type": "code",
   "execution_count": null,
   "id": "942f15aa-f09d-4450-a722-36a3ce7afe0e",
   "metadata": {},
   "outputs": [],
   "source": [
    "# tuple\n",
    "# -support indexing\n",
    "# -ordered\n",
    "# -multiple and duplicate data\n",
    "# -immutable\n"
   ]
  },
  {
   "cell_type": "code",
   "execution_count": 2,
   "id": "7672d739-29d7-4357-a907-463b5f97c12f",
   "metadata": {},
   "outputs": [
    {
     "name": "stdout",
     "output_type": "stream",
     "text": [
      "<class 'tuple'>\n"
     ]
    }
   ],
   "source": [
    "a=tuple()\n",
    "print(type(a))"
   ]
  },
  {
   "cell_type": "code",
   "execution_count": 6,
   "id": "a6cef658-18fe-4cfb-934d-b318b1885a18",
   "metadata": {},
   "outputs": [
    {
     "name": "stdout",
     "output_type": "stream",
     "text": [
      "(1, 2, 3, 4, 5, 6)\n",
      "<class 'tuple'>\n"
     ]
    }
   ],
   "source": [
    "a=(1,2,3,4,5,6)\n",
    "print(a)\n",
    "print(type(a))"
   ]
  },
  {
   "cell_type": "code",
   "execution_count": null,
   "id": "e2ce766f-df17-4dcb-94a5-8d0d86cbe4f0",
   "metadata": {},
   "outputs": [],
   "source": [
    "help me with list, dictionary ,tuple, set with example"
   ]
  },
  {
   "cell_type": "code",
   "execution_count": 4,
   "id": "0795263b-2e64-4a61-b536-335c09e12e36",
   "metadata": {},
   "outputs": [
    {
     "name": "stdin",
     "output_type": "stream",
     "text": [
      "Enter n= 10\n",
      "Enter x= 324\n",
      "Enter x= 4344\n",
      "Enter x= 543453\n",
      "Enter x= 2334\n",
      "Enter x= 2343\n",
      "Enter x= 23433\n",
      "Enter x= 223\n",
      "Enter x= 12\n",
      "Enter x= 125\n",
      "Enter x= 12\n"
     ]
    },
    {
     "data": {
      "text/plain": [
       "(324, 4344, 543453, 2334, 2343, 23433, 223, 12, 125, 12)"
      ]
     },
     "execution_count": 4,
     "metadata": {},
     "output_type": "execute_result"
    }
   ],
   "source": [
    "#tuple example with user value\n",
    "t=tuple()\n",
    "n=int(input(\"Enter n=\"))\n",
    "for i in range(n):\n",
    "    x=int(input(\"Enter x=\"))\n",
    "    t= t+(x,)\n",
    "t"
   ]
  },
  {
   "cell_type": "code",
   "execution_count": 6,
   "id": "77bd0e23-cb35-4edf-b251-c00821ff0028",
   "metadata": {},
   "outputs": [
    {
     "name": "stdout",
     "output_type": "stream",
     "text": [
      "Min value= 12\n",
      "Max value= 543453\n",
      "Sum of all value= 576603\n"
     ]
    }
   ],
   "source": [
    "#max() min() sum() in tuple\n",
    "\n",
    "print(\"Min value=\",min(t))\n",
    "print(\"Max value=\",max(t))\n",
    "print(\"Sum of all value=\",sum(t))"
   ]
  },
  {
   "cell_type": "code",
   "execution_count": 8,
   "id": "9efe953d-630b-4729-9b14-66fa43260b07",
   "metadata": {},
   "outputs": [
    {
     "name": "stdout",
     "output_type": "stream",
     "text": [
      "(10, 11, 12, 14, 15)\n"
     ]
    }
   ],
   "source": [
    "#in single variable multiple variable can be stored\n",
    "x=10,11,12,14,15\n",
    "print(x)"
   ]
  },
  {
   "cell_type": "code",
   "execution_count": 32,
   "id": "61c31cb9-46bf-4485-b4dc-f56176e60bc9",
   "metadata": {},
   "outputs": [
    {
     "data": {
      "text/plain": [
       "('Ram', 'Shyam')"
      ]
     },
     "execution_count": 32,
     "metadata": {},
     "output_type": "execute_result"
    }
   ],
   "source": [
    "# #tuple inside tuple\n",
    "info=(('Ram',9869943896),('Shyam',9680956849))\n",
    "info\n",
    "\n",
    "#tuple to dict\n",
    "dict(info)\n",
    "\n",
    "#datatype conversion \n",
    "# #conversion of list to dict\n",
    "l=[['Ram',9858754957],['Shyam',9801389408]]\n",
    "dict(l)\n",
    "\n",
    "#tuple to list\n",
    "a=(\"Ram\",\"Shyam\",\"Hari\")\n",
    "b=list(a)\n",
    "b\n",
    "\n",
    "#dict to list\n",
    "a={'Ram':9809434985,'Shyam':985958054}\n",
    "b=list(a)\n",
    "b\n",
    "\n",
    "\n",
    "#tuple to list then delete apply then again back to tuple\n",
    "a=(\"Ram\",\"Shyam\",\"Hari\")\n",
    "b=list(a)\n",
    "del b[2]\n",
    "a=tuple(b)\n",
    "a"
   ]
  },
  {
   "cell_type": "code",
   "execution_count": 11,
   "id": "357b817d-7402-4feb-a399-ec0720ffe06b",
   "metadata": {},
   "outputs": [
    {
     "data": {
      "text/plain": [
       "['Dog', 'Apple', 'Ball', 'dog', 'Cat']"
      ]
     },
     "execution_count": 11,
     "metadata": {},
     "output_type": "execute_result"
    }
   ],
   "source": [
    "#converting set and list that help to remove the duplication\n",
    "\n",
    "l={\"Apple\",\"Ball\",\"Cat\",\"Cat\",\"Dog\",\"dog\"}\n",
    "s=set(l)\n",
    "l=list(s)\n",
    "l\n"
   ]
  },
  {
   "cell_type": "code",
   "execution_count": 25,
   "id": "b0b13745-8081-4819-abda-3d13f30d2534",
   "metadata": {},
   "outputs": [
    {
     "name": "stdout",
     "output_type": "stream",
     "text": [
      "{'Raju', 'Ram'}\n",
      "{'Raju', 'Jenny', 'Ram', 'Santosh', 'Sita', 'Hari', 'Satya', 'Shyam', 'Bill', 'Kate'}\n",
      "{'Jenny', 'Sita', 'Hari', 'Shyam', 'Kate'}\n",
      "{'Satya', 'Santosh', 'Bill'}\n",
      "{'abc', 'xyz'}\n"
     ]
    },
    {
     "data": {
      "text/plain": [
       "True"
      ]
     },
     "execution_count": 25,
     "metadata": {},
     "output_type": "execute_result"
    }
   ],
   "source": [
    "#intersection() union() difference() isdisjoint() issubset() issuperset() in set\n",
    "#Never set inside set cause there is no mutable data inside data\n",
    "U={\"Ram\",\"Hari\",\"Shyam\",\"xyz\",\"abc\",\"Raju\",\"Sita\",\"Kate\",\"Jenny\",\"Bill\",\"Santosh\",\"Satya\",\"Raju\"}\n",
    "\n",
    "#intersection\n",
    "apple={\"Ram\",\"Hari\",\"Shyam\",\"Raju\",\"Sita\",\"Kate\",\"Jenny\"}\n",
    "ms={\"Bill\",\"Santosh\",\"Satya\",\"Ram\",\"Raju\"}\n",
    "print(apple.intersection(ms))\n",
    "\n",
    "#union()\n",
    "print(apple.union(ms))\n",
    "\n",
    "#isdisjoint()\n",
    "print(apple -ms)  #apple ma kaam garney ms ma no \n",
    "print(ms -apple)\n",
    "\n",
    "#not belonging to any set\n",
    "print(U-apple.union(ms))\n",
    "\n",
    "#issubset\n",
    "a={1,2,3,4,5,6,7,8,9,10} #a is a superset of b\n",
    "b={1,2,3,4}   #b is a subset of a\n",
    "b.issubset(a)\n",
    "\n",
    "#print unordered"
   ]
  },
  {
   "cell_type": "code",
   "execution_count": null,
   "id": "cd661845-7110-4f88-bf65-3d49cd218806",
   "metadata": {},
   "outputs": [],
   "source": []
  }
 ],
 "metadata": {
  "kernelspec": {
   "display_name": "Python [conda env:base] *",
   "language": "python",
   "name": "conda-base-py"
  },
  "language_info": {
   "codemirror_mode": {
    "name": "ipython",
    "version": 3
   },
   "file_extension": ".py",
   "mimetype": "text/x-python",
   "name": "python",
   "nbconvert_exporter": "python",
   "pygments_lexer": "ipython3",
   "version": "3.12.7"
  }
 },
 "nbformat": 4,
 "nbformat_minor": 5
}
