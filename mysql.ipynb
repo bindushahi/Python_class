{
 "cells": [
  {
   "cell_type": "code",
   "execution_count": 8,
   "id": "b8c0798c-5161-42c5-9b71-3493f0b3bd42",
   "metadata": {},
   "outputs": [
    {
     "name": "stdout",
     "output_type": "stream",
     "text": [
      "Requirement already satisfied: mysql in c:\\users\\user\\anaconda3\\lib\\site-packages (0.0.3)\n",
      "Requirement already satisfied: mysqlclient in c:\\users\\user\\anaconda3\\lib\\site-packages (from mysql) (2.2.7)\n",
      "Note: you may need to restart the kernel to use updated packages.\n"
     ]
    }
   ],
   "source": [
    "pip install mysql"
   ]
  },
  {
   "cell_type": "code",
   "execution_count": 10,
   "id": "63878072-ca8e-40d8-88ad-d7f6c8b57abe",
   "metadata": {},
   "outputs": [],
   "source": [
    "import mysql.connector"
   ]
  },
  {
   "cell_type": "code",
   "execution_count": 30,
   "id": "ae908534-9e2a-4801-ae9b-bda0112a7f1b",
   "metadata": {},
   "outputs": [],
   "source": [
    "# #creating a database\n",
    "# import mysql.connector\n",
    "# database=mysql.connector.connect(\n",
    "#     host=\"localhost\",\n",
    "#     user=\"root\",\n",
    "#     password=\"\"\n",
    "# )\n",
    "# db=database.cursor()\n",
    "# db.execute(\"CREATE DATABASE python_class\")"
   ]
  },
  {
   "cell_type": "markdown",
   "id": "5ea0c71a-fe49-4a92-8062-cb2e83148e77",
   "metadata": {},
   "source": [
    "2#### name = input(\"Enter name = \")\n",
    "physics = int(input(\"Enter physics marks= \"))\n",
    "chemistry = int(input(\"Enter chemistry marks= \"))\n",
    "math = int(input(\"Enter math marks= \"))\n",
    "english = int(input(\"Enter english marks= \"))\n",
    "nepali = int(input(\"Enter nepali marks= \"))\n",
    "\n",
    "total = physics + chemistry + math + english + nepali\n",
    "per = total/5\n",
    "\n",
    "if per >= 80:\n",
    "    grade = \"A\"\n",
    "elif per >= 60:\n",
    "    grade = \"B\"\n",
    "elif per >= 45:\n",
    "    grade = \"C\"\n",
    "else:\n",
    "    grade = \"F\"\n",
    "    \n",
    "\n",
    "#insert data into table\n",
    "sql = f''' INSERT INTO student (name, physics, chemistry, math, english, nepali, total, per, grade)\n",
    "        VALUES ('{name}', {physics}, {chemistry}, {math}, {english}, {nepali}, {total}, {per}, '{grade}')'''\n",
    "db.execute(sql)\n",
    "database.commit()\n",
    "print(db.rowcount, \"record inserted.\")"
   ]
  },
  {
   "cell_type": "code",
   "execution_count": 3,
   "id": "a0951ec1-0584-4def-90e8-591b9a2b30d3",
   "metadata": {},
   "outputs": [
    {
     "name": "stdout",
     "output_type": "stream",
     "text": [
      "('information_schema',)\n",
      "('mysql',)\n",
      "('performance_schema',)\n",
      "('phpmyadmin',)\n",
      "('python_class',)\n",
      "('test',)\n"
     ]
    }
   ],
   "source": [
    "#creating a database\n",
    "import mysql.connector\n",
    "database=mysql.connector.connect(\n",
    "    host=\"localhost\",\n",
    "    user=\"root\",\n",
    "    password=\"\"\n",
    ")\n",
    "db=database.cursor()\n",
    "db.execute(\"SHOW DATABASEs\")\n",
    "for x in db:\n",
    "    print(x)"
   ]
  },
  {
   "cell_type": "code",
   "execution_count": 5,
   "id": "717f94ec-d85e-4322-a353-140934e68b1f",
   "metadata": {},
   "outputs": [
    {
     "ename": "IntegrityError",
     "evalue": "1062 (23000): Duplicate entry '7' for key 'PRIMARY'",
     "output_type": "error",
     "traceback": [
      "\u001b[1;31m---------------------------------------------------------------------------\u001b[0m",
      "\u001b[1;31mIntegrityError\u001b[0m                            Traceback (most recent call last)",
      "Cell \u001b[1;32mIn[5], line 29\u001b[0m\n\u001b[0;32m     27\u001b[0m sql \u001b[38;5;241m=\u001b[39m \u001b[38;5;124m\"\u001b[39m\u001b[38;5;124mINSERT INTO student(sn,name,physics,chemistry,nepali,java,maths,total,per,grade) VALUES (\u001b[39m\u001b[38;5;132;01m%s\u001b[39;00m\u001b[38;5;124m,\u001b[39m\u001b[38;5;132;01m%s\u001b[39;00m\u001b[38;5;124m,\u001b[39m\u001b[38;5;132;01m%s\u001b[39;00m\u001b[38;5;124m,\u001b[39m\u001b[38;5;132;01m%s\u001b[39;00m\u001b[38;5;124m,\u001b[39m\u001b[38;5;132;01m%s\u001b[39;00m\u001b[38;5;124m,\u001b[39m\u001b[38;5;132;01m%s\u001b[39;00m\u001b[38;5;124m,\u001b[39m\u001b[38;5;132;01m%s\u001b[39;00m\u001b[38;5;124m,\u001b[39m\u001b[38;5;132;01m%s\u001b[39;00m\u001b[38;5;124m,\u001b[39m\u001b[38;5;132;01m%s\u001b[39;00m\u001b[38;5;124m,\u001b[39m\u001b[38;5;132;01m%s\u001b[39;00m\u001b[38;5;124m)\u001b[39m\u001b[38;5;124m\"\u001b[39m\n\u001b[0;32m     28\u001b[0m values \u001b[38;5;241m=\u001b[39m (\u001b[38;5;241m7\u001b[39m, \u001b[38;5;124m\"\u001b[39m\u001b[38;5;124mGarima\u001b[39m\u001b[38;5;124m\"\u001b[39m, \u001b[38;5;241m32\u001b[39m, \u001b[38;5;241m45\u001b[39m, \u001b[38;5;241m67\u001b[39m, \u001b[38;5;241m77\u001b[39m, \u001b[38;5;241m44\u001b[39m, \u001b[38;5;241m265\u001b[39m, \u001b[38;5;241m77\u001b[39m, \u001b[38;5;124m\"\u001b[39m\u001b[38;5;124mB\u001b[39m\u001b[38;5;124m\"\u001b[39m)\n\u001b[1;32m---> 29\u001b[0m db\u001b[38;5;241m.\u001b[39mexecute(sql, values)\n\u001b[0;32m     30\u001b[0m database\u001b[38;5;241m.\u001b[39mcommit()\n",
      "File \u001b[1;32m~\\anaconda3\\Lib\\site-packages\\mysql\\connector\\cursor.py:551\u001b[0m, in \u001b[0;36mMySQLCursor.execute\u001b[1;34m(self, operation, params, multi)\u001b[0m\n\u001b[0;32m    549\u001b[0m \u001b[38;5;28;01melse\u001b[39;00m:\n\u001b[0;32m    550\u001b[0m     \u001b[38;5;28;01mtry\u001b[39;00m:\n\u001b[1;32m--> 551\u001b[0m         \u001b[38;5;28mself\u001b[39m\u001b[38;5;241m.\u001b[39m_handle_result(\u001b[38;5;28mself\u001b[39m\u001b[38;5;241m.\u001b[39m_connection\u001b[38;5;241m.\u001b[39mcmd_query(stmt))\n\u001b[0;32m    552\u001b[0m     \u001b[38;5;28;01mexcept\u001b[39;00m errors\u001b[38;5;241m.\u001b[39mInterfaceError:\n\u001b[0;32m    553\u001b[0m         \u001b[38;5;28;01mif\u001b[39;00m \u001b[38;5;28mself\u001b[39m\u001b[38;5;241m.\u001b[39m_connection\u001b[38;5;241m.\u001b[39m_have_next_result:  \u001b[38;5;66;03m# pylint: disable=W0212\u001b[39;00m\n",
      "File \u001b[1;32m~\\anaconda3\\Lib\\site-packages\\mysql\\connector\\connection.py:490\u001b[0m, in \u001b[0;36mMySQLConnection.cmd_query\u001b[1;34m(self, query, raw, buffered, raw_as_string)\u001b[0m\n\u001b[0;32m    488\u001b[0m \u001b[38;5;28;01mif\u001b[39;00m \u001b[38;5;129;01mnot\u001b[39;00m \u001b[38;5;28misinstance\u001b[39m(query, \u001b[38;5;28mbytes\u001b[39m):\n\u001b[0;32m    489\u001b[0m     query \u001b[38;5;241m=\u001b[39m query\u001b[38;5;241m.\u001b[39mencode(\u001b[38;5;124m'\u001b[39m\u001b[38;5;124mutf-8\u001b[39m\u001b[38;5;124m'\u001b[39m)\n\u001b[1;32m--> 490\u001b[0m result \u001b[38;5;241m=\u001b[39m \u001b[38;5;28mself\u001b[39m\u001b[38;5;241m.\u001b[39m_handle_result(\u001b[38;5;28mself\u001b[39m\u001b[38;5;241m.\u001b[39m_send_cmd(ServerCmd\u001b[38;5;241m.\u001b[39mQUERY, query))\n\u001b[0;32m    492\u001b[0m \u001b[38;5;28;01mif\u001b[39;00m \u001b[38;5;28mself\u001b[39m\u001b[38;5;241m.\u001b[39m_have_next_result:\n\u001b[0;32m    493\u001b[0m     \u001b[38;5;28;01mraise\u001b[39;00m errors\u001b[38;5;241m.\u001b[39mInterfaceError(\n\u001b[0;32m    494\u001b[0m         \u001b[38;5;124m'\u001b[39m\u001b[38;5;124mUse cmd_query_iter for statements with multiple queries.\u001b[39m\u001b[38;5;124m'\u001b[39m)\n",
      "File \u001b[1;32m~\\anaconda3\\Lib\\site-packages\\mysql\\connector\\connection.py:395\u001b[0m, in \u001b[0;36mMySQLConnection._handle_result\u001b[1;34m(self, packet)\u001b[0m\n\u001b[0;32m    393\u001b[0m     \u001b[38;5;28;01mreturn\u001b[39;00m \u001b[38;5;28mself\u001b[39m\u001b[38;5;241m.\u001b[39m_handle_eof(packet)\n\u001b[0;32m    394\u001b[0m \u001b[38;5;28;01melif\u001b[39;00m packet[\u001b[38;5;241m4\u001b[39m] \u001b[38;5;241m==\u001b[39m \u001b[38;5;241m255\u001b[39m:\n\u001b[1;32m--> 395\u001b[0m     \u001b[38;5;28;01mraise\u001b[39;00m errors\u001b[38;5;241m.\u001b[39mget_exception(packet)\n\u001b[0;32m    397\u001b[0m \u001b[38;5;66;03m# We have a text result set\u001b[39;00m\n\u001b[0;32m    398\u001b[0m column_count \u001b[38;5;241m=\u001b[39m \u001b[38;5;28mself\u001b[39m\u001b[38;5;241m.\u001b[39m_protocol\u001b[38;5;241m.\u001b[39mparse_column_count(packet)\n",
      "\u001b[1;31mIntegrityError\u001b[0m: 1062 (23000): Duplicate entry '7' for key 'PRIMARY'"
     ]
    }
   ],
   "source": [
    "#creating a database\n",
    "import mysql.connector\n",
    "database=mysql.connector.connect(\n",
    "    host=\"localhost\",\n",
    "    user=\"root\",\n",
    "    password=\"\"\n",
    ")\n",
    "db=database.cursor()\n",
    "db.execute(\"CREATE DATABASE IF NOT EXISTS python_class\")\n",
    "db.execute(\"USE python_class\")\n",
    "\n",
    "db.execute(\"\"\"\n",
    "    CREATE TABLE IF NOT EXISTS student (\n",
    "        sn INT PRIMARY KEY,\n",
    "        name VARCHAR(50),\n",
    "        physics INT,\n",
    "        chemistry INT,\n",
    "        nepali INT,\n",
    "        java INT,\n",
    "        maths INT,\n",
    "        total INT,\n",
    "        per FLOAT,\n",
    "        grade VARCHAR(2)\n",
    "    )\n",
    "\"\"\")\n",
    "#INSERT DATA\n",
    "sql = \"INSERT INTO student(sn,name,physics,chemistry,nepali,java,maths,total,per,grade) VALUES (%s,%s,%s,%s,%s,%s,%s,%s,%s,%s)\"\n",
    "values = (7, \"Garima\", 32, 45, 67, 77, 44, 265, 77, \"B\")\n",
    "db.execute(sql, values)\n",
    "database.commit()  # Don't forget to commit the changes\n"
   ]
  },
  {
   "cell_type": "code",
   "execution_count": 28,
   "id": "6bee1ecb-e8b3-4b7d-ab51-1bfefea9b221",
   "metadata": {},
   "outputs": [
    {
     "name": "stdout",
     "output_type": "stream",
     "text": [
      "(2, 'Bina', 32, 45, 67, 77, 44, 265, 77.0, 'B')\n",
      "(3, 'Sita', 54, 67, 45, 23, 56, 34, 400.0, 'A')\n",
      "(7, 'Garima', 32, 45, 67, 77, 44, 265, 77.0, 'B')\n"
     ]
    }
   ],
   "source": [
    "#fetching data\n",
    "db.execute(\"SELECT * FROM student\")\n",
    "result = db.fetchall()\n",
    "for x in result:\n",
    "    print(x)"
   ]
  },
  {
   "cell_type": "code",
   "execution_count": 30,
   "id": "09efb564-cb9c-4d58-b200-57f9fcb4286a",
   "metadata": {},
   "outputs": [
    {
     "name": "stdout",
     "output_type": "stream",
     "text": [
      "(2, 'Bina', 32, 45, 67, 77, 44, 265, 77.0, 'B')\n",
      "(3, 'Sita', 54, 67, 45, 23, 56, 34, 400.0, 'A')\n",
      "(7, 'Garima', 32, 45, 67, 77, 44, 265, 77.0, 'B')\n"
     ]
    }
   ],
   "source": [
    "#fetching data\n",
    "db.execute(\"SELECT * FROM student\")\n",
    "result = db.fetchall()\n",
    "for x in result:\n",
    "    print(x)"
   ]
  },
  {
   "cell_type": "code",
   "execution_count": 32,
   "id": "31c7bbc7-bad2-4d03-84d6-ba4b2adcf43d",
   "metadata": {},
   "outputs": [
    {
     "name": "stdout",
     "output_type": "stream",
     "text": [
      "0 record(s) deleted\n"
     ]
    }
   ],
   "source": [
    "#Delete in sql\n",
    "sql = \"DELETE FROM student WHERE sn = 29\"\n",
    "db.execute(sql)\n",
    "database.commit()\n",
    "print(db.rowcount, \"record(s) deleted\")"
   ]
  },
  {
   "cell_type": "code",
   "execution_count": 34,
   "id": "868bf427-8c93-4c60-99c5-50cc296d21b2",
   "metadata": {},
   "outputs": [
    {
     "name": "stdout",
     "output_type": "stream",
     "text": [
      "(3, 'Sita', 54, 67, 45, 23, 56, 34, 400.0, 'A')\n"
     ]
    }
   ],
   "source": [
    "# Select\n",
    "db.execute(\"SELECT * FROM student WHERE grade = 'A'\")\n",
    "result =db.fetchall()\n",
    "for x in result:\n",
    "    print(x)"
   ]
  },
  {
   "cell_type": "code",
   "execution_count": 38,
   "id": "8d51e638-8f2d-4351-b902-7050b8d35a60",
   "metadata": {},
   "outputs": [],
   "source": [
    "# Select\n",
    "db.execute(\"SELECT * FROM student WHERE physics > 70\")\n",
    "result =db.fetchall()\n",
    "for x in result:\n",
    "    print(x)"
   ]
  },
  {
   "cell_type": "code",
   "execution_count": 7,
   "id": "649bb30e-121c-4672-9cab-96affdc84adf",
   "metadata": {},
   "outputs": [],
   "source": [
    "# search\n",
    "db.execute(\"SELECT * FROM student WHERE name LIKE '%ram%'\")\n",
    "result =db.fetchall()\n",
    "for x in result:\n",
    "    print(x)"
   ]
  },
  {
   "cell_type": "code",
   "execution_count": 9,
   "id": "2df3dea8-f35c-4d6e-856e-118f8bab0fe6",
   "metadata": {},
   "outputs": [],
   "source": [
    "# Select\n",
    "db.execute(\"SELECT * FROM student WHERE physics > 80 and chemistry=80\")\n",
    "result =db.fetchall()\n",
    "for x in result:\n",
    "    print(x)"
   ]
  },
  {
   "cell_type": "code",
   "execution_count": 11,
   "id": "b775ac9f-7f14-4cdb-8bff-ff4266dc3677",
   "metadata": {},
   "outputs": [
    {
     "name": "stdout",
     "output_type": "stream",
     "text": [
      "('Bina', 265, 77.0, 'B')\n",
      "('Sita', 34, 400.0, 'A')\n",
      "('Garima', 265, 77.0, 'B')\n"
     ]
    }
   ],
   "source": [
    "# Select\n",
    "db.execute(\"SELECT name,total,per,grade FROM student\")\n",
    "result =db.fetchall()\n",
    "for x in result:\n",
    "    print(x)"
   ]
  },
  {
   "cell_type": "code",
   "execution_count": 13,
   "id": "d3830c94-81ce-481d-8bbc-3a666e27c4e2",
   "metadata": {},
   "outputs": [
    {
     "name": "stdout",
     "output_type": "stream",
     "text": [
      "(2, 'Bina', 32, 45, 67, 77, 44, 265, 77.0, 'B')\n",
      "(7, 'Garima', 32, 45, 67, 77, 44, 265, 77.0, 'B')\n",
      "(3, 'Sita', 54, 67, 45, 23, 56, 34, 400.0, 'A')\n"
     ]
    }
   ],
   "source": [
    "# Select\n",
    "db.execute(\"SELECT * FROM student ORDER BY total DESC\")\n",
    "result =db.fetchall()\n",
    "for x in result:\n",
    "    print(x)"
   ]
  },
  {
   "cell_type": "code",
   "execution_count": 15,
   "id": "79e5bb8f-e79f-4db9-9c85-8ec86c8ec647",
   "metadata": {},
   "outputs": [
    {
     "name": "stdout",
     "output_type": "stream",
     "text": [
      "(2, 'Bina', 32, 45, 67, 77, 44, 265, 77.0, 'B')\n",
      "(7, 'Garima', 32, 45, 67, 77, 44, 265, 77.0, 'B')\n",
      "(3, 'Sita', 54, 67, 45, 23, 56, 34, 400.0, 'A')\n"
     ]
    }
   ],
   "source": [
    "# Select\n",
    "db.execute(\"SELECT * FROM student ORDER BY total DESC\")\n",
    "result =db.fetchall()\n",
    "for x in result[0:10]:\n",
    "    print(x)"
   ]
  },
  {
   "cell_type": "code",
   "execution_count": null,
   "id": "7fdf6e1b-40c3-4007-8c98-cea6e9f3f0bd",
   "metadata": {},
   "outputs": [],
   "source": []
  }
 ],
 "metadata": {
  "kernelspec": {
   "display_name": "Python [conda env:base] *",
   "language": "python",
   "name": "conda-base-py"
  },
  "language_info": {
   "codemirror_mode": {
    "name": "ipython",
    "version": 3
   },
   "file_extension": ".py",
   "mimetype": "text/x-python",
   "name": "python",
   "nbconvert_exporter": "python",
   "pygments_lexer": "ipython3",
   "version": "3.12.7"
  }
 },
 "nbformat": 4,
 "nbformat_minor": 5
}
