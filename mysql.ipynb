{
 "cells": [
  {
   "cell_type": "code",
   "execution_count": 2,
   "id": "b8c0798c-5161-42c5-9b71-3493f0b3bd42",
   "metadata": {},
   "outputs": [
    {
     "name": "stdout",
     "output_type": "stream",
     "text": [
      "Collecting mysql-connectorNote: you may need to restart the kernel to use updated packages.\n",
      "\n",
      "  Downloading mysql-connector-2.2.9.tar.gz (11.9 MB)\n",
      "     ---------------------------------------- 0.0/11.9 MB ? eta -:--:--\n",
      "     -- ------------------------------------- 0.8/11.9 MB 11.2 MB/s eta 0:00:01\n",
      "     ------------- -------------------------- 3.9/11.9 MB 18.1 MB/s eta 0:00:01\n",
      "     ------------------------------- -------- 9.4/11.9 MB 19.6 MB/s eta 0:00:01\n",
      "     --------------------------------------- 11.9/11.9 MB 18.1 MB/s eta 0:00:00\n",
      "  Preparing metadata (setup.py): started\n",
      "  Preparing metadata (setup.py): finished with status 'done'\n",
      "Building wheels for collected packages: mysql-connector\n",
      "  Building wheel for mysql-connector (setup.py): started\n",
      "  Building wheel for mysql-connector (setup.py): finished with status 'done'\n",
      "  Created wheel for mysql-connector: filename=mysql_connector-2.2.9-cp312-cp312-win_amd64.whl size=247959 sha256=5e00459297423dc5987f866ca4bf1405b9403c771ddc974414b985a0e553e109\n",
      "  Stored in directory: c:\\users\\user\\appdata\\local\\pip\\cache\\wheels\\03\\17\\fa\\d7604c72dd3dd6d3eb3d249abf36cc532c9a9b4354b8f1bc4f\n",
      "Successfully built mysql-connector\n",
      "Installing collected packages: mysql-connector\n",
      "Successfully installed mysql-connector-2.2.9\n"
     ]
    }
   ],
   "source": [
    "pip install mysql-connector"
   ]
  },
  {
   "cell_type": "code",
   "execution_count": 5,
   "id": "63878072-ca8e-40d8-88ad-d7f6c8b57abe",
   "metadata": {},
   "outputs": [],
   "source": [
    "import mysql.connector\n",
    "#importing database\n",
    "database = mysql.connector.connect(\n",
    "host=\"localhost\",\n",
    "user= \"root\",\n",
    "password=\"\",\n",
    "database=\"python_class\"\n",
    ")\n",
    "db=database.cursor()"
   ]
  },
  {
   "cell_type": "code",
   "execution_count": 7,
   "id": "ae908534-9e2a-4801-ae9b-bda0112a7f1b",
   "metadata": {},
   "outputs": [
    {
     "name": "stdout",
     "output_type": "stream",
     "text": [
      "1 record inserted.\n"
     ]
    }
   ],
   "source": [
    "#insert data into table\n",
    "sql='''INSERT INTO `student` (`sn`,`name`,`physics`,`chemistry`,`nepali`,`java`,`maths`,`total`,`per`,`grade`)\n",
    "VALUES(3,'Sita',54,67,45,23,56,34,400,'A');'''\n",
    "db.execute(sql)\n",
    "database.commit()\n",
    "print(db.rowcount,\"record inserted.\")"
   ]
  },
  {
   "cell_type": "markdown",
   "id": "5ea0c71a-fe49-4a92-8062-cb2e83148e77",
   "metadata": {},
   "source": [
    "2#### name = input(\"Enter name = \")\n",
    "physics = int(input(\"Enter physics marks= \"))\n",
    "chemistry = int(input(\"Enter chemistry marks= \"))\n",
    "math = int(input(\"Enter math marks= \"))\n",
    "english = int(input(\"Enter english marks= \"))\n",
    "nepali = int(input(\"Enter nepali marks= \"))\n",
    "\n",
    "total = physics + chemistry + math + english + nepali\n",
    "per = total/5\n",
    "\n",
    "if per >= 80:\n",
    "    grade = \"A\"\n",
    "elif per >= 60:\n",
    "    grade = \"B\"\n",
    "elif per >= 45:\n",
    "    grade = \"C\"\n",
    "else:\n",
    "    grade = \"F\"\n",
    "    \n",
    "\n",
    "#insert data into table\n",
    "sql = f''' INSERT INTO student (name, physics, chemistry, math, english, nepali, total, per, grade)\n",
    "        VALUES ('{name}', {physics}, {chemistry}, {math}, {english}, {nepali}, {total}, {per}, '{grade}')'''\n",
    "db.execute(sql)\n",
    "database.commit()\n",
    "print(db.rowcount, \"record inserted.\")"
   ]
  },
  {
   "cell_type": "code",
   "execution_count": null,
   "id": "a0951ec1-0584-4def-90e8-591b9a2b30d3",
   "metadata": {},
   "outputs": [],
   "source": []
  }
 ],
 "metadata": {
  "kernelspec": {
   "display_name": "Python [conda env:base] *",
   "language": "python",
   "name": "conda-base-py"
  },
  "language_info": {
   "codemirror_mode": {
    "name": "ipython",
    "version": 3
   },
   "file_extension": ".py",
   "mimetype": "text/x-python",
   "name": "python",
   "nbconvert_exporter": "python",
   "pygments_lexer": "ipython3",
   "version": "3.12.7"
  }
 },
 "nbformat": 4,
 "nbformat_minor": 5
}
