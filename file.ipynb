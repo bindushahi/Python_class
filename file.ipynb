{
 "cells": [
  {
   "cell_type": "code",
   "execution_count": null,
   "id": "517432ff-b0d8-4967-9c60-af22f39003c0",
   "metadata": {},
   "outputs": [],
   "source": [
    "# file\n",
    "# open('<file_name>','<mode>')\n",
    "\n",
    "#close ni garna parcha \n",
    "# with open('<file_name>','<mode>'):\n",
    "#     <operations>\n",
    "\n",
    "# modes\n",
    "# r -> read\n",
    "# w -> write\n",
    "# x -> create\n",
    "# a -> append"
   ]
  },
  {
   "cell_type": "code",
   "execution_count": 6,
   "id": "6648fc4a-202e-4225-83c6-20c1f9168e91",
   "metadata": {},
   "outputs": [],
   "source": [
    "#create also called exceptional handling\n",
    "try:\n",
    "    file = open('data.txt','x')   #jun code ma error auna sakcha \n",
    "    file.close()\n",
    "except:\n",
    "    print(\"There is same file!\")"
   ]
  },
  {
   "cell_type": "code",
   "execution_count": 4,
   "id": "1acfc213-f214-4548-a815-acb2e7c09710",
   "metadata": {},
   "outputs": [],
   "source": [
    "#write    override gardincha (paila ko lai delete garera naya rakhcha)\n",
    "data = \"Hello World\"\n",
    "file = open('data1.txt','w')\n",
    "file.write(data)   #check if file is there or not\n",
    "file.close()"
   ]
  },
  {
   "cell_type": "code",
   "execution_count": null,
   "id": "a01fd4b4-11f0-49da-88b7-93dbf326d658",
   "metadata": {},
   "outputs": [],
   "source": [
    "#append   kunai naya add gardincha\n",
    "data = \"Hello World\\n\"\n",
    "file = open('data1.txt','a')\n",
    "file.write(data)\n",
    "file.close()"
   ]
  },
  {
   "cell_type": "code",
   "execution_count": null,
   "id": "4da11a31-1ae0-472d-b6aa-83a640412a90",
   "metadata": {},
   "outputs": [],
   "source": [
    "#read   (read means content lai memory ma store garney)\n",
    "file = open('data.txt','r')\n",
    "my_data = file.read()\n",
    "print(my_data)\n",
    "file.close()"
   ]
  },
  {
   "cell_type": "code",
   "execution_count": 2,
   "id": "a1060442-01fd-4e2c-aba8-4114cf41d8a2",
   "metadata": {},
   "outputs": [
    {
     "name": "stdin",
     "output_type": "stream",
     "text": [
      "Enter n =  2\n",
      "Enter Product name =  Banana\n",
      "Enter price =  300\n",
      "Enter quantity =  2\n",
      "Enter Product name =  Bjfk\n",
      "Enter price =  300\n",
      "Enter quantity =  2\n"
     ]
    }
   ],
   "source": [
    "# Bill system\n",
    "bill = \"\"\n",
    "n = int(input(\"Enter n = \"))\n",
    "for i in range(n):\n",
    "    product = input(\"Enter Product name = \")\n",
    "    price = int(input(\"Enter price = \"))\n",
    "    qty = float(input(\"Enter quantity = \"))\n",
    "    total = price * qty\n",
    "    row = f\"{product} {price} {qty} {total}\\n\"\n",
    "    bill = bill + row\n",
    "\n",
    "file = open('bill.txt','a')\n",
    "file.write(bill)\n",
    "file.close()"
   ]
  },
  {
   "cell_type": "code",
   "execution_count": 4,
   "id": "d7829872-3f67-440b-ac3c-87bcdb1615a5",
   "metadata": {},
   "outputs": [
    {
     "name": "stdout",
     "output_type": "stream",
     "text": [
      "Banana 300 2.0 600.0\n",
      "Bjfk 300 2.0 600.0\n",
      "\n"
     ]
    }
   ],
   "source": [
    "#read\n",
    "file = open('bill.txt','r')\n",
    "my_data = file.read()\n",
    "print(my_data)\n",
    "file.close()"
   ]
  },
  {
   "cell_type": "code",
   "execution_count": 6,
   "id": "bc4440e9-3ec9-4dd6-8b5a-d917224ab478",
   "metadata": {},
   "outputs": [
    {
     "data": {
      "text/plain": [
       "'Banana 300 2.0 600.0\\nBjfk 300 2.0 600.0\\n'"
      ]
     },
     "execution_count": 6,
     "metadata": {},
     "output_type": "execute_result"
    }
   ],
   "source": [
    "my_data"
   ]
  },
  {
   "cell_type": "code",
   "execution_count": 8,
   "id": "21c1eea0-392d-4761-a7d4-680cb53d5f70",
   "metadata": {},
   "outputs": [
    {
     "data": {
      "text/plain": [
       "['Banana 300 2.0 600.0', 'Bjfk 300 2.0 600.0']"
      ]
     },
     "execution_count": 8,
     "metadata": {},
     "output_type": "execute_result"
    }
   ],
   "source": [
    "row = my_data.split('\\n')[0:-1]\n",
    "row"
   ]
  },
  {
   "cell_type": "code",
   "execution_count": 10,
   "id": "d2037c7a-81e9-4462-94c9-482256a07b5e",
   "metadata": {},
   "outputs": [
    {
     "data": {
      "text/plain": [
       "[['Banana', 300, 2.0, 600.0], ['Bjfk', 300, 2.0, 600.0]]"
      ]
     },
     "execution_count": 10,
     "metadata": {},
     "output_type": "execute_result"
    }
   ],
   "source": [
    "bills = []\n",
    "for i in row:\n",
    "    x = i.split()\n",
    "    x[1] = int(x[1])\n",
    "    x[2] = float(x[2])\n",
    "    x[3] = float(x[3])\n",
    "\n",
    "    bills.append(x)\n",
    "\n",
    "bills"
   ]
  },
  {
   "cell_type": "code",
   "execution_count": 12,
   "id": "5ad302b5-e26b-447c-853f-3c5935f160d1",
   "metadata": {},
   "outputs": [
    {
     "name": "stdout",
     "output_type": "stream",
     "text": [
      "1200.0\n"
     ]
    }
   ],
   "source": [
    "s = 0\n",
    "for i in bills:\n",
    "    s = s+ i[3]\n",
    "print(s)"
   ]
  },
  {
   "cell_type": "code",
   "execution_count": null,
   "id": "41f9780f-e69f-4961-a4a3-74e9fc4c22a6",
   "metadata": {},
   "outputs": [
    {
     "name": "stdin",
     "output_type": "stream",
     "text": [
      "Enter n =  2\n"
     ]
    }
   ],
   "source": [
    "# Bill system\n",
    "bill = \"\"\n",
    "s = 0\n",
    "n = int(input(\"Enter n = \"))\n",
    "for i in range(n):\n",
    "    product = input(\"Enter Product name = \")\n",
    "    price = int(input(\"Enter price = \"))\n",
    "    qty = float(input(\"Enter quantity = \"))\n",
    "    total = price * qty\n",
    "    row = f\"{product},{price},{qty},{total}\\n\"\n",
    "    bill = bill + row\n",
    "    s = s + total\n",
    "#write mode          for individual person lai bill banayera dina parey\n",
    "file = open('bill.csv','w')      \n",
    "file.write('Product,Price,Quantity,Total\\n')\n",
    "file.write(f\"{bill}\\n\")\n",
    "file.write(f\"Total = {s}\")\n",
    "file.close()\n",
    "\n",
    "#append  each and everything print garna ko lagi\n",
    "file = open('all_bill.csv','a')\n",
    "file.write(bill)\n",
    "file.close()"
   ]
  },
  {
   "cell_type": "code",
   "execution_count": 8,
   "id": "9c91ef9e-10c0-4b3f-bfda-dffd01116f47",
   "metadata": {},
   "outputs": [
    {
     "data": {
      "text/plain": [
       "'C:\\\\Users\\\\user\\\\Desktop\\\\Python_class'"
      ]
     },
     "execution_count": 8,
     "metadata": {},
     "output_type": "execute_result"
    }
   ],
   "source": [
    "pwd"
   ]
  },
  {
   "cell_type": "code",
   "execution_count": 3,
   "id": "7967f165-18ae-403e-8aad-4d499027fb47",
   "metadata": {},
   "outputs": [],
   "source": [
    "#working on csv file\n",
    "import csv\n",
    "bill=[['Name','Price','Quantity','Total'],\n",
    "      ['Apple','1000','2','2000'],\n",
    "      ['Banana','100','1','100'],\n",
    "      ['Guava','200','3','600'],\n",
    "      ['Pineapple','500','1','500']]\n",
    "\n",
    "file=open('list_bill.csv','w')\n",
    "x=csv.writer(file)\n",
    "x.writerows(bill)\n",
    "file.close()"
   ]
  },
  {
   "cell_type": "code",
   "execution_count": 5,
   "id": "21299494-e115-4dbc-9cce-ffc37c69de82",
   "metadata": {},
   "outputs": [
    {
     "data": {
      "text/html": [
       "<div>\n",
       "<style scoped>\n",
       "    .dataframe tbody tr th:only-of-type {\n",
       "        vertical-align: middle;\n",
       "    }\n",
       "\n",
       "    .dataframe tbody tr th {\n",
       "        vertical-align: top;\n",
       "    }\n",
       "\n",
       "    .dataframe thead th {\n",
       "        text-align: right;\n",
       "    }\n",
       "</style>\n",
       "<table border=\"1\" class=\"dataframe\">\n",
       "  <thead>\n",
       "    <tr style=\"text-align: right;\">\n",
       "      <th></th>\n",
       "      <th>Name</th>\n",
       "      <th>Price</th>\n",
       "      <th>Quantity</th>\n",
       "      <th>Total</th>\n",
       "    </tr>\n",
       "  </thead>\n",
       "  <tbody>\n",
       "    <tr>\n",
       "      <th>0</th>\n",
       "      <td>Apple</td>\n",
       "      <td>1000</td>\n",
       "      <td>2</td>\n",
       "      <td>2000</td>\n",
       "    </tr>\n",
       "    <tr>\n",
       "      <th>1</th>\n",
       "      <td>Banana</td>\n",
       "      <td>100</td>\n",
       "      <td>1</td>\n",
       "      <td>100</td>\n",
       "    </tr>\n",
       "    <tr>\n",
       "      <th>2</th>\n",
       "      <td>Guava</td>\n",
       "      <td>200</td>\n",
       "      <td>3</td>\n",
       "      <td>600</td>\n",
       "    </tr>\n",
       "    <tr>\n",
       "      <th>3</th>\n",
       "      <td>Pineapple</td>\n",
       "      <td>500</td>\n",
       "      <td>1</td>\n",
       "      <td>500</td>\n",
       "    </tr>\n",
       "  </tbody>\n",
       "</table>\n",
       "</div>"
      ],
      "text/plain": [
       "        Name  Price  Quantity  Total\n",
       "0      Apple   1000         2   2000\n",
       "1     Banana    100         1    100\n",
       "2      Guava    200         3    600\n",
       "3  Pineapple    500         1    500"
      ]
     },
     "execution_count": 5,
     "metadata": {},
     "output_type": "execute_result"
    }
   ],
   "source": [
    "import pandas as pd\n",
    "file=pd.read_csv('list_bill.csv')\n",
    "file"
   ]
  },
  {
   "cell_type": "code",
   "execution_count": 7,
   "id": "710b145e-fe73-43ad-8a5a-7b67fcc1c247",
   "metadata": {},
   "outputs": [
    {
     "data": {
      "text/html": [
       "<div>\n",
       "<style scoped>\n",
       "    .dataframe tbody tr th:only-of-type {\n",
       "        vertical-align: middle;\n",
       "    }\n",
       "\n",
       "    .dataframe tbody tr th {\n",
       "        vertical-align: top;\n",
       "    }\n",
       "\n",
       "    .dataframe thead th {\n",
       "        text-align: right;\n",
       "    }\n",
       "</style>\n",
       "<table border=\"1\" class=\"dataframe\">\n",
       "  <thead>\n",
       "    <tr style=\"text-align: right;\">\n",
       "      <th></th>\n",
       "      <th>Name</th>\n",
       "      <th>Price</th>\n",
       "      <th>Quantity</th>\n",
       "      <th>Total</th>\n",
       "    </tr>\n",
       "  </thead>\n",
       "  <tbody>\n",
       "    <tr>\n",
       "      <th>0</th>\n",
       "      <td>Apple</td>\n",
       "      <td>1000</td>\n",
       "      <td>2</td>\n",
       "      <td>2000</td>\n",
       "    </tr>\n",
       "    <tr>\n",
       "      <th>1</th>\n",
       "      <td>Banana</td>\n",
       "      <td>100</td>\n",
       "      <td>1</td>\n",
       "      <td>100</td>\n",
       "    </tr>\n",
       "    <tr>\n",
       "      <th>2</th>\n",
       "      <td>Guava</td>\n",
       "      <td>200</td>\n",
       "      <td>3</td>\n",
       "      <td>600</td>\n",
       "    </tr>\n",
       "    <tr>\n",
       "      <th>3</th>\n",
       "      <td>Pineapple</td>\n",
       "      <td>500</td>\n",
       "      <td>1</td>\n",
       "      <td>500</td>\n",
       "    </tr>\n",
       "  </tbody>\n",
       "</table>\n",
       "</div>"
      ],
      "text/plain": [
       "        Name Price Quantity Total\n",
       "0      Apple  1000        2  2000\n",
       "1     Banana   100        1   100\n",
       "2      Guava   200        3   600\n",
       "3  Pineapple   500        1   500"
      ]
     },
     "execution_count": 7,
     "metadata": {},
     "output_type": "execute_result"
    }
   ],
   "source": [
    "col=['Name','Price','Quantity','Total']\n",
    "bill=[\n",
    "      ['Apple','1000','2','2000'],\n",
    "      ['Banana','100','1','100'],\n",
    "      ['Guava','200','3','600'],\n",
    "      ['Pineapple','500','1','500']]\n",
    "df=pd.DataFrame(bill,columns=col)\n",
    "df"
   ]
  },
  {
   "cell_type": "code",
   "execution_count": null,
   "id": "2e8364c8-bcfb-40f8-9956-cecd5ce84ced",
   "metadata": {},
   "outputs": [],
   "source": []
  }
 ],
 "metadata": {
  "kernelspec": {
   "display_name": "Python [conda env:base] *",
   "language": "python",
   "name": "conda-base-py"
  },
  "language_info": {
   "codemirror_mode": {
    "name": "ipython",
    "version": 3
   },
   "file_extension": ".py",
   "mimetype": "text/x-python",
   "name": "python",
   "nbconvert_exporter": "python",
   "pygments_lexer": "ipython3",
   "version": "3.12.7"
  }
 },
 "nbformat": 4,
 "nbformat_minor": 5
}
