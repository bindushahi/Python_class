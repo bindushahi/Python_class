{
 "cells": [
  {
   "cell_type": "code",
   "execution_count": null,
   "id": "977550ff-0ef9-4971-b22e-bdf82ec551ec",
   "metadata": {},
   "outputs": [],
   "source": [
    "#syntax in oop\n",
    "#class <class_name> : #defining class\n",
    "# <methods>\n",
    "#obj=<class_name>()  #object"
   ]
  },
  {
   "cell_type": "code",
   "execution_count": 4,
   "id": "04987a6b-cf0f-4885-8c0d-58bae758bd4d",
   "metadata": {},
   "outputs": [
    {
     "name": "stdout",
     "output_type": "stream",
     "text": [
      "Hello world\n"
     ]
    }
   ],
   "source": [
    "class Hello:                #class\n",
    "    def hello(self):             #method self ko satta j ni use garna sakcham just to use class inside it\n",
    "        print(\"Hello world\")        \n",
    "obj=Hello()                    #object\n",
    "obj.hello()                    #calling method"
   ]
  },
  {
   "cell_type": "code",
   "execution_count": null,
   "id": "1979a660-8b76-4fd3-85a0-1de51ea80b6e",
   "metadata": {},
   "outputs": [],
   "source": [
    "class Hello:                #class\n",
    "    @staticmethod        #also called decorator  afaile attribute liyera kaam garney\n",
    "    def hello(self):             #method\n",
    "        print(\"Hello world\")        \n",
    "obj=Hello()                    #object\n",
    "obj.hello()                    #calling method"
   ]
  },
  {
   "cell_type": "code",
   "execution_count": 10,
   "id": "da5e1563-12bc-4b54-925f-e62db417f234",
   "metadata": {},
   "outputs": [
    {
     "name": "stdout",
     "output_type": "stream",
     "text": [
      "20\n"
     ]
    }
   ],
   "source": [
    "class Area:\n",
    "    def area(self,l,b):    #if attribute has to be used later, then put it here l and b are private properties of function\n",
    "        a=l*b\n",
    "        print(a)\n",
    "obj=Area()\n",
    "obj.area(10,2)"
   ]
  },
  {
   "cell_type": "code",
   "execution_count": 12,
   "id": "26444c7e-7d88-4d70-b25d-4f30c72f76c4",
   "metadata": {},
   "outputs": [
    {
     "name": "stdout",
     "output_type": "stream",
     "text": [
      "20\n"
     ]
    }
   ],
   "source": [
    "class Area:\n",
    "    @staticmethod\n",
    "    def area(l,b):    \n",
    "        a=l*b\n",
    "        print(a)\n",
    "obj=Area()\n",
    "obj.area(10,2)"
   ]
  },
  {
   "cell_type": "code",
   "execution_count": null,
   "id": "8bda58dd-53ec-4ed4-b5a7-d83f64aac72a",
   "metadata": {},
   "outputs": [],
   "source": [
    "#__init__()   initialization in class"
   ]
  },
  {
   "cell_type": "code",
   "execution_count": 24,
   "id": "3a91e585-9741-4798-a947-2bdd5dc3fcf8",
   "metadata": {},
   "outputs": [
    {
     "name": "stdout",
     "output_type": "stream",
     "text": [
      "50\n"
     ]
    }
   ],
   "source": [
    "class Area:\n",
    "    def __init__(self,l,b):\n",
    "        self.length=l\n",
    "        self.breadth=b\n",
    "\n",
    "    \n",
    "    def area(self):    \n",
    "        a=self.length*self.breadth\n",
    "        print(a)\n",
    "\n",
    "\n",
    "obj=Area(10,5)\n",
    "obj.area()"
   ]
  },
  {
   "cell_type": "code",
   "execution_count": 32,
   "id": "e618ce3b-bca1-4f8f-8f74-0bdef90609d3",
   "metadata": {},
   "outputs": [
    {
     "name": "stdout",
     "output_type": "stream",
     "text": [
      "30\n",
      "150\n"
     ]
    }
   ],
   "source": [
    "class Cal:\n",
    "    def __init__(self,l,b,h):\n",
    "        self.length=l\n",
    "        self.breadth=b\n",
    "        self.height=h\n",
    "    \n",
    "    def area(self):    \n",
    "        a=self.length*self.breadth\n",
    "        print(a)\n",
    "    def volume(self):    \n",
    "        v=self.length*self.breadth*self.height\n",
    "        print(v)\n",
    "\n",
    "\n",
    "obj=Cal(10,3,5)\n",
    "obj.area()\n",
    "obj.volume()"
   ]
  },
  {
   "cell_type": "code",
   "execution_count": null,
   "id": "b6e269e6-84f3-4330-9a8c-af041d38fb5f",
   "metadata": {},
   "outputs": [],
   "source": []
  }
 ],
 "metadata": {
  "kernelspec": {
   "display_name": "Python [conda env:base] *",
   "language": "python",
   "name": "conda-base-py"
  },
  "language_info": {
   "codemirror_mode": {
    "name": "ipython",
    "version": 3
   },
   "file_extension": ".py",
   "mimetype": "text/x-python",
   "name": "python",
   "nbconvert_exporter": "python",
   "pygments_lexer": "ipython3",
   "version": "3.12.7"
  }
 },
 "nbformat": 4,
 "nbformat_minor": 5
}
