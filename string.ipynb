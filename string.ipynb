{
 "cells": [
  {
   "cell_type": "code",
   "execution_count": 1,
   "id": "d91a71d4-92e3-45e7-8d88-bb96b2ec4afe",
   "metadata": {},
   "outputs": [
    {
     "name": "stdout",
     "output_type": "stream",
     "text": [
      "<class 'str'>\n",
      "<class 'str'>\n",
      "<class 'str'>\n"
     ]
    }
   ],
   "source": [
    "#string\n",
    "a='Hello'\n",
    "b=\"Hello World\"\n",
    "c='''Hello World'''\n",
    "print(type(a))\n",
    "print(type(b))\n",
    "print(type(c))\n",
    "\n",
    "\n",
    "\n"
   ]
  },
  {
   "cell_type": "code",
   "execution_count": 11,
   "id": "a5c0049e-cc3b-422d-bd8f-28a5cbe1846a",
   "metadata": {},
   "outputs": [
    {
     "name": "stdout",
     "output_type": "stream",
     "text": [
      "Hello World\n",
      "Hello World\n",
      "Hello World\n",
      "\n"
     ]
    }
   ],
   "source": [
    "#string concatination\n",
    "a=\"Hello \"\n",
    "b=\"World\"\n",
    "c=a+b\n",
    "print(c)\n",
    "\n",
    "a=\"Hello World\\n\"\n",
    "b=2\n",
    "print(a*b)"
   ]
  },
  {
   "cell_type": "code",
   "execution_count": 23,
   "id": "9c714722-d7c8-4a18-a54e-a8e57994abe0",
   "metadata": {},
   "outputs": [
    {
     "name": "stdout",
     "output_type": "stream",
     "text": [
      "e\n",
      "d\n",
      "Hello\n",
      "Hello\n",
      "World\n"
     ]
    }
   ],
   "source": [
    "#string is immutable which means once defined can't change the value)\n",
    "a=\"Hello World\"\n",
    "print(a[1])\n",
    "print(a[-1])\n",
    "\n",
    "print(a[0:5]) #string slicing\n",
    "print(a[:5])\n",
    "print(a[6:])"
   ]
  },
  {
   "cell_type": "code",
   "execution_count": null,
   "id": "3febc61e-75ae-4ad3-9a44-ec2a3f454e7c",
   "metadata": {},
   "outputs": [],
   "source": []
  }
 ],
 "metadata": {
  "kernelspec": {
   "display_name": "Python [conda env:base] *",
   "language": "python",
   "name": "conda-base-py"
  },
  "language_info": {
   "codemirror_mode": {
    "name": "ipython",
    "version": 3
   },
   "file_extension": ".py",
   "mimetype": "text/x-python",
   "name": "python",
   "nbconvert_exporter": "python",
   "pygments_lexer": "ipython3",
   "version": "3.12.7"
  }
 },
 "nbformat": 4,
 "nbformat_minor": 5
}
