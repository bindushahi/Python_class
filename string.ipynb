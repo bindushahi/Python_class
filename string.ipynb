{
 "cells": [
  {
   "cell_type": "code",
   "execution_count": 1,
   "id": "d91a71d4-92e3-45e7-8d88-bb96b2ec4afe",
   "metadata": {},
   "outputs": [
    {
     "name": "stdout",
     "output_type": "stream",
     "text": [
      "<class 'str'>\n",
      "<class 'str'>\n",
      "<class 'str'>\n"
     ]
    }
   ],
   "source": [
    "#string\n",
    "a='Hello'\n",
    "b=\"Hello World\"\n",
    "c='''Hello World'''\n",
    "print(type(a))\n",
    "print(type(b))\n",
    "print(type(c))"
   ]
  },
  {
   "cell_type": "code",
   "execution_count": 11,
   "id": "a5c0049e-cc3b-422d-bd8f-28a5cbe1846a",
   "metadata": {},
   "outputs": [
    {
     "name": "stdout",
     "output_type": "stream",
     "text": [
      "Hello World\n",
      "Hello World\n",
      "Hello World\n",
      "\n"
     ]
    }
   ],
   "source": [
    "#string concatination\n",
    "a=\"Hello \"\n",
    "b=\"World\"\n",
    "c=a+b\n",
    "print(c)\n",
    "\n",
    "a=\"Hello World\\n\"\n",
    "b=2\n",
    "print(a*b)"
   ]
  },
  {
   "cell_type": "code",
   "execution_count": 15,
   "id": "9c714722-d7c8-4a18-a54e-a8e57994abe0",
   "metadata": {},
   "outputs": [
    {
     "name": "stdout",
     "output_type": "stream",
     "text": [
      "e\n",
      "d\n",
      "Hello\n",
      "Hello\n",
      "World\n",
      "World\n",
      "11\n",
      "HloWrd\n",
      "dlroW olle\n",
      "dlroW olleH\n"
     ]
    }
   ],
   "source": [
    "#string is immutable which means once defined can't change the value)\n",
    "a=\"Hello World\"\n",
    "print(a[1])\n",
    "print(a[-1])\n",
    "\n",
    "print(a[0:5]) #string slicing\n",
    "print(a[:5])\n",
    "print(a[6:])\n",
    "print(a[6:100])\n",
    "\n",
    "#count the characters\n",
    "c=len(a)\n",
    "print(c)\n",
    "\n",
    "#increment index by 2\n",
    "print(a[0:11:2])\n",
    "\n",
    "#print inversely\n",
    "print(a[c-1:0:-1])    #logical error we did not get H\n",
    "\n",
    "#print in mirror order\n",
    "print(a[::-1])"
   ]
  },
  {
   "cell_type": "code",
   "execution_count": 27,
   "id": "7adcb7e7-5854-482d-8c41-3c3e4da4fe1c",
   "metadata": {
    "scrolled": true
   },
   "outputs": [
    {
     "name": "stdout",
     "output_type": "stream",
     "text": [
      "H\n",
      "e\n",
      "l\n",
      "l\n",
      "o\n",
      " \n",
      "W\n",
      "o\n",
      "r\n",
      "l\n",
      "d\n",
      ".\n",
      " \n",
      "I\n",
      "a\n",
      "m\n",
      " \n",
      "p\n",
      "y\n",
      "t\n",
      "h\n",
      "o\n",
      "n\n",
      "Hello World. Iam python"
     ]
    }
   ],
   "source": [
    "#indexing\n",
    "for i in a:\n",
    "    print(i)"
   ]
  },
  {
   "cell_type": "code",
   "execution_count": 29,
   "id": "27a1ee0c-6ac6-4ae8-ae1f-05aa376cba07",
   "metadata": {},
   "outputs": [
    {
     "name": "stdout",
     "output_type": "stream",
     "text": [
      "Hello World. Iam python"
     ]
    }
   ],
   "source": [
    "a=\"Hello World. Iam python\"\n",
    "l=len(a)\n",
    "for i in range(l):\n",
    "    print(a[i],end=\"\")"
   ]
  },
  {
   "cell_type": "code",
   "execution_count": 35,
   "id": "b179abfc-5bca-4ad3-b266-aa99d1d8b2b1",
   "metadata": {},
   "outputs": [
    {
     "name": "stdout",
     "output_type": "stream",
     "text": [
      "5\n",
      "12\n",
      "24\n"
     ]
    }
   ],
   "source": [
    "a=\"Hello. World. Iam python.\"\n",
    "l=len(a)\n",
    "for i in range(l):\n",
    "    if a[i]==\".\":\n",
    "        print(i)"
   ]
  },
  {
   "cell_type": "code",
   "execution_count": 6,
   "id": "03ca51ab-f970-47a8-a07a-f0290e1c39d1",
   "metadata": {},
   "outputs": [
    {
     "name": "stdout",
     "output_type": "stream",
     "text": [
      "Hello World. Iam python"
     ]
    }
   ],
   "source": [
    "#using while loop\n",
    "i=0\n",
    "a=\"Hello World. Iam python\"\n",
    "l=len(a)\n",
    "while i<l:\n",
    "    print(a[i],end=\"\")\n",
    "    i=i+1"
   ]
  },
  {
   "cell_type": "code",
   "execution_count": 4,
   "id": "9a13a411-6377-4c3d-9764-54c53d9c6000",
   "metadata": {},
   "outputs": [
    {
     "name": "stdout",
     "output_type": "stream",
     "text": [
      "11\n"
     ]
    }
   ],
   "source": [
    "i=0\n",
    "a=\"Hello World. Iam python\"\n",
    "l=len(a)\n",
    "while i<l:\n",
    "    if a[i]==\".\":\n",
    "        print(i)\n",
    "    i=i+1"
   ]
  },
  {
   "cell_type": "code",
   "execution_count": 3,
   "id": "e22e7878-01a5-47bd-b827-9ae072044999",
   "metadata": {},
   "outputs": [
    {
     "name": "stdout",
     "output_type": "stream",
     "text": [
      "Hello world Iam Ram Iam from KTM and Iam 34\n"
     ]
    }
   ],
   "source": [
    "#string formatting\n",
    "name=\"Ram\"\n",
    "add=\"KTM\"\n",
    "age=34\n",
    "# info=\"Hello world Iam \"+name+\"Iam from \"+add+\" and Iam \"+str(age)   #informal way\n",
    "\n",
    "info=f\"Hello world Iam {name} Iam from {add} and Iam {age}\"   # this is string formatting\n",
    "\n",
    "print(info)"
   ]
  },
  {
   "cell_type": "code",
   "execution_count": 15,
   "id": "de4b9599-f6bc-4e0f-bf0d-64f54aa58086",
   "metadata": {},
   "outputs": [
    {
     "name": "stdin",
     "output_type": "stream",
     "text": [
      "enter the types of products: 2\n",
      "Enter product name: ffdsa\n",
      "enter the price: 100\n",
      "Enter quantity: 1\n",
      "Enter product name: dsfef\n",
      "enter the price: 1300\n",
      "Enter quantity: 1\n"
     ]
    },
    {
     "name": "stdout",
     "output_type": "stream",
     "text": [
      "Yor bill is\n",
      " ffdsa 100 1.0 100.0\n",
      "dsfef 1300 1.0 1300.0\n",
      "\n",
      "Your total is 1400.0\n"
     ]
    }
   ],
   "source": [
    "# Initialize empty string for bill and sum variable for total\n",
    "bill=\"\"\n",
    "s=0\n",
    "\n",
    "# Get number of product types from user\n",
    "n=int(input(\"enter the types of products:\"))\n",
    "\n",
    "# Loop through each product\n",
    "for i in range(n):\n",
    "    # Get product details from user\n",
    "    product=input(\"Enter product name:\")\n",
    "    price=int(input(\"enter the price:\"))\n",
    "    Qty=float(input(\"Enter quantity:\"))\n",
    "    \n",
    "    # Calculate total for current product\n",
    "    total=price*Qty\n",
    "    \n",
    "    # Create formatted row string with product details\n",
    "    row=f\"{product} {price} {Qty} {total}\\n\"\n",
    "    \n",
    "    # Add row to bill and update running total\n",
    "    bill=bill+row \n",
    "    s=s+total\n",
    "    \n",
    "# Print final bill and total amount\n",
    "print(\"Yor bill is\\n\",bill)\n",
    "print(\"Your total is\",s)"
   ]
  },
  {
   "cell_type": "code",
   "execution_count": 17,
   "id": "87417a64-f6ad-4ac0-9e1b-438429cd6f99",
   "metadata": {},
   "outputs": [
    {
     "name": "stdin",
     "output_type": "stream",
     "text": [
      "Enter Name= Ram\n"
     ]
    },
    {
     "name": "stdout",
     "output_type": "stream",
     "text": [
      "Yes there is  Ram\n",
      "1\n"
     ]
    }
   ],
   "source": [
    "#search i.e character or sequence of character\n",
    "\n",
    "data=\"Ram Shyam Hari Nabin Sabin Rita\"\n",
    "name=input(\"Enter Name=\")\n",
    "if name in data:\n",
    "    print(\"Yes there is \",name)\n",
    "    print(data.count(name))\n",
    "else:\n",
    "    print(\"There is no such name\")"
   ]
  },
  {
   "cell_type": "code",
   "execution_count": 19,
   "id": "711b9c96-ef2a-4623-9b97-585191f9636a",
   "metadata": {},
   "outputs": [
    {
     "name": "stdout",
     "output_type": "stream",
     "text": [
      "RAM SHYAM HARI NABIN SABIN RITA\n",
      "ram shyam hari nabin sabin rita\n"
     ]
    }
   ],
   "source": [
    "#Case conversion\n",
    "data=\"Ram Shyam Hari Nabin Sabin Rita\"\n",
    "print(data.upper())\n",
    "print(data.lower())\n"
   ]
  },
  {
   "cell_type": "code",
   "execution_count": 27,
   "id": "ccde9ffd-f451-4454-afee-d6471101812d",
   "metadata": {},
   "outputs": [
    {
     "name": "stdin",
     "output_type": "stream",
     "text": [
      "Enter Name= Ram\n"
     ]
    },
    {
     "name": "stdout",
     "output_type": "stream",
     "text": [
      "Yes there is  ram\n",
      "3\n"
     ]
    }
   ],
   "source": [
    "#case insensitive\n",
    "data=\"Ram Shyam Hari Nabin Sabin Rita Ramesh Shramesh\".lower()  #think ram and ramesh are same so this is limitation so we prefere doing it in array not in string  list\n",
    "name=input(\"Enter Name=\").lower()\n",
    "if name in data:\n",
    "    print(\"Yes there is \",name)\n",
    "    print(data.count(name))\n",
    "else:\n",
    "    print(\"There is no such name\")"
   ]
  },
  {
   "cell_type": "code",
   "execution_count": 45,
   "id": "21e84cc8-5c5c-42a5-8263-e7252448702f",
   "metadata": {},
   "outputs": [
    {
     "name": "stdout",
     "output_type": "stream",
     "text": [
      "Ram Shyam Harry  Sabin Rita\n"
     ]
    }
   ],
   "source": [
    "#replace() function in string i.e remove one from data\n",
    "data=\"Ram Shyam Hari Nabin Sabin Rita\"\n",
    "data=data.replace(\"Hari\",\"Harry\")  #variable. function or object\n",
    "data=data.replace(\"Nabin\",\"\")\n",
    "print(data)"
   ]
  },
  {
   "cell_type": "code",
   "execution_count": 39,
   "id": "2b6570a9-d3b6-4055-b487-970eec94ef8d",
   "metadata": {},
   "outputs": [
    {
     "name": "stdout",
     "output_type": "stream",
     "text": [
      "Ram Shyam Hari Nabin Sabin Rita\n"
     ]
    }
   ],
   "source": [
    "#.title change the first letter into capital\n",
    "data=\"ram shyam hari nabin sabin rita\"\n",
    "print(data.title())"
   ]
  },
  {
   "cell_type": "code",
   "execution_count": 5,
   "id": "0a55cce3-1eb2-46b1-a598-6ee8b40c1fb9",
   "metadata": {},
   "outputs": [
    {
     "name": "stdin",
     "output_type": "stream",
     "text": [
      "Enter Name= ram\n"
     ]
    },
    {
     "name": "stdout",
     "output_type": "stream",
     "text": [
      "Yes there is  ram\n",
      "2\n",
      " Shyam Hari Nabin Sabin Rita Esh\n"
     ]
    }
   ],
   "source": [
    "#search and replace\n",
    "data=\"Ram Shyam Hari Nabin Sabin Rita ramesh\".lower()\n",
    "name=input(\"Enter Name=\").lower()\n",
    "if name in data:\n",
    "    print(\"Yes there is \",name)\n",
    "    print(data.count(name))\n",
    "    data=data.replace(name,\"\")\n",
    "    print(data.title())\n",
    "else:\n",
    "    print(\"There is no such name\")"
   ]
  },
  {
   "cell_type": "code",
   "execution_count": null,
   "id": "0fe2e60a-905f-401a-b593-8dec9044269f",
   "metadata": {},
   "outputs": [],
   "source": [
    "# wap to enter the marks of students calculate total percentages and grades and create a data entry application\n",
    "#ram,60,50,30,60,70,400,80,A\n",
    "#shyam 45 42 45 123 454 90 B\n",
    "\n",
    "result=\"\"\n",
    "n=int(input(\"Enter n=\"))\n",
    "for i in range (n):\n",
    "    name=input(\"Enter the name of student\")\n",
    "\n",
    "    Science=int(input(\"Enter marks of science\"))\n",
    "    Maths=int(input(\"Enter marks of science\"))\n",
    "    Social=int(input(\"Enter marks of science\"))\n",
    "    English=int(input(\"Enter marks of science\"))\n",
    "    Computer=int(input(\"Enter marks of science\"))\n",
    "    \n",
    "    total=Science + Maths + Social + English + Computer\n",
    "\n",
    "    percentage=total/5\n",
    "    \n",
    "    if Science>=45 and Maths>=45 and Social>=45 and English>=45 and Computer>=45:\n",
    "    \n",
    "            \n",
    "        if percentage >= 90:\n",
    "            print(\"Your grade is A+\")\n",
    "        \n",
    "        elif percentage >= 80:\n",
    "            print(\"Your grade is B\")\n",
    "        \n",
    "        elif percentage >= 70:\n",
    "            print(\"Your grade is C\")\n",
    "        \n",
    "        elif percentage >= 60:\n",
    "            print(\"Your grade is D\")\n",
    "    else:\n",
    "            print(\"you failed\")\n",
    "    \n",
    "    print(\"your total marks is\",total)\n",
    "    # print(\"your peercentages is\",percentage)\n",
    "\n",
    "    data=f\"{name} {Science} {Maths} {Social} {English} {Computer} \\n\"\n",
    "    result=result+data\n",
    "print(result)"
   ]
  },
  {
   "cell_type": "code",
   "execution_count": 6,
   "id": "6e8ce24c-ce43-4128-8a67-c0b45b20eb6c",
   "metadata": {},
   "outputs": [
    {
     "name": "stdout",
     "output_type": "stream",
     "text": [
      "H\n",
      "He\n",
      "Hel\n",
      "Hell\n",
      "Hello\n",
      "Hello \n",
      "Hello W\n",
      "Hello Wo\n",
      "Hello Wor\n",
      "Hello Worl\n",
      "Hello World\n"
     ]
    }
   ],
   "source": [
    "# #WAP to write \"Hello World\"in the following pattern\n",
    "#WAP to remove \".\" and \"!\" both from \"Hello world.I am Python!\"\n",
    "# H\n",
    "# He\n",
    "# Hel\n",
    "# Hell\n",
    "# Hello\n",
    "# Hello W\n",
    "# ......\n",
    "# Hello World\n",
    "\n",
    "a = \"Hello World\"\n",
    "for i in range(1, len(a)+1):\n",
    "    print(a[:i])\n",
    "    \n"
   ]
  },
  {
   "cell_type": "code",
   "execution_count": 26,
   "id": "59a620e6-891e-4744-8fae-e63a80b685c0",
   "metadata": {},
   "outputs": [
    {
     "name": "stdout",
     "output_type": "stream",
     "text": [
      "Hello world I am Python"
     ]
    }
   ],
   "source": [
    "#WAP to remove \".\" and \"!\" both from \"Hello world.I am Python!\"\n",
    "a=\"Hello world. I am Python!\"\n",
    "for i in a:\n",
    "    if i!=\".\" and i!=\"!\":\n",
    "        print(i,end=\"\")\n"
   ]
  },
  {
   "cell_type": "code",
   "execution_count": 31,
   "id": "a066611e-f4d4-4e2e-8513-c4ced5a9041b",
   "metadata": {},
   "outputs": [
    {
     "name": "stdout",
     "output_type": "stream",
     "text": [
      "<class 'list'>\n"
     ]
    }
   ],
   "source": [
    "#python collection i.e list, tuple, dictionary, set\n",
    "#list--- it follows indexing, ordered,multiple and duplicate, mutable means bring change in original value\n",
    "a=list()\n",
    "a=[]\n",
    "print(type(a))\n"
   ]
  },
  {
   "cell_type": "code",
   "execution_count": 38,
   "id": "9435c743-f751-4337-bb79-c4947ddf9253",
   "metadata": {},
   "outputs": [
    {
     "name": "stdout",
     "output_type": "stream",
     "text": [
      "1\n",
      "<class 'list'>\n",
      "<class 'list'>\n",
      "[1, 2, 3, 4, 5, 6, 7, 8, 9, 10, 10]\n",
      "['Apple', 'Ball', 'Cat', 'Dog']\n",
      "11\n",
      "4\n"
     ]
    }
   ],
   "source": [
    "#multiple dataset in list (similar to array which means it store multiple data at a time)\n",
    "a=[1,2,3,4,5,6,7,8,9,10,10] #multiple and duplicate\n",
    "b=[\"Apple\",\"Ball\",\"Cat\",\"Dog\"] \n",
    "print(type(a))\n",
    "print(type(b))\n",
    "print(a)\n",
    "print(b)\n",
    "\n",
    "print(len(a))\n",
    "print(len(b))"
   ]
  },
  {
   "cell_type": "code",
   "execution_count": 19,
   "id": "45175501-e336-451b-9345-83a2b85bd8e2",
   "metadata": {},
   "outputs": [
    {
     "name": "stdout",
     "output_type": "stream",
     "text": [
      "Apple\n",
      "Dog\n",
      "['Apple', 'Ball', 'Cat']\n",
      "['Apple', 'Cat', 'fish']\n",
      "['fish', 'Dog', 'Cat', 'Ball', 'Apple']\n"
     ]
    }
   ],
   "source": [
    "b=[\"Apple\",\"Ball\",\"Cat\",\"Dog\",\"fish\"] \n",
    "\n",
    "print(b[0]) #indexing\n",
    "print(b[-2])\n",
    "print(b[0:3])\n",
    "print(b[0:6:2])\n",
    "print(b[::-1])"
   ]
  },
  {
   "cell_type": "code",
   "execution_count": 29,
   "id": "bb2b78d0-c519-494c-a150-6bbf56bf86bd",
   "metadata": {},
   "outputs": [
    {
     "name": "stdout",
     "output_type": "stream",
     "text": [
      "[1, 2, 3, 4, 5, 6, 7, 8, 9, 10]\n"
     ]
    }
   ],
   "source": [
    "a=[1,2,3,4,5,6] #concatination on list\n",
    "b=[7,8,9,10]\n",
    "c=a+b\n",
    "print(c)"
   ]
  },
  {
   "cell_type": "code",
   "execution_count": 31,
   "id": "780f7996-0c17-4e08-be9c-c71543dea9cc",
   "metadata": {},
   "outputs": [
    {
     "name": "stdout",
     "output_type": "stream",
     "text": [
      "[1, 2, 3, 4, 5, 6, 1, 2, 3, 4, 5, 6]\n"
     ]
    }
   ],
   "source": [
    "a=[1,2,3,4,5,6]  #enlargement on list\n",
    "print(a*2)"
   ]
  },
  {
   "cell_type": "code",
   "execution_count": 1,
   "id": "821b9918-8b84-4542-8eb6-2c0f50325670",
   "metadata": {},
   "outputs": [
    {
     "name": "stdout",
     "output_type": "stream",
     "text": [
      "['Apple', 'Ball', 'Cat']\n"
     ]
    }
   ],
   "source": [
    "#CRUD function \n",
    "\n",
    "#function on list i.e append(), insert(),extend() this is a CREATE function\n",
    "a=[]\n",
    "a.append(\"Apple\")  #append means to add an element to the end of a list\n",
    "a.append(\"Ball\")\n",
    "a.append(\"Cat\")\n",
    "print(a)"
   ]
  },
  {
   "cell_type": "code",
   "execution_count": 3,
   "id": "5ae5c159-4681-4654-baa0-3debde23997f",
   "metadata": {},
   "outputs": [
    {
     "name": "stdin",
     "output_type": "stream",
     "text": [
      "Enter the n= 2\n",
      "Enter name== ram\n",
      "Enter name== hari\n"
     ]
    },
    {
     "name": "stdout",
     "output_type": "stream",
     "text": [
      "['ram', 'hari']\n"
     ]
    }
   ],
   "source": [
    "l=[]\n",
    "n=int(input(\"Enter the n=\"))\n",
    "for i in range(n):\n",
    "    a=input(\"Enter name==\")\n",
    "    l.append(a)\n",
    "print(l)"
   ]
  },
  {
   "cell_type": "code",
   "execution_count": 9,
   "id": "d86357bb-0a6d-4ba4-b875-3a0ee400f7dd",
   "metadata": {},
   "outputs": [
    {
     "name": "stdout",
     "output_type": "stream",
     "text": [
      "['Ram', 'Aarati', 'Bina', 'Asha', 'Puja', 'Roshni']\n"
     ]
    }
   ],
   "source": [
    "#insert() i.e insert an element at a specified position in a list\n",
    "a=['Ram','Bina','Asha','Puja','Roshni']\n",
    "a.insert(1,\"Aarati\")\n",
    "print(a)\n"
   ]
  },
  {
   "cell_type": "code",
   "execution_count": 29,
   "id": "8f43f085-8591-4a4a-b2c7-cbe387cb47df",
   "metadata": {},
   "outputs": [
    {
     "name": "stdout",
     "output_type": "stream",
     "text": [
      "[1, 2, 3, 4, 5, 6, 7, 8, 9, 0, 3]\n",
      "[1, 2, 3, 4, 5, 6, 7, 8, 9, 0, 3, 12, 23, 11, 5, 6]\n"
     ]
    }
   ],
   "source": [
    "a=[1,2,3,4,5,6] #extend means add items from one list to the end of another list\n",
    "b=[7,8,9,0,3]\n",
    "a.extend(b)\n",
    "print(a)\n",
    "\n",
    "\n",
    "\n",
    "a=[1,2,3,4,5,6] #extend means add items from one list to the end of another list\n",
    "b=[7,8,9,0,3]\n",
    "c=[12,23,11,5,6]\n",
    "a.extend(b+c)\n",
    "print(a)"
   ]
  },
  {
   "cell_type": "code",
   "execution_count": 43,
   "id": "37d573d4-881e-4242-87c3-34d910d6052c",
   "metadata": {},
   "outputs": [
    {
     "name": "stdout",
     "output_type": "stream",
     "text": [
      "Ram\n",
      "Bina\n",
      "Asha\n",
      "Puja\n",
      "Roshni\n",
      "Ram\n",
      "Bina\n",
      "Asha\n",
      "Puja\n",
      "Roshni\n"
     ]
    }
   ],
   "source": [
    "#CRUD now READ function\n",
    "a=['Ram','Bina','Asha','Puja','Roshni']\n",
    "for i in a:\n",
    "    print(i)\n",
    "\n",
    "\n",
    "a=['Ram','Bina','Asha','Puja','Roshni']\n",
    "l=len(a)\n",
    "for i in range(l):\n",
    "    print(a[i])"
   ]
  },
  {
   "cell_type": "code",
   "execution_count": 59,
   "id": "0f8d2a2e-5899-4bfc-86cf-e31c9aea8e0d",
   "metadata": {},
   "outputs": [
    {
     "name": "stdout",
     "output_type": "stream",
     "text": [
      "['Gita', 'thapaa', 'Asha', 'Puja', 'Roshni']\n",
      "['Gita', 'Hari', 'Asha', 'Puja', 'Roshni']\n",
      "['Gita', 'Asha', 'Puja', 'Roshni']\n"
     ]
    }
   ],
   "source": [
    "#CRUD now update the function\n",
    "\n",
    "a=['Ram','Bina','Asha','Puja','Roshni']\n",
    "a[0]='Gita'\n",
    "#a[a.index('Bina')]=\"Thapa\"\n",
    "i=a.index(\"Bina\")\n",
    "a[i]=\"thapaa\"\n",
    "print(a)\n",
    "\n",
    "\n",
    "\n",
    "a=['Ram','Bina','Asha','Puja','Roshni']\n",
    "a[0:2]=['Gita','Hari']\n",
    "print(a)\n",
    "\n",
    "\n",
    "a=['Ram','Bina','Asha','Puja','Roshni']\n",
    "a[0:2]=['Gita']\n",
    "print(a)"
   ]
  },
  {
   "cell_type": "code",
   "execution_count": 13,
   "id": "2d13befa-aabb-4ee5-9fc5-3be9afc6d691",
   "metadata": {
    "scrolled": true
   },
   "outputs": [
    {
     "name": "stdout",
     "output_type": "stream",
     "text": [
      "['Bina', 'Asha', 'Puja', 'Roshni']\n",
      "['Asha', 'Puja', 'Roshni']\n",
      "['Ram', 'Asha', 'Puja', 'Roshni']\n"
     ]
    }
   ],
   "source": [
    "#CRUD delete\n",
    "# !jupyter labextension list\n",
    "#delete i.e del remove() pop()\n",
    "\n",
    "a=['Ram','Bina','Asha','Puja','Roshni']\n",
    "del a[0]    #delete by indexing\n",
    "print(a)\n",
    "\n",
    "\n",
    "a=['Ram','Bina','Asha','Puja','Roshni']\n",
    "del a[0:2]\n",
    "print(a)\n",
    "\n",
    "\n",
    "a=['Ram','Bina','Asha','Puja','Roshni']\n",
    "a.remove(\"Bina\")    #delete by value\n",
    "print(a)"
   ]
  },
  {
   "cell_type": "code",
   "execution_count": 17,
   "id": "48535b4a-48eb-4a03-a8f4-2082cbdad93d",
   "metadata": {},
   "outputs": [
    {
     "name": "stdout",
     "output_type": "stream",
     "text": [
      "['Bina', 'Asha', 'Puja', 'Roshni']\n",
      "Ram\n"
     ]
    }
   ],
   "source": [
    "a=['Ram','Bina','Asha','Puja','Roshni']\n",
    "b=a.pop(0)   #replace the valude by using index\n",
    "print(a)\n",
    "print(b)"
   ]
  },
  {
   "cell_type": "code",
   "execution_count": 23,
   "id": "aad2e534-c27c-49ba-bc65-695a24aa0bdc",
   "metadata": {},
   "outputs": [
    {
     "name": "stdout",
     "output_type": "stream",
     "text": [
      "['Rory', 'Asha', 'Puja', 'Gita']\n"
     ]
    }
   ],
   "source": [
    "#if need to delete multiple values    donot use indexing\n",
    "a=['Ram','Rory','Asha','Puja','Gita','Ram','Ram']\n",
    "\n",
    "c=a.count(\"Ram\")\n",
    "for i in range(c):\n",
    "    a.remove(\"Ram\")\n",
    "print(a)\n",
    "\n"
   ]
  },
  {
   "cell_type": "code",
   "execution_count": 25,
   "id": "efd069d8-9de3-4ab8-a191-2edcedd75648",
   "metadata": {},
   "outputs": [
    {
     "name": "stdout",
     "output_type": "stream",
     "text": [
      "['Rory', 'Asha', 'Puja', 'Gita', 'Ram', 'Ram']\n"
     ]
    }
   ],
   "source": [
    "a=['Ram','Rory','Asha','Puja','Gita','Ram','Ram']\n",
    "del a[0:5:6]                #so don't use del here\n",
    "print(a)"
   ]
  },
  {
   "cell_type": "code",
   "execution_count": 37,
   "id": "30fc9d56-0800-4174-89d6-2eb6b9e3b416",
   "metadata": {},
   "outputs": [
    {
     "name": "stdout",
     "output_type": "stream",
     "text": [
      "Ram\n",
      "Rory\n",
      "Asha\n",
      "Puja\n",
      "Gita\n",
      "Ram\n",
      "Ram\n",
      "0\n",
      "5\n",
      "6\n",
      "['Rama', 'Rory', 'Asha', 'Puja', 'Gita', 'Rama', 'Rama']\n"
     ]
    }
   ],
   "source": [
    "#Read\n",
    "a=['Ram','Rory','Asha','Puja','Gita','Ram','Ram']\n",
    "for i in a:\n",
    "    print(i)\n",
    "\n",
    "#to print out the indexing\n",
    "# a=['Ram','Rory','Asha','Puja','Gita','Ram','Ram']\n",
    "# for i in range(len(a)):\n",
    "#     print(i)\n",
    "\n",
    "\n",
    "#to print out the index of ram \n",
    "a=['Ram','Rory','Asha','Puja','Gita','Ram','Ram']\n",
    "for i in range(len(a)):\n",
    "    if \"Ram\"==a[i]:\n",
    "        print(i)\n",
    "\n",
    "\n",
    "#to change the value then like multiple ram to rama    READ AND UPDATE\n",
    "a=['Ram','Rory','Asha','Puja','Gita','Ram','Ram']\n",
    "for i in range(len(a)):\n",
    "    if \"Ram\"==a[i]:\n",
    "        a[i]=\"Rama\"\n",
    "print(a)"
   ]
  },
  {
   "cell_type": "code",
   "execution_count": 51,
   "id": "e01f7b36-c453-4d9c-9e3d-2058218c73c3",
   "metadata": {},
   "outputs": [
    {
     "name": "stdout",
     "output_type": "stream",
     "text": [
      "The min value= 7\n",
      "The max value= 1234\n",
      "The sum value= 3978\n",
      "[7, 23, 34, 45, 54, 55, 65, 76, 76, 89, 98, 223, 234, 677, 988, 1234]\n",
      "[1234, 988, 677, 234, 223, 98, 89, 76, 76, 65, 55, 54, 45, 34, 23, 7]\n",
      "['Asha', 'Bina', 'Puja', 'Ram', 'Roshni']\n",
      "['+asha', '.Ram', 'Bina', 'Puja', 'Roshni']\n"
     ]
    }
   ],
   "source": [
    " #BASIC MATH   i.e min() max() sum() sort() reverse()\n",
    "\n",
    "a=[234,54,223,677,7,89,988,1234,55,65,76,76,34,23,45,98]\n",
    "print(\"The min value=\",min(a))\n",
    "print(\"The max value=\",max(a))\n",
    "print(\"The sum value=\",sum(a))\n",
    "\n",
    "a.sort()\n",
    "print(a)\n",
    "a.reverse()\n",
    "print(a)\n",
    "\n",
    "\n",
    "#also in alphabetical order\n",
    "a=['Ram','Bina','Asha','Puja','Roshni']\n",
    "b=['Ram','Bina','asha','Puja','Roshni'] #case sensitive\n",
    "b=['.Ram','Bina','+asha','Puja','Roshni'] #give priority to special characters while sorting\n",
    "\n",
    "a.sort()\n",
    "print(a)\n",
    "b.sort()\n",
    "print(b)\n",
    "\n"
   ]
  },
  {
   "cell_type": "code",
   "execution_count": 3,
   "id": "659ea70d-8a42-428e-b373-57a8a4754c85",
   "metadata": {},
   "outputs": [
    {
     "name": "stdin",
     "output_type": "stream",
     "text": [
      "Enter data for search: bina\n"
     ]
    },
    {
     "name": "stdout",
     "output_type": "stream",
     "text": [
      "There is not present\n"
     ]
    }
   ],
   "source": [
    "#search in string\n",
    "a=['Ram','Bina','Asha','Puja','Roshni']\n",
    "search=input(\"Enter data for search:\")\n",
    "if search in a :\n",
    "    print(\"yes there is \")\n",
    "    print(a.count(search))\n",
    "else:\n",
    "    print(\"There is not present\")\n",
    "\n",
    "\n",
    "#assignment make it caseinsensitive\n"
   ]
  },
  {
   "cell_type": "code",
   "execution_count": 11,
   "id": "a754be72-2942-4ddd-8745-c787a81b3f4e",
   "metadata": {},
   "outputs": [
    {
     "name": "stdout",
     "output_type": "stream",
     "text": [
      "3\n",
      "[['Ram', 34, 'Kathmandu'], ['Hari', 29, 'Lalitpur'], ['Shyam', 80, 'Bhaktapur']]\n"
     ]
    }
   ],
   "source": [
    "#nested list\n",
    "a=[[\"Ram\",34,\"Kathmandu\"],\n",
    "   [\"Hari\",29,\"Lalitpur\"],\n",
    "   [\"Shyam\",80,\"Bhaktapur\"]]\n",
    "print(len(a))\n",
    "print (a)"
   ]
  },
  {
   "cell_type": "code",
   "execution_count": 15,
   "id": "3821af66-7e39-45d8-b82b-d108e83c55e0",
   "metadata": {},
   "outputs": [
    {
     "name": "stdin",
     "output_type": "stream",
     "text": [
      "Enter n= 2\n",
      "Enter name= Ram\n",
      "Enter age= 32\n",
      "Enter address= KLGJ\n",
      "Enter name= DSJGKL\n",
      "Enter age= 3\n",
      "Enter address= SDFDS\n"
     ]
    },
    {
     "name": "stdout",
     "output_type": "stream",
     "text": [
      "[['Ram', 32, 'KLGJ'], ['DSJGKL', 3, 'SDFDS']]\n"
     ]
    }
   ],
   "source": [
    "#getting nested list by user input\n",
    "info=[]\n",
    "n=int(input(\"Enter n=\"))\n",
    "for i in range(n):\n",
    "    name=input(\"Enter name=\")\n",
    "    age=int(input(\"Enter age=\"))\n",
    "    add=input(\"Enter address=\")\n",
    "    info.append([name,age,add])\n",
    "print(info)"
   ]
  },
  {
   "cell_type": "code",
   "execution_count": 3,
   "id": "e491d095-807c-4844-b967-b9ebfe7b801a",
   "metadata": {},
   "outputs": [
    {
     "name": "stdout",
     "output_type": "stream",
     "text": [
      "['Ram', 34, 'Kathmandu']\n",
      "Kathmandu\n",
      "[['Ram', 34, 'Kathmandu'], ['Hari', 29, 'Lalitpur']]\n"
     ]
    }
   ],
   "source": [
    "#finding indexing in nested list \n",
    "a=[[\"Ram\",34,\"Kathmandu\"],\n",
    "   [\"Hari\",29,\"Lalitpur\"],\n",
    "   [\"Ram\",80,\"Lalitpur\"]]\n",
    "print(a[0])\n",
    "print(a[0][2])   #this is two dimensional\n",
    "print(a[0:2])\n"
   ]
  },
  {
   "cell_type": "code",
   "execution_count": 9,
   "id": "4df006ac-f1bd-43df-bc49-48a0aa417738",
   "metadata": {},
   "outputs": [
    {
     "name": "stdin",
     "output_type": "stream",
     "text": [
      "Enter name Lalitpur\n"
     ]
    },
    {
     "name": "stdout",
     "output_type": "stream",
     "text": [
      "['Hari', 29, 'Lalitpur']\n",
      "['Ram', 80, 'Lalitpur']\n"
     ]
    }
   ],
   "source": [
    "#To get the whole information about Ram\n",
    "name=input(\"Enter name\")\n",
    "for i in a:\n",
    "    if name in i:\n",
    "        print(i)"
   ]
  },
  {
   "cell_type": "code",
   "execution_count": 7,
   "id": "620a0cab-f5a3-4a4b-aba8-6ba2de276726",
   "metadata": {},
   "outputs": [
    {
     "name": "stdin",
     "output_type": "stream",
     "text": [
      "Enter age 30\n"
     ]
    },
    {
     "name": "stdout",
     "output_type": "stream",
     "text": [
      "['Ram', 34, 'Kathmandu']\n",
      "['Ram', 80, 'Lalitpur']\n"
     ]
    }
   ],
   "source": [
    "#To get the whole information like through age\n",
    "age=int(input(\"Enter age\"))\n",
    "for i in a:\n",
    "    if i[1]>= age:\n",
    "        print(i)"
   ]
  },
  {
   "cell_type": "code",
   "execution_count": null,
   "id": "62bf1cb4-01b8-47b1-a88f-8f0ea6e92396",
   "metadata": {},
   "outputs": [],
   "source": [
    "#Try CRUD in above multidimension "
   ]
  }
 ],
 "metadata": {
  "kernelspec": {
   "display_name": "Python [conda env:base] *",
   "language": "python",
   "name": "conda-base-py"
  },
  "language_info": {
   "codemirror_mode": {
    "name": "ipython",
    "version": 3
   },
   "file_extension": ".py",
   "mimetype": "text/x-python",
   "name": "python",
   "nbconvert_exporter": "python",
   "pygments_lexer": "ipython3",
   "version": "3.12.7"
  }
 },
 "nbformat": 4,
 "nbformat_minor": 5
}
