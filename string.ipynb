{
 "cells": [
  {
   "cell_type": "code",
   "execution_count": 1,
   "id": "d91a71d4-92e3-45e7-8d88-bb96b2ec4afe",
   "metadata": {},
   "outputs": [
    {
     "name": "stdout",
     "output_type": "stream",
     "text": [
      "<class 'str'>\n",
      "<class 'str'>\n",
      "<class 'str'>\n"
     ]
    }
   ],
   "source": [
    "#string\n",
    "a='Hello'\n",
    "b=\"Hello World\"\n",
    "c='''Hello World'''\n",
    "print(type(a))\n",
    "print(type(b))\n",
    "print(type(c))\n",
    "\n",
    "\n",
    "\n"
   ]
  },
  {
   "cell_type": "code",
   "execution_count": 11,
   "id": "a5c0049e-cc3b-422d-bd8f-28a5cbe1846a",
   "metadata": {},
   "outputs": [
    {
     "name": "stdout",
     "output_type": "stream",
     "text": [
      "Hello World\n",
      "Hello World\n",
      "Hello World\n",
      "\n"
     ]
    }
   ],
   "source": [
    "#string concatination\n",
    "a=\"Hello \"\n",
    "b=\"World\"\n",
    "c=a+b\n",
    "print(c)\n",
    "\n",
    "a=\"Hello World\\n\"\n",
    "b=2\n",
    "print(a*b)"
   ]
  },
  {
   "cell_type": "code",
   "execution_count": 15,
   "id": "9c714722-d7c8-4a18-a54e-a8e57994abe0",
   "metadata": {},
   "outputs": [
    {
     "name": "stdout",
     "output_type": "stream",
     "text": [
      "e\n",
      "d\n",
      "Hello\n",
      "Hello\n",
      "World\n",
      "World\n",
      "11\n",
      "HloWrd\n",
      "dlroW olle\n",
      "dlroW olleH\n"
     ]
    }
   ],
   "source": [
    "#string is immutable which means once defined can't change the value)\n",
    "a=\"Hello World\"\n",
    "print(a[1])\n",
    "print(a[-1])\n",
    "\n",
    "print(a[0:5]) #string slicing\n",
    "print(a[:5])\n",
    "print(a[6:])\n",
    "print(a[6:100])\n",
    "\n",
    "#count the characters\n",
    "c=len(a)\n",
    "print(c)\n",
    "\n",
    "#increment index by 2\n",
    "print(a[0:11:2])\n",
    "\n",
    "#print inversely\n",
    "print(a[c-1:0:-1])    #logical error we did not get H\n",
    "\n",
    "#print in mirror order\n",
    "print(a[::-1])\n",
    "\n"
   ]
  },
  {
   "cell_type": "code",
   "execution_count": 27,
   "id": "7adcb7e7-5854-482d-8c41-3c3e4da4fe1c",
   "metadata": {
    "scrolled": true
   },
   "outputs": [
    {
     "name": "stdout",
     "output_type": "stream",
     "text": [
      "H\n",
      "e\n",
      "l\n",
      "l\n",
      "o\n",
      " \n",
      "W\n",
      "o\n",
      "r\n",
      "l\n",
      "d\n",
      ".\n",
      " \n",
      "I\n",
      "a\n",
      "m\n",
      " \n",
      "p\n",
      "y\n",
      "t\n",
      "h\n",
      "o\n",
      "n\n",
      "Hello World. Iam python"
     ]
    }
   ],
   "source": [
    "#indexing\n",
    "for i in a:\n",
    "    print(i)\n",
    "\n",
    "\n"
   ]
  },
  {
   "cell_type": "code",
   "execution_count": 29,
   "id": "27a1ee0c-6ac6-4ae8-ae1f-05aa376cba07",
   "metadata": {},
   "outputs": [
    {
     "name": "stdout",
     "output_type": "stream",
     "text": [
      "Hello World. Iam python"
     ]
    }
   ],
   "source": [
    "a=\"Hello World. Iam python\"\n",
    "l=len(a)\n",
    "for i in range(l):\n",
    "    print(a[i],end=\"\")"
   ]
  },
  {
   "cell_type": "code",
   "execution_count": 35,
   "id": "b179abfc-5bca-4ad3-b266-aa99d1d8b2b1",
   "metadata": {},
   "outputs": [
    {
     "name": "stdout",
     "output_type": "stream",
     "text": [
      "5\n",
      "12\n",
      "24\n"
     ]
    }
   ],
   "source": [
    "a=\"Hello. World. Iam python.\"\n",
    "l=len(a)\n",
    "for i in range(l):\n",
    "    if a[i]==\".\":\n",
    "        print(i)"
   ]
  },
  {
   "cell_type": "code",
   "execution_count": 6,
   "id": "03ca51ab-f970-47a8-a07a-f0290e1c39d1",
   "metadata": {},
   "outputs": [
    {
     "name": "stdout",
     "output_type": "stream",
     "text": [
      "Hello World. Iam python"
     ]
    }
   ],
   "source": [
    "#using while loop\n",
    "i=0\n",
    "a=\"Hello World. Iam python\"\n",
    "l=len(a)\n",
    "while i<l:\n",
    "    print(a[i],end=\"\")\n",
    "    i=i+1\n",
    "\n"
   ]
  },
  {
   "cell_type": "code",
   "execution_count": 4,
   "id": "9a13a411-6377-4c3d-9764-54c53d9c6000",
   "metadata": {},
   "outputs": [
    {
     "name": "stdout",
     "output_type": "stream",
     "text": [
      "11\n"
     ]
    }
   ],
   "source": [
    "i=0\n",
    "a=\"Hello World. Iam python\"\n",
    "l=len(a)\n",
    "while i<l:\n",
    "    if a[i]==\".\":\n",
    "        print(i)\n",
    "    i=i+1\n"
   ]
  },
  {
   "cell_type": "code",
   "execution_count": null,
   "id": "e22e7878-01a5-47bd-b827-9ae072044999",
   "metadata": {},
   "outputs": [],
   "source": []
  },
  {
   "cell_type": "code",
   "execution_count": null,
   "id": "dc1353c1-3e6b-43be-a949-51a855f49bd1",
   "metadata": {},
   "outputs": [],
   "source": []
  }
 ],
 "metadata": {
  "kernelspec": {
   "display_name": "Python [conda env:base] *",
   "language": "python",
   "name": "conda-base-py"
  },
  "language_info": {
   "codemirror_mode": {
    "name": "ipython",
    "version": 3
   },
   "file_extension": ".py",
   "mimetype": "text/x-python",
   "name": "python",
   "nbconvert_exporter": "python",
   "pygments_lexer": "ipython3",
   "version": "3.12.7"
  }
 },
 "nbformat": 4,
 "nbformat_minor": 5
}
