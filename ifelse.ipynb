{
 "cells": [
  {
   "cell_type": "code",
   "execution_count": 1,
   "id": "23037f7d-c1ad-4070-a654-b234b590972d",
   "metadata": {},
   "outputs": [
    {
     "name": "stdout",
     "output_type": "stream",
     "text": [
      "True\n",
      "False\n",
      "True\n",
      "True\n",
      "False\n",
      "True\n"
     ]
    }
   ],
   "source": [
    "#> < >= == conditional statements\n",
    "a=10\n",
    "print(a<19)\n",
    "print(a>19)\n",
    "print(a<=19)\n",
    "print(a<=10)\n",
    "print(a==2) #== refers to is a =5 or not??\n",
    "print(a!= 5)"
   ]
  },
  {
   "cell_type": "code",
   "execution_count": 1,
   "id": "790232e9-019b-486e-bee0-e0fddcbbbb0e",
   "metadata": {},
   "outputs": [
    {
     "name": "stdout",
     "output_type": "stream",
     "text": [
      "a is greater\n"
     ]
    }
   ],
   "source": [
    "a=10\n",
    "if a>5:\n",
    "    print(\"a is greater\")\n",
    "else:\n",
    "    print(\"It is not\")\n",
    "    "
   ]
  },
  {
   "cell_type": "code",
   "execution_count": 3,
   "id": "18b593d1-8ff7-4571-aeeb-380b93e0064b",
   "metadata": {},
   "outputs": [
    {
     "name": "stdin",
     "output_type": "stream",
     "text": [
      "Enter the value: 10\n"
     ]
    },
    {
     "name": "stdout",
     "output_type": "stream",
     "text": [
      "a is greater\n"
     ]
    }
   ],
   "source": [
    "a=int(input(\"Enter the value:\"))\n",
    "if a%2==0:\n",
    "    print(\"a is greater\")\n",
    "else:\n",
    "    print(\"It is not\")\n",
    "    "
   ]
  },
  {
   "cell_type": "code",
   "execution_count": 7,
   "id": "037c252e-14e0-4272-9fea-ea8f568069a5",
   "metadata": {},
   "outputs": [
    {
     "name": "stdin",
     "output_type": "stream",
     "text": [
      "Enter the value: 2\n"
     ]
    },
    {
     "name": "stdout",
     "output_type": "stream",
     "text": [
      "2 a is even\n"
     ]
    }
   ],
   "source": [
    "#11%2==0\n",
    "a=int(input(\"Enter the value:\"))\n",
    "if a%2==0:\n",
    "    print(a,\"a is even\")\n",
    "else:\n",
    "    print(a,\"It is odd\")\n",
    "    "
   ]
  },
  {
   "cell_type": "code",
   "execution_count": 19,
   "id": "83fffb54-5e4f-446b-a6c3-93257d76b0da",
   "metadata": {},
   "outputs": [
    {
     "name": "stdin",
     "output_type": "stream",
     "text": [
      "Enter the value: 10\n",
      "Enter the value: 2\n"
     ]
    },
    {
     "name": "stdout",
     "output_type": "stream",
     "text": [
      "a is greater\n"
     ]
    }
   ],
   "source": [
    "a=int(input(\"Enter the value:\"))\n",
    "b=int(input(\"Enter the value:\"))\n",
    "if a>b:\n",
    "    print(\"a is greater\")\n",
    "else b>a\n",
    "    print(\"a is less\")\n",
    "else :\n"
   ]
  },
  {
   "cell_type": "code",
   "execution_count": 36,
   "id": "5cb1a540-096b-44b2-8aa6-810ba3b1ca5c",
   "metadata": {},
   "outputs": [
    {
     "name": "stdin",
     "output_type": "stream",
     "text": [
      "Enter the marks of physics: 70\n",
      "Enter the marks of physics: 70\n",
      "Enter the marks of physics: 50\n",
      "Enter the marks of physics: 30\n",
      "Enter the marks of physics: 40\n"
     ]
    },
    {
     "name": "stdout",
     "output_type": "stream",
     "text": [
      "Your grade is C+\n",
      "total is  260\n",
      "percentage is  52.0\n"
     ]
    }
   ],
   "source": [
    "##### WAP to calculate the total, percentage of +2 science students\n",
    "p=int(input(\"Enter the marks of physics:\"))\n",
    "c=int(input(\"Enter the marks of physics:\"))\n",
    "m=int(input(\"Enter the marks of physics:\"))\n",
    "s=int(input(\"Enter the marks of physics:\"))\n",
    "com=int(input(\"Enter the marks of physics:\"))\n",
    "total=p+c+m+s+com\n",
    "percentage=total/5\n",
    "\n",
    "\n",
    "if percentage >= 90:\n",
    "    print(\"Your grade is A+\")\n",
    "elif percentage >= 80:\n",
    "    print(\"Your grade is A\")\n",
    "elif percentage >= 70:\n",
    "    print(\"Your grade is B+\")\n",
    "elif percentage >= 60:\n",
    "    print(\"Your grade is B\")\n",
    "elif percentage >= 50:\n",
    "    print(\"Your grade is C+\")\n",
    "elif percentage >= 40:\n",
    "    print(\"Your grade is C\")\n",
    "else :\n",
    "    print(\"Your grade is F\")\n",
    "\n",
    "print(\"total is \", total)\n",
    "print(\"percentage is \", percentage)"
   ]
  },
  {
   "cell_type": "code",
   "execution_count": 76,
   "id": "526cd598-ab81-414b-91bb-cf210c014518",
   "metadata": {},
   "outputs": [
    {
     "name": "stdout",
     "output_type": "stream",
     "text": [
      "Both conditions are True\n",
      "True\n",
      "False\n",
      "False\n",
      "False\n",
      "At least one of the conditions is True\n",
      "True\n",
      "True\n",
      "False\n",
      "True\n"
     ]
    }
   ],
   "source": [
    "#logical operators    and &, or \\, NOT ^\n",
    "#and   The and keyword is a logical operator, and is used to combine conditional statements:\n",
    "\n",
    "a = 200\n",
    "b = 33\n",
    "c = 500\n",
    "if a > b and c > a:\n",
    "  print(\"Both conditions are True\")\n",
    "print(True and True)\n",
    "print(True and False)\n",
    "print(False and False)\n",
    "print(False and True)\n",
    "\n",
    "\n",
    "#or \n",
    "a = 200\n",
    "b = 33\n",
    "c = 500\n",
    "if a > b or a > c:\n",
    "  print(\"At least one of the conditions is True\")\n",
    "print(True or True)\n",
    "print(True or False)\n",
    "print(False or False)\n",
    "print(False or True)"
   ]
  },
  {
   "cell_type": "code",
   "execution_count": 56,
   "id": "cd2325b2-eadd-4974-a92a-605aa1d45690",
   "metadata": {},
   "outputs": [],
   "source": [
    "# if percentage >80 or percentage ==80:\n",
    "#     print(\"Your grade is A+\")\n",
    "# elif percentage > 85 or percentage==85:\n",
    "#     print(\"Your grade is A\")\n",
    "# elif percentage > 70 or percentage==70:\n",
    "#     print(\"Your grade is B+\")\n",
    "# elif percentage > 60 or percentage==60:\n",
    "#     print(\"Your grade is B\")\n",
    "# else :\n",
    "#     print(\"Your grade is F\")\n",
    "\n",
    "\n",
    "\n",
    "# # if percentage >=80 and percentage <=80:\n",
    "# #     print(\"Your grade is A+\")\n",
    "# # elif percentage > =85 and percentage<90:\n",
    "# #     print(\"Your grade is A\")\n",
    "# # elif percentage > =70 and percentage==<70:\n",
    "# #     print(\"Your grade is B+\")\n",
    "# # elif percentage > =60 and percentage==<60:\n",
    "# #     print(\"Your grade is B\")\n",
    "# # else :\n",
    "# #     print(\"Your grade is F\")\n",
    "    "
   ]
  },
  {
   "cell_type": "code",
   "execution_count": 68,
   "id": "5659ebdc-1173-4f6a-8df3-f3965fb6d90f",
   "metadata": {},
   "outputs": [
    {
     "name": "stdin",
     "output_type": "stream",
     "text": [
      "Enter the value: 30\n",
      "Enter the value: 2\n",
      "Enter + or - or * or / \n"
     ]
    },
    {
     "name": "stdout",
     "output_type": "stream",
     "text": [
      "invalid operator\n"
     ]
    }
   ],
   "source": [
    "#WAP to create a basic calculator\n",
    "\n",
    "a=int(input(\"Enter the value:\"))\n",
    "b=int(input(\"Enter the value:\"))\n",
    "o= input(\"Enter + or - or * or /\")\n",
    "if o==\"+\":\n",
    "    print (a+b)\n",
    "elif o==\"-\":\n",
    "        print (a-b)\n",
    "elif o==\"*\":\n",
    "        print (a*b)\n",
    "# elif o==\"/\":\n",
    "#         print (a/b)\n",
    "elif o==\"/\" and b!=0:\n",
    "        print (a/b)\n",
    "elif o==\"/\" and b==0:\n",
    "        print (\"The value of b cannot be zero\")\n",
    "else:\n",
    "    print(\"invalid operator\")\n"
   ]
  },
  {
   "cell_type": "code",
   "execution_count": 100,
   "id": "dbc0142a-ae88-4a23-a5b9-93bedf660341",
   "metadata": {},
   "outputs": [
    {
     "name": "stdin",
     "output_type": "stream",
     "text": [
      "Enter a= 2\n"
     ]
    },
    {
     "name": "stdout",
     "output_type": "stream",
     "text": [
      "2 a is even and +ve\n"
     ]
    }
   ],
   "source": [
    "# #Nested if else condition\n",
    "\n",
    "# if<condition>:\n",
    "#     if<condition>:\n",
    "#         <operation>\n",
    "#     else:\n",
    "#         <operation>\n",
    "\n",
    "\n",
    "#also a + or - even or odd\n",
    "\n",
    "a=int (input(\"Enter a=\"))\n",
    "if a>=0:\n",
    "    if a%2==0:\n",
    "        print(a,\"a is even and +ve\")\n",
    "    else:\n",
    "        print(a,\"a is odd and +ve\")\n",
    "else:\n",
    "    if a%2==0:\n",
    "        print(a,\"a is even and -ve\")\n",
    "    else:\n",
    "        print(a,\"a is odd and -ve\")\n",
    "\n",
    "        "
   ]
  },
  {
   "cell_type": "code",
   "execution_count": 1,
   "id": "355ff3a5-d806-4ca5-b12c-db4fea0989f8",
   "metadata": {},
   "outputs": [
    {
     "data": {
      "text/plain": [
       "'C:\\\\Users\\\\user\\\\pythonclass'"
      ]
     },
     "execution_count": 1,
     "metadata": {},
     "output_type": "execute_result"
    }
   ],
   "source": [
    "pwd"
   ]
  },
  {
   "cell_type": "code",
   "execution_count": null,
   "id": "f4bb8c89-aacd-4f56-863b-f085af945020",
   "metadata": {},
   "outputs": [],
   "source": []
  }
 ],
 "metadata": {
  "kernelspec": {
   "display_name": "Python [conda env:base] *",
   "language": "python",
   "name": "conda-base-py"
  },
  "language_info": {
   "codemirror_mode": {
    "name": "ipython",
    "version": 3
   },
   "file_extension": ".py",
   "mimetype": "text/x-python",
   "name": "python",
   "nbconvert_exporter": "python",
   "pygments_lexer": "ipython3",
   "version": "3.12.7"
  }
 },
 "nbformat": 4,
 "nbformat_minor": 5
}
