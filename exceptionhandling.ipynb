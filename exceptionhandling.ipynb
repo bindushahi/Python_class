{
 "cells": [
  {
   "cell_type": "code",
   "execution_count": 2,
   "id": "5d741a35-22f7-44e0-af83-1d8958964354",
   "metadata": {},
   "outputs": [],
   "source": [
    "# try:\n",
    "#     <operation>\n",
    "# except:\n",
    "#     <operation>"
   ]
  },
  {
   "cell_type": "code",
   "execution_count": 8,
   "id": "58c5beff-366d-4707-abe0-47ff311241ee",
   "metadata": {},
   "outputs": [
    {
     "name": "stdin",
     "output_type": "stream",
     "text": [
      "Enter a= 3\n",
      "Enter b= 0\n"
     ]
    },
    {
     "name": "stdout",
     "output_type": "stream",
     "text": [
      "There is some error\n"
     ]
    }
   ],
   "source": [
    "try:\n",
    "    a=int(input(\"Enter a=\"))\n",
    "    b=int(input(\"Enter b=\"))\n",
    "    c=a/b\n",
    "    print(c)\n",
    "except:\n",
    "    print(\"There is some error\")"
   ]
  },
  {
   "cell_type": "code",
   "execution_count": 12,
   "id": "2eb9c6eb-fec1-4c25-8017-14b88b8ea56d",
   "metadata": {},
   "outputs": [
    {
     "name": "stdin",
     "output_type": "stream",
     "text": [
      "Enter a= 5\n",
      "Enter b= 0\n"
     ]
    },
    {
     "name": "stdout",
     "output_type": "stream",
     "text": [
      "The value of b cannot be zero\n"
     ]
    }
   ],
   "source": [
    "try:\n",
    "    a=int(input(\"Enter a=\"))\n",
    "    b=int(input(\"Enter b=\"))\n",
    "    c=a/b\n",
    "    print(c)\n",
    "except ValueError:\n",
    "    \n",
    "    print(\"Enter only int value\")\n",
    "except ZeroDivisionError:\n",
    "    print(\"The value of b cannot be zero\")"
   ]
  },
  {
   "cell_type": "code",
   "execution_count": null,
   "id": "e6f95425-fa8f-4104-b7be-b16ddd532981",
   "metadata": {},
   "outputs": [],
   "source": []
  }
 ],
 "metadata": {
  "kernelspec": {
   "display_name": "Python [conda env:base] *",
   "language": "python",
   "name": "conda-base-py"
  },
  "language_info": {
   "codemirror_mode": {
    "name": "ipython",
    "version": 3
   },
   "file_extension": ".py",
   "mimetype": "text/x-python",
   "name": "python",
   "nbconvert_exporter": "python",
   "pygments_lexer": "ipython3",
   "version": "3.12.7"
  }
 },
 "nbformat": 4,
 "nbformat_minor": 5
}
