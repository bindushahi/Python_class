{
 "cells": [
  {
   "cell_type": "code",
   "execution_count": 1,
   "id": "be30cc72-2092-4aa4-b0d9-43802d940e88",
   "metadata": {},
   "outputs": [
    {
     "name": "stdout",
     "output_type": "stream",
     "text": [
      "Hello world\n"
     ]
    }
   ],
   "source": [
    "print(\"Hello world\")"
   ]
  },
  {
   "cell_type": "code",
   "execution_count": 3,
   "id": "c01b127a-4cce-4bc2-88fe-102695d89a7b",
   "metadata": {},
   "outputs": [
    {
     "name": "stdout",
     "output_type": "stream",
     "text": [
      "11\n"
     ]
    }
   ],
   "source": [
    "#Variable\n",
    "a=11\n",
    "print(a)"
   ]
  },
  {
   "cell_type": "code",
   "execution_count": 144,
   "id": "4b4f45d9-c22c-4344-b728-ae8d154a9fe6",
   "metadata": {},
   "outputs": [
    {
     "name": "stdout",
     "output_type": "stream",
     "text": [
      "2\n",
      "10.5\n",
      "Hello World\n",
      "True\n"
     ]
    }
   ],
   "source": [
    "a= 2  #interger value i.e datatype\n",
    "b=10.5 #float value\n",
    "c=\"Hello World\"   #string value\n",
    "d=True    #boolean value\n",
    "print(a)\n",
    "print(b)\n",
    "print(c)\n",
    "print(d)"
   ]
  },
  {
   "cell_type": "code",
   "execution_count": 65,
   "id": "5e34c80c-2549-486f-8fd3-fa8308a1b0c3",
   "metadata": {},
   "outputs": [
    {
     "name": "stdout",
     "output_type": "stream",
     "text": [
      "0.6666666666666666\n"
     ]
    }
   ],
   "source": [
    "#operators +,-,*,/,%,** (this is known as power of next value),// (floor division)\n",
    "a=2\n",
    "b=3\n",
    "c=a/b\n",
    "print(c)"
   ]
  },
  {
   "cell_type": "code",
   "execution_count": 66,
   "id": "b752f16c-5f78-4329-b917-e2a529f4dcec",
   "metadata": {},
   "outputs": [
    {
     "name": "stdout",
     "output_type": "stream",
     "text": [
      "2\n",
      "8\n",
      "0\n"
     ]
    }
   ],
   "source": [
    "print(a%b)\n",
    "print(a**b)\n",
    "print (a//b)"
   ]
  },
  {
   "cell_type": "code",
   "execution_count": 134,
   "id": "61b35817-82f8-4720-ad58-340212b878a4",
   "metadata": {},
   "outputs": [
    {
     "name": "stdout",
     "output_type": "stream",
     "text": [
      "11World\n",
      "1111\n"
     ]
    }
   ],
   "source": [
    "#in string only + or * can be done\n",
    "o=\"Hello Hello \\n\"\n",
    "b=\"World\"\n",
    "c=a+b\n",
    "d=a*2\n",
    "print(c)\n",
    "print(d)"
   ]
  },
  {
   "cell_type": "code",
   "execution_count": 110,
   "id": "a18d1ff0-ffc9-474c-8239-1c6e2ab66140",
   "metadata": {},
   "outputs": [
    {
     "name": "stdout",
     "output_type": "stream",
     "text": [
      "0\n"
     ]
    }
   ],
   "source": [
    "#boolean 1=true and 0 is false\n",
    "a=True\n",
    "b=False\n",
    "print(a*b)"
   ]
  },
  {
   "cell_type": "code",
   "execution_count": 140,
   "id": "588f568f-efbc-47d9-9ae7-f4fbf76f2541",
   "metadata": {},
   "outputs": [
    {
     "name": "stdout",
     "output_type": "stream",
     "text": [
      "<class 'str'>\n"
     ]
    }
   ],
   "source": [
    " #datatype find out\n",
    "a=\"11\"\n",
    "\n",
    "print(type(a))"
   ]
  },
  {
   "cell_type": "code",
   "execution_count": 61,
   "id": "f4341f32-932f-444b-bc9d-3e8627faf962",
   "metadata": {},
   "outputs": [
    {
     "name": "stdout",
     "output_type": "stream",
     "text": [
      "10.0\n",
      "<class 'float'>\n",
      "15\n",
      "<class 'int'>\n",
      "1100\n",
      "<class 'str'>\n",
      "1020\n",
      "30\n",
      "True\n",
      "<class 'bool'>\n"
     ]
    }
   ],
   "source": [
    "#typecasting converting datatypes\n",
    "# str() int() float() bool()\n",
    "a = 10\n",
    "b = float(a)\n",
    "print(b)\n",
    "print(type(b))\n",
    "\n",
    "\n",
    "a=15.5\n",
    "b=int(a)\n",
    "print(b)\n",
    "print(type(b))\n",
    "\n",
    "\n",
    "a=1100\n",
    "b=str(a)\n",
    "print(b)\n",
    "print(type(b))\n",
    "\n",
    "\n",
    "a=\"10\"\n",
    "b=\"20\"\n",
    "c=a+b  #here concatinating is happening\n",
    "print(c)\n",
    "\n",
    "\n",
    "a=\"10\"\n",
    "b=\"20\"\n",
    "c=int(a) +int(b)    #this is integer value\n",
    "print(c)\n",
    "\n",
    "\n",
    "\n",
    "a=\"hello\"    #other than 0 boolean shows false \n",
    "b=bool(a)\n",
    "print(b)\n",
    "print(type(b))"
   ]
  },
  {
   "cell_type": "code",
   "execution_count": null,
   "id": "e72a04b2-e909-49cb-9c46-9ba1fc1274dd",
   "metadata": {},
   "outputs": [],
   "source": []
  }
 ],
 "metadata": {
  "kernelspec": {
   "display_name": "Python [conda env:base] *",
   "language": "python",
   "name": "conda-base-py"
  },
  "language_info": {
   "codemirror_mode": {
    "name": "ipython",
    "version": 3
   },
   "file_extension": ".py",
   "mimetype": "text/x-python",
   "name": "python",
   "nbconvert_exporter": "python",
   "pygments_lexer": "ipython3",
   "version": "3.12.7"
  }
 },
 "nbformat": 4,
 "nbformat_minor": 5
}
