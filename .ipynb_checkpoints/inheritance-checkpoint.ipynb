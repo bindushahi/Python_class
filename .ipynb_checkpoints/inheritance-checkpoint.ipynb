{
 "cells": [
  {
   "cell_type": "code",
   "execution_count": 10,
   "id": "87698260-f740-4278-88b6-366b7059d867",
   "metadata": {},
   "outputs": [],
   "source": [
    "#Inheritance\n",
    "class A:      #parent class\n",
    "    pass\n",
    "class B(A):   #child class\n",
    "    pass\n",
    "obj=B()\n"
   ]
  },
  {
   "cell_type": "code",
   "execution_count": 32,
   "id": "87ce6225-2346-49f6-b8d9-369726879b7f",
   "metadata": {},
   "outputs": [
    {
     "name": "stdout",
     "output_type": "stream",
     "text": [
      "Hello Iam Ram.Iam from pokhara and Iam 22\n"
     ]
    }
   ],
   "source": [
    "class Data:\n",
    "    def __init__(self,name,age,add):\n",
    "        self.name=name\n",
    "        self.age=age\n",
    "        self.add=add\n",
    "\n",
    "class Info(Data):\n",
    "    def info(self):\n",
    "        a=f\"Hello Iam {self.name}.Iam from {self.add} and Iam {self.age}\"\n",
    "        print(a)\n",
    "obj=Info(\"Ram\",22,\"pokhara\")\n",
    "obj.info()"
   ]
  },
  {
   "cell_type": "code",
   "execution_count": 2,
   "id": "63685fc8-e8d2-4706-beec-b302d008375a",
   "metadata": {},
   "outputs": [
    {
     "name": "stdout",
     "output_type": "stream",
     "text": [
      "Kathmandu\n",
      "Hello World I am Ram. I am from Kathmandu. I am 34\n",
      "Ram 34\n"
     ]
    }
   ],
   "source": [
    "class Data:\n",
    "    def __init__(self,add):\n",
    "        self.add = add\n",
    "    def data(self):\n",
    "        print(self.add)\n",
    "\n",
    "class Info(Data):\n",
    "    def __init__(self,name,age,add):\n",
    "        self.name = name\n",
    "        self.age = age\n",
    "        Data.__init__(self,add)\n",
    "    def info(self):\n",
    "        a = f\"Hello World I am {self.name}. I am from {self.add}. I am {self.age}\"\n",
    "        print(a)\n",
    "\n",
    "obj = Info(\"Ram\",34,\"Kathmandu\")\n",
    "obj.data()\n",
    "obj.info()\n",
    "print(obj.name,obj.age)"
   ]
  },
  {
   "cell_type": "code",
   "execution_count": 4,
   "id": "ec9dc16c-e488-479d-b251-f9bd86ff0739",
   "metadata": {},
   "outputs": [],
   "source": [
    "#Multilevel\n",
    "# class A:\n",
    "#     pass\n",
    "# class B(A):\n",
    "#     pass\n",
    "# class C(B):\n",
    "#     pass\n",
    "\n",
    "# obj = C()"
   ]
  },
  {
   "cell_type": "code",
   "execution_count": 6,
   "id": "eeb59fce-74d9-43de-bdd8-e510a5b809be",
   "metadata": {},
   "outputs": [
    {
     "name": "stdout",
     "output_type": "stream",
     "text": [
      "Kathmandu\n",
      "Hello World I am Ram. I am from Kathmandu. I am 34\n"
     ]
    }
   ],
   "source": [
    "class MyAge:\n",
    "    def __init__(self,age):\n",
    "        self.age = age\n",
    "    def myage(self):\n",
    "        print(self.myage)\n",
    "        \n",
    "class Data(MyAge):\n",
    "    def __init__(self,age,add):\n",
    "        self.add = add\n",
    "        MyAge.__init__(self,age)\n",
    "    def data(self):\n",
    "        print(self.add)\n",
    "\n",
    "class Info(Data):\n",
    "    def __init__(self,name,age,add):\n",
    "        self.name = name\n",
    "        Data.__init__(self,age,add)\n",
    "    def info(self):\n",
    "        a = f\"Hello World I am {self.name}. I am from {self.add}. I am {self.age}\"\n",
    "        print(a)\n",
    "\n",
    "obj = Info(\"Ram\",34,\"Kathmandu\")\n",
    "obj.data()\n",
    "obj.info()"
   ]
  },
  {
   "cell_type": "code",
   "execution_count": 8,
   "id": "c946add6-2a3e-47cc-87e5-8b24e3422e63",
   "metadata": {},
   "outputs": [
    {
     "name": "stdout",
     "output_type": "stream",
     "text": [
      "Kathmandu\n",
      "34\n",
      "Hello World I am Ram. I am from Kathmandu. I am 34\n"
     ]
    }
   ],
   "source": [
    "class MyAge:\n",
    "    def __init__(self,age):\n",
    "        self.age = age\n",
    "    def myage(self):\n",
    "        print(self.age)\n",
    "        \n",
    "class Data:\n",
    "    def __init__(self,add):\n",
    "        self.add = add\n",
    "    def data(self):\n",
    "        print(self.add)\n",
    "\n",
    "class Info(MyAge,Data):\n",
    "    def __init__(self,name,age,add):\n",
    "        self.name = name\n",
    "        Data.__init__(self,add)\n",
    "        MyAge.__init__(self,age)\n",
    "    def info(self):\n",
    "        a = f\"Hello World I am {self.name}. I am from {self.add}. I am {self.age}\"\n",
    "        print(a)\n",
    "\n",
    "obj = Info(\"Ram\",34,\"Kathmandu\")\n",
    "obj.data()\n",
    "obj.myage()\n",
    "obj.info()"
   ]
  },
  {
   "cell_type": "code",
   "execution_count": 10,
   "id": "3ed2e3fb-44f8-4b3d-9497-725ff6720d49",
   "metadata": {},
   "outputs": [
    {
     "name": "stdout",
     "output_type": "stream",
     "text": [
      "Ram\n",
      "23\n",
      "Kathmandu\n"
     ]
    }
   ],
   "source": [
    "# Public members\n",
    "class Info:\n",
    "    def __init__(self,name,age,add):\n",
    "        self.name = name\n",
    "        self.age = age\n",
    "        self.add = add\n",
    "\n",
    "obj = Info(\"Ram\",23,\"Kathmandu\")\n",
    "print(obj.name)\n",
    "print(obj.age)\n",
    "print(obj.add)"
   ]
  },
  {
   "cell_type": "code",
   "execution_count": 12,
   "id": "175c7856-da7b-4a83-a84d-988d631582f3",
   "metadata": {},
   "outputs": [
    {
     "name": "stdout",
     "output_type": "stream",
     "text": [
      "Ram\n",
      "23\n",
      "Kathmandu\n"
     ]
    }
   ],
   "source": [
    "# Protected members\n",
    "class Info:\n",
    "    def __init__(self,name,age,add):\n",
    "        self._name = name\n",
    "        self._age = age\n",
    "        self._add = add\n",
    "\n",
    "obj = Info(\"Ram\",23,\"Kathmandu\")\n",
    "print(obj._name)\n",
    "print(obj._age)\n",
    "print(obj._add)"
   ]
  },
  {
   "cell_type": "code",
   "execution_count": null,
   "id": "274cde79-bd2c-4fcc-a0cd-9c297efade23",
   "metadata": {},
   "outputs": [],
   "source": [
    "# Private members\n",
    "class Info:\n",
    "    def __init__(self,name,age,add):\n",
    "        self.__name = name\n",
    "        self.__age = age\n",
    "        self.__add = add\n",
    "\n",
    "obj = Info(\"Ram\",23,\"Kathmandu\")\n",
    "print(obj.__name)\n",
    "print(obj.__age)\n",
    "print(obj.__add)"
   ]
  },
  {
   "cell_type": "code",
   "execution_count": null,
   "id": "86015b7f-ac25-44b1-b670-d6f9c0ceeaa7",
   "metadata": {},
   "outputs": [],
   "source": []
  },
  {
   "cell_type": "code",
   "execution_count": 14,
   "id": "942b27d0-b663-4c7f-ba43-2be4a30faeca",
   "metadata": {},
   "outputs": [
    {
     "name": "stdout",
     "output_type": "stream",
     "text": [
      "Ram 34 Kathmandu\n",
      "Hello World I am Ram. I am 34\n",
      "Ram\n"
     ]
    }
   ],
   "source": [
    "class Data:\n",
    "    def __init__(self,name,age,add):\n",
    "        self.name = name\n",
    "        self._age = age\n",
    "        self.__add = add\n",
    "    def data(self):\n",
    "        print(self.name,self._age,self.__add)\n",
    "    def my_add(self):\n",
    "        return  self.__add\n",
    "\n",
    "class Info(Data):\n",
    "    def info(self):\n",
    "        a = f\"Hello World I am {self.name}. I am {self._age}\"\n",
    "        print(a)\n",
    "\n",
    "obj = Info(\"Ram\",34,\"Kathmandu\")\n",
    "obj.data()\n",
    "obj.info()\n",
    "print(obj.name)"
   ]
  },
  {
   "cell_type": "code",
   "execution_count": 16,
   "id": "41cd66bb-7560-4c46-872b-612e8709aa32",
   "metadata": {},
   "outputs": [
    {
     "name": "stdout",
     "output_type": "stream",
     "text": [
      "Ram 34 Kathmandu\n",
      "Hello World I am Ram. I am from Kathmandu. I am 34\n",
      "Ram\n"
     ]
    }
   ],
   "source": [
    "class Data:\n",
    "    def __init__(self,name,age,add):\n",
    "        self.name = name\n",
    "        self._age = age\n",
    "        self.__add = add\n",
    "    def data(self):\n",
    "        print(self.name,self._age,self.__add)\n",
    "    def my_add(self):\n",
    "        return  self.__add\n",
    "\n",
    "class Info(Data):\n",
    "    def info(self):\n",
    "        a = f\"Hello World I am {self.name}. I am from {Data.my_add(self)}. I am {self._age}\"\n",
    "        print(a)\n",
    "\n",
    "obj = Info(\"Ram\",34,\"Kathmandu\")\n",
    "obj.data()\n",
    "obj.info()\n",
    "print(obj.name)"
   ]
  },
  {
   "cell_type": "code",
   "execution_count": 2,
   "id": "0f0b3dd3-18c7-4202-a390-4fd22b302f5d",
   "metadata": {},
   "outputs": [
    {
     "ename": "SyntaxError",
     "evalue": "invalid syntax (1596492399.py, line 3)",
     "output_type": "error",
     "traceback": [
      "\u001b[1;36m  Cell \u001b[1;32mIn[2], line 3\u001b[1;36m\u001b[0m\n\u001b[1;33m    <method1>()\u001b[0m\n\u001b[1;37m    ^\u001b[0m\n\u001b[1;31mSyntaxError\u001b[0m\u001b[1;31m:\u001b[0m invalid syntax\n"
     ]
    }
   ],
   "source": [
    "# Polymerphysim\n",
    "class A:\n",
    "    <method1>()\n",
    "    <method2>() \n",
    "class B:\n",
    "    <method1>()\n",
    "    <method2>()\n",
    "\n",
    "<define function>     #object as an argument (commom interface)\n",
    "obj1 = A()\n",
    "obj2 = B()\n",
    "function(obj1 or obj2)"
   ]
  },
  {
   "cell_type": "code",
   "execution_count": 4,
   "id": "c6f24d65-3ae1-4339-8fbb-074d438cf169",
   "metadata": {},
   "outputs": [
    {
     "name": "stdout",
     "output_type": "stream",
     "text": [
      "Parrot can fly\n",
      "Parrot can't swim\n",
      "Penguin can't fly\n",
      "Penguin can swim\n"
     ]
    }
   ],
   "source": [
    "class Parrot:\n",
    "    def fly(self):\n",
    "        print(\"Parrot can fly\")\n",
    "    def swim(self):\n",
    "        print(\"Parrot can't swim\")\n",
    "\n",
    "class Penguin:\n",
    "    def fly(self):\n",
    "        print(\"Penguin can't fly\")\n",
    "    def swim(self):\n",
    "        print(\"Penguin can swim\")\n",
    "\n",
    "# common interface\n",
    "def flying_test(bird):\n",
    "    bird.fly()\n",
    "    bird.swim()\n",
    "    \n",
    "#instantiate objects\n",
    "blu = Parrot()\n",
    "peggy = Penguin()\n",
    "\n",
    "# passing the object\n",
    "flying_test(blu)         #object as an argument\n",
    "flying_test(peggy)       #object as an argument"
   ]
  },
  {
   "cell_type": "code",
   "execution_count": null,
   "id": "4e08d27c-eb8b-4e1f-bfb8-cee16c24ce71",
   "metadata": {},
   "outputs": [],
   "source": []
  }
 ],
 "metadata": {
  "kernelspec": {
   "display_name": "Python [conda env:base] *",
   "language": "python",
   "name": "conda-base-py"
  },
  "language_info": {
   "codemirror_mode": {
    "name": "ipython",
    "version": 3
   },
   "file_extension": ".py",
   "mimetype": "text/x-python",
   "name": "python",
   "nbconvert_exporter": "python",
   "pygments_lexer": "ipython3",
   "version": "3.12.7"
  }
 },
 "nbformat": 4,
 "nbformat_minor": 5
}
