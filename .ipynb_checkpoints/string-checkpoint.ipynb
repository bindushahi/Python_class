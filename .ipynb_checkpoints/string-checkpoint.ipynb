{
 "cells": [
  {
   "cell_type": "code",
   "execution_count": 1,
   "id": "d91a71d4-92e3-45e7-8d88-bb96b2ec4afe",
   "metadata": {},
   "outputs": [
    {
     "name": "stdout",
     "output_type": "stream",
     "text": [
      "<class 'str'>\n",
      "<class 'str'>\n",
      "<class 'str'>\n"
     ]
    }
   ],
   "source": [
    "#string\n",
    "a='Hello'\n",
    "b=\"Hello World\"\n",
    "c='''Hello World'''\n",
    "print(type(a))\n",
    "print(type(b))\n",
    "print(type(c))"
   ]
  },
  {
   "cell_type": "code",
   "execution_count": 11,
   "id": "a5c0049e-cc3b-422d-bd8f-28a5cbe1846a",
   "metadata": {},
   "outputs": [
    {
     "name": "stdout",
     "output_type": "stream",
     "text": [
      "Hello World\n",
      "Hello World\n",
      "Hello World\n",
      "\n"
     ]
    }
   ],
   "source": [
    "#string concatination\n",
    "a=\"Hello \"\n",
    "b=\"World\"\n",
    "c=a+b\n",
    "print(c)\n",
    "\n",
    "a=\"Hello World\\n\"\n",
    "b=2\n",
    "print(a*b)"
   ]
  },
  {
   "cell_type": "code",
   "execution_count": 15,
   "id": "9c714722-d7c8-4a18-a54e-a8e57994abe0",
   "metadata": {},
   "outputs": [
    {
     "name": "stdout",
     "output_type": "stream",
     "text": [
      "e\n",
      "d\n",
      "Hello\n",
      "Hello\n",
      "World\n",
      "World\n",
      "11\n",
      "HloWrd\n",
      "dlroW olle\n",
      "dlroW olleH\n"
     ]
    }
   ],
   "source": [
    "#string is immutable which means once defined can't change the value)\n",
    "a=\"Hello World\"\n",
    "print(a[1])\n",
    "print(a[-1])\n",
    "\n",
    "print(a[0:5]) #string slicing\n",
    "print(a[:5])\n",
    "print(a[6:])\n",
    "print(a[6:100])\n",
    "\n",
    "#count the characters\n",
    "c=len(a)\n",
    "print(c)\n",
    "\n",
    "#increment index by 2\n",
    "print(a[0:11:2])\n",
    "\n",
    "#print inversely\n",
    "print(a[c-1:0:-1])    #logical error we did not get H\n",
    "\n",
    "#print in mirror order\n",
    "print(a[::-1])"
   ]
  },
  {
   "cell_type": "code",
   "execution_count": 27,
   "id": "7adcb7e7-5854-482d-8c41-3c3e4da4fe1c",
   "metadata": {
    "scrolled": true
   },
   "outputs": [
    {
     "name": "stdout",
     "output_type": "stream",
     "text": [
      "H\n",
      "e\n",
      "l\n",
      "l\n",
      "o\n",
      " \n",
      "W\n",
      "o\n",
      "r\n",
      "l\n",
      "d\n",
      ".\n",
      " \n",
      "I\n",
      "a\n",
      "m\n",
      " \n",
      "p\n",
      "y\n",
      "t\n",
      "h\n",
      "o\n",
      "n\n",
      "Hello World. Iam python"
     ]
    }
   ],
   "source": [
    "#indexing\n",
    "for i in a:\n",
    "    print(i)"
   ]
  },
  {
   "cell_type": "code",
   "execution_count": 29,
   "id": "27a1ee0c-6ac6-4ae8-ae1f-05aa376cba07",
   "metadata": {},
   "outputs": [
    {
     "name": "stdout",
     "output_type": "stream",
     "text": [
      "Hello World. Iam python"
     ]
    }
   ],
   "source": [
    "a=\"Hello World. Iam python\"\n",
    "l=len(a)\n",
    "for i in range(l):\n",
    "    print(a[i],end=\"\")"
   ]
  },
  {
   "cell_type": "code",
   "execution_count": 35,
   "id": "b179abfc-5bca-4ad3-b266-aa99d1d8b2b1",
   "metadata": {},
   "outputs": [
    {
     "name": "stdout",
     "output_type": "stream",
     "text": [
      "5\n",
      "12\n",
      "24\n"
     ]
    }
   ],
   "source": [
    "a=\"Hello. World. Iam python.\"\n",
    "l=len(a)\n",
    "for i in range(l):\n",
    "    if a[i]==\".\":\n",
    "        print(i)"
   ]
  },
  {
   "cell_type": "code",
   "execution_count": 6,
   "id": "03ca51ab-f970-47a8-a07a-f0290e1c39d1",
   "metadata": {},
   "outputs": [
    {
     "name": "stdout",
     "output_type": "stream",
     "text": [
      "Hello World. Iam python"
     ]
    }
   ],
   "source": [
    "#using while loop\n",
    "i=0\n",
    "a=\"Hello World. Iam python\"\n",
    "l=len(a)\n",
    "while i<l:\n",
    "    print(a[i],end=\"\")\n",
    "    i=i+1"
   ]
  },
  {
   "cell_type": "code",
   "execution_count": 4,
   "id": "9a13a411-6377-4c3d-9764-54c53d9c6000",
   "metadata": {},
   "outputs": [
    {
     "name": "stdout",
     "output_type": "stream",
     "text": [
      "11\n"
     ]
    }
   ],
   "source": [
    "i=0\n",
    "a=\"Hello World. Iam python\"\n",
    "l=len(a)\n",
    "while i<l:\n",
    "    if a[i]==\".\":\n",
    "        print(i)\n",
    "    i=i+1"
   ]
  },
  {
   "cell_type": "code",
   "execution_count": 3,
   "id": "e22e7878-01a5-47bd-b827-9ae072044999",
   "metadata": {},
   "outputs": [
    {
     "name": "stdout",
     "output_type": "stream",
     "text": [
      "Hello world Iam Ram Iam from KTM and Iam 34\n"
     ]
    }
   ],
   "source": [
    "#string formatting\n",
    "name=\"Ram\"\n",
    "add=\"KTM\"\n",
    "age=34\n",
    "# info=\"Hello world Iam \"+name+\"Iam from \"+add+\" and Iam \"+str(age)   #informal way\n",
    "\n",
    "info=f\"Hello world Iam {name} Iam from {add} and Iam {age}\"   # this is string formatting\n",
    "\n",
    "print(info)"
   ]
  },
  {
   "cell_type": "code",
   "execution_count": 6,
   "id": "de4b9599-f6bc-4e0f-bf0d-64f54aa58086",
   "metadata": {},
   "outputs": [
    {
     "name": "stdin",
     "output_type": "stream",
     "text": [
      "enter the types of products: 2\n",
      "Enter product name: apple\n",
      "enter the price: 100\n",
      "Enter quantity: 1\n",
      "Enter product name: grape\n",
      "enter the price: 100\n",
      "Enter quantity: 2\n"
     ]
    },
    {
     "name": "stdout",
     "output_type": "stream",
     "text": [
      "Yor bill is\n",
      " apple 100 1.0 100.0\n",
      "grape 100 2.0 200.0\n",
      "\n",
      "Your total is 300.0\n"
     ]
    }
   ],
   "source": [
    "# billing system\n",
    "bill=\"\"\n",
    "s=0\n",
    "n=int(input(\"enter the types of products:\"))\n",
    "for i in range(n):\n",
    "    product=input(\"Enter product name:\")\n",
    "    price=int(input(\"enter the price:\"))\n",
    "    Qty=float(input(\"Enter quantity:\"))\n",
    "    total=price*Qty\n",
    "    row=f\"{product} {price} {Qty} {total}\\n\"\n",
    "    bill=bill+row\n",
    "    s=s+total\n",
    "    \n",
    "print(\"Yor bill is\\n\",bill)\n",
    "print(\"Your total is\",s)\n",
    "    "
   ]
  },
  {
   "cell_type": "code",
   "execution_count": 17,
   "id": "87417a64-f6ad-4ac0-9e1b-438429cd6f99",
   "metadata": {},
   "outputs": [
    {
     "name": "stdin",
     "output_type": "stream",
     "text": [
      "Enter Name= Ram\n"
     ]
    },
    {
     "name": "stdout",
     "output_type": "stream",
     "text": [
      "Yes there is  Ram\n",
      "1\n"
     ]
    }
   ],
   "source": [
    "#search i.e character or sequence of character\n",
    "\n",
    "data=\"Ram Shyam Hari Nabin Sabin Rita\"\n",
    "name=input(\"Enter Name=\")\n",
    "if name in data:\n",
    "    print(\"Yes there is \",name)\n",
    "    print(data.count(name))\n",
    "else:\n",
    "    print(\"There is no such name\")"
   ]
  },
  {
   "cell_type": "code",
   "execution_count": 19,
   "id": "711b9c96-ef2a-4623-9b97-585191f9636a",
   "metadata": {},
   "outputs": [
    {
     "name": "stdout",
     "output_type": "stream",
     "text": [
      "RAM SHYAM HARI NABIN SABIN RITA\n",
      "ram shyam hari nabin sabin rita\n"
     ]
    }
   ],
   "source": [
    "#Case conversion\n",
    "data=\"Ram Shyam Hari Nabin Sabin Rita\"\n",
    "print(data.upper())\n",
    "print(data.lower())\n"
   ]
  },
  {
   "cell_type": "code",
   "execution_count": 27,
   "id": "ccde9ffd-f451-4454-afee-d6471101812d",
   "metadata": {},
   "outputs": [
    {
     "name": "stdin",
     "output_type": "stream",
     "text": [
      "Enter Name= Ram\n"
     ]
    },
    {
     "name": "stdout",
     "output_type": "stream",
     "text": [
      "Yes there is  ram\n",
      "3\n"
     ]
    }
   ],
   "source": [
    "#case insensitive\n",
    "data=\"Ram Shyam Hari Nabin Sabin Rita Ramesh Shramesh\".lower()  #think ram and ramesh are same so this is limitation so we prefere doing it in array not in string  list\n",
    "name=input(\"Enter Name=\").lower()\n",
    "if name in data:\n",
    "    print(\"Yes there is \",name)\n",
    "    print(data.count(name))\n",
    "else:\n",
    "    print(\"There is no such name\")"
   ]
  },
  {
   "cell_type": "code",
   "execution_count": 45,
   "id": "21e84cc8-5c5c-42a5-8263-e7252448702f",
   "metadata": {},
   "outputs": [
    {
     "name": "stdout",
     "output_type": "stream",
     "text": [
      "Ram Shyam Harry  Sabin Rita\n"
     ]
    }
   ],
   "source": [
    "#replace() function in string i.e remove one from data\n",
    "data=\"Ram Shyam Hari Nabin Sabin Rita\"\n",
    "data=data.replace(\"Hari\",\"Harry\")  #variable. function or object\n",
    "data=data.replace(\"Nabin\",\"\")\n",
    "print(data)"
   ]
  },
  {
   "cell_type": "code",
   "execution_count": 39,
   "id": "2b6570a9-d3b6-4055-b487-970eec94ef8d",
   "metadata": {},
   "outputs": [
    {
     "name": "stdout",
     "output_type": "stream",
     "text": [
      "Ram Shyam Hari Nabin Sabin Rita\n"
     ]
    }
   ],
   "source": [
    "#.title change the first letter into capital\n",
    "data=\"ram shyam hari nabin sabin rita\"\n",
    "print(data.title())"
   ]
  },
  {
   "cell_type": "code",
   "execution_count": 5,
   "id": "0a55cce3-1eb2-46b1-a598-6ee8b40c1fb9",
   "metadata": {},
   "outputs": [
    {
     "name": "stdin",
     "output_type": "stream",
     "text": [
      "Enter Name= ram\n"
     ]
    },
    {
     "name": "stdout",
     "output_type": "stream",
     "text": [
      "Yes there is  ram\n",
      "2\n",
      " Shyam Hari Nabin Sabin Rita Esh\n"
     ]
    }
   ],
   "source": [
    "#search and replace\n",
    "data=\"Ram Shyam Hari Nabin Sabin Rita ramesh\".lower()\n",
    "name=input(\"Enter Name=\").lower()\n",
    "if name in data:\n",
    "    print(\"Yes there is \",name)\n",
    "    print(data.count(name))\n",
    "    data=data.replace(name,\"\")\n",
    "    print(data.title())\n",
    "else:\n",
    "    print(\"There is no such name\")"
   ]
  },
  {
   "cell_type": "code",
   "execution_count": null,
   "id": "0fe2e60a-905f-401a-b593-8dec9044269f",
   "metadata": {},
   "outputs": [],
   "source": [
    "# wap to enter the marks of students calculate total percentages and grades and create a data entry application\n",
    "#ram,60,50,30,60,70,400,80,A\n",
    "#shyam 45 42 45 123 454 90 B\n",
    "\n",
    "result=\"\"\n",
    "n=int(input(\"Enter n=\"))\n",
    "for i in range (n):\n",
    "    name=input(\"Enter the name of student\")\n",
    "\n",
    "    Science=int(input(\"Enter marks of science\"))\n",
    "    Maths=int(input(\"Enter marks of science\"))\n",
    "    Social=int(input(\"Enter marks of science\"))\n",
    "    English=int(input(\"Enter marks of science\"))\n",
    "    Computer=int(input(\"Enter marks of science\"))\n",
    "    \n",
    "    total=Science + Maths + Social + English + Computer\n",
    "\n",
    "    percentage=total/5\n",
    "    \n",
    "    if Science>=45 and Maths>=45 and Social>=45 and English>=45 and Computer>=45:\n",
    "    \n",
    "            \n",
    "        if percentage >= 90:\n",
    "            print(\"Your grade is A+\")\n",
    "        \n",
    "        elif percentage >= 80:\n",
    "            print(\"Your grade is B\")\n",
    "        \n",
    "        elif percentage >= 70:\n",
    "            print(\"Your grade is C\")\n",
    "        \n",
    "        elif percentage >= 60:\n",
    "            print(\"Your grade is D\")\n",
    "    else:\n",
    "            print(\"you failed\")\n",
    "    \n",
    "    print(\"your total marks is\",total)\n",
    "    # print(\"your peercentages is\",percentage)\n",
    "\n",
    "    data=f\"{name} {Science} {Maths} {Social} {English} {Computer} \\n\"\n",
    "    result=result+data\n",
    "print(result)"
   ]
  },
  {
   "cell_type": "code",
   "execution_count": null,
   "id": "6e8ce24c-ce43-4128-8a67-c0b45b20eb6c",
   "metadata": {},
   "outputs": [],
   "source": []
  },
  {
   "cell_type": "code",
   "execution_count": null,
   "id": "59a620e6-891e-4744-8fae-e63a80b685c0",
   "metadata": {},
   "outputs": [],
   "source": []
  },
  {
   "cell_type": "code",
   "execution_count": null,
   "id": "a066611e-f4d4-4e2e-8513-c4ced5a9041b",
   "metadata": {},
   "outputs": [],
   "source": []
  }
 ],
 "metadata": {
  "kernelspec": {
   "display_name": "Python [conda env:base] *",
   "language": "python",
   "name": "conda-base-py"
  },
  "language_info": {
   "codemirror_mode": {
    "name": "ipython",
    "version": 3
   },
   "file_extension": ".py",
   "mimetype": "text/x-python",
   "name": "python",
   "nbconvert_exporter": "python",
   "pygments_lexer": "ipython3",
   "version": "3.12.7"
  }
 },
 "nbformat": 4,
 "nbformat_minor": 5
}
