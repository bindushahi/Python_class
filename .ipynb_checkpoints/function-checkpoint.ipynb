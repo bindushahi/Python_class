{
 "cells": [
  {
   "cell_type": "code",
   "execution_count": null,
   "id": "70e3011f-825e-4f25-82d9-591c91054b52",
   "metadata": {},
   "outputs": [],
   "source": [
    "# #function's type \n",
    "# #predefined i.e int(), float(),str(),list(),tuple(),set(),print(),type()\n",
    "# #userdefined i.e bulk of code which we have created when we needed\n",
    "\n",
    "# def <function_name>():    #define the function\n",
    "#     <operation>\n",
    "# <function_name>()         #call the function\n",
    "\n"
   ]
  },
  {
   "cell_type": "code",
   "execution_count": 2,
   "id": "65c4fdb9-e0ae-4718-a446-7351c6b84ab6",
   "metadata": {},
   "outputs": [
    {
     "name": "stdout",
     "output_type": "stream",
     "text": [
      "Helloooo World\n"
     ]
    }
   ],
   "source": [
    "def hello():\n",
    "    print(\"Helloooo World\")\n",
    "hello()"
   ]
  },
  {
   "cell_type": "code",
   "execution_count": 3,
   "id": "8d3f3db3-d7e1-4681-9c53-16ce1afc5530",
   "metadata": {},
   "outputs": [
    {
     "name": "stdin",
     "output_type": "stream",
     "text": [
      "Enter the value P: 4\n",
      "Enter the value t: 3\n",
      "Enter the value r: 4\n"
     ]
    },
    {
     "name": "stdout",
     "output_type": "stream",
     "text": [
      "48.0\n"
     ]
    }
   ],
   "source": [
    "#function without return type and argument\n",
    "def cal():\n",
    "    p=int(input(\"Enter the value P:\"))   #local variable\n",
    "    t=float(input(\"Enter the value t:\"))  #local variable\n",
    "    r=float(input(\"Enter the value r:\"))  #local variable\n",
    "    i=p*t*r\n",
    "    print(i)\n",
    "cal()                  \n",
    "\n",
    "    "
   ]
  },
  {
   "cell_type": "code",
   "execution_count": null,
   "id": "8ce47a22-824f-4100-bf95-0fcc9e2974d6",
   "metadata": {},
   "outputs": [],
   "source": [
    "# Variable type i.e local and global variable \n",
    "#inside function, i.e, local and outside function, i.e, global variable\n",
    "\n",
    "\n",
    "p=int(input(\"Enter the value P:\"))   #global variable\n",
    "    t=float(input(\"Enter the value t:\")) #global variable\n",
    "    r=float(input(\"Enter the value r:\")) #global variable\n",
    "def cal():    # function should start with small letter\n",
    "    i=p*t*r\n",
    "    print(i)\n",
    "cal()    "
   ]
  },
  {
   "cell_type": "code",
   "execution_count": 5,
   "id": "de91f76d-bf2f-414c-808f-8b99c1b59ce8",
   "metadata": {},
   "outputs": [
    {
     "name": "stdin",
     "output_type": "stream",
     "text": [
      "Enter name: Ram\n",
      "Enter age: 23\n",
      "Enter add: ktm\n"
     ]
    },
    {
     "name": "stdout",
     "output_type": "stream",
     "text": [
      "Hello Iam Ram Iam from ktm Iam 23\n"
     ]
    }
   ],
   "source": [
    "#Arguments and parameters\n",
    "\n",
    "#function with arguments\n",
    "def info(name,age,add):   #parameter\n",
    "    print(\"Hello Iam\",name,\"Iam from\",add,\"Iam\",age)\n",
    "name=input(\"Enter name:\")\n",
    "age=input(\"Enter age:\")\n",
    "add=input(\"Enter add:\")\n",
    "\n",
    "info(name,age,add) #carrying arguments\n",
    "\n",
    "\n",
    "\n"
   ]
  },
  {
   "cell_type": "code",
   "execution_count": null,
   "id": "c15a5b4a-9bf9-420d-bc3c-3c69526f82df",
   "metadata": {},
   "outputs": [],
   "source": []
  }
 ],
 "metadata": {
  "kernelspec": {
   "display_name": "Python [conda env:base] *",
   "language": "python",
   "name": "conda-base-py"
  },
  "language_info": {
   "codemirror_mode": {
    "name": "ipython",
    "version": 3
   },
   "file_extension": ".py",
   "mimetype": "text/x-python",
   "name": "python",
   "nbconvert_exporter": "python",
   "pygments_lexer": "ipython3",
   "version": "3.12.7"
  }
 },
 "nbformat": 4,
 "nbformat_minor": 5
}
