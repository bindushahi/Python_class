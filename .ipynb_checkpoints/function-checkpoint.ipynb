{
 "cells": [
  {
   "cell_type": "code",
   "execution_count": null,
   "id": "70e3011f-825e-4f25-82d9-591c91054b52",
   "metadata": {},
   "outputs": [],
   "source": [
    "# #function's type \n",
    "# #predefined i.e int(), float(),str(),list(),tuple(),set(),print(),type()\n",
    "# #userdefined i.e bulk of code which we have created when we needed\n",
    "\n",
    "# def <function_name>():    #define the function\n",
    "#     <operation>\n",
    "# <function_name>()         #call the function\n",
    "\n"
   ]
  },
  {
   "cell_type": "code",
   "execution_count": 2,
   "id": "65c4fdb9-e0ae-4718-a446-7351c6b84ab6",
   "metadata": {},
   "outputs": [
    {
     "name": "stdout",
     "output_type": "stream",
     "text": [
      "Helloooo World\n"
     ]
    }
   ],
   "source": [
    "def hello():\n",
    "    print(\"Helloooo World\")\n",
    "hello()"
   ]
  },
  {
   "cell_type": "code",
   "execution_count": 9,
   "id": "5b758ea1-f115-4d0c-be75-5ca26a28ffb7",
   "metadata": {},
   "outputs": [
    {
     "name": "stdout",
     "output_type": "stream",
     "text": [
      "The addition of 3 and 5 results 8.\n"
     ]
    }
   ],
   "source": [
    "#function with parameters and areguments\n",
    "def sum(num1:int,num2:int):\n",
    "    num3=num1+num2\n",
    "    return num3\n",
    "result=sum(3,5)\n",
    "print(f\"The addition of 3 and 5 results {result}.\")\n",
    "\n"
   ]
  },
  {
   "cell_type": "code",
   "execution_count": null,
   "id": "5ee31314-f2f9-4af0-b74a-2b3629d053ee",
   "metadata": {},
   "outputs": [],
   "source": [
    "#finding prime number using function\n",
    "def is_prime(n):\n",
    "    if n<2:\n",
    "        return False\n",
    "    for i in range(2,n):\n",
    "        if n%2==0:\n",
    "            return False\n",
    "    return True\n",
    "\n",
    "num=int(input(\"Enter the value:\"))\n",
    "print(\"Prime\" if is_prime(num) else \"Not prime\")\n",
    "    \n",
    "    "
   ]
  },
  {
   "cell_type": "code",
   "execution_count": null,
   "id": "cebc5503-d44b-4558-9dee-5c44a83e81b7",
   "metadata": {},
   "outputs": [],
   "source": [
    "#using function to find the simple interes\n",
    "# def simple(p,t,r):\n",
    "#     si=p*t*r/100\n",
    "#     return si\n",
    "\n",
    "# p=int(input(\"Enter the principal:\"))\n",
    "# t=int(input(\"Enter the time:\"))\n",
    "# r=int(input(\"Enter the rate:\"))\n",
    "\n",
    "# print(\"The simple interest is\",simple(p,t,r))\n",
    "\n",
    "\n",
    "\n",
    "# or\n",
    "\n",
    "def simple(p,t,r):\n",
    "    si=p*t*r/100\n",
    "    return si\n",
    "\n",
    "p=int(input(\"Enter the principal:\"))\n",
    "t=int(input(\"Enter the time:\"))\n",
    "r=int(input(\"Enter the rate:\"))\n",
    "\n",
    "\n",
    "SI=simple(p,t,r)\n",
    "print(\"The simple interest is\",SI)"
   ]
  },
  {
   "cell_type": "code",
   "execution_count": 3,
   "id": "8d3f3db3-d7e1-4681-9c53-16ce1afc5530",
   "metadata": {},
   "outputs": [
    {
     "name": "stdin",
     "output_type": "stream",
     "text": [
      "Enter the value P: 4\n",
      "Enter the value t: 3\n",
      "Enter the value r: 4\n"
     ]
    },
    {
     "name": "stdout",
     "output_type": "stream",
     "text": [
      "48.0\n"
     ]
    }
   ],
   "source": [
    "#function without return type and argument\n",
    "def cal():\n",
    "    p=int(input(\"Enter the value P:\"))   #local variable\n",
    "    t=float(input(\"Enter the value t:\"))  #local variable\n",
    "    r=float(input(\"Enter the value r:\"))  #local variable\n",
    "    i=p*t*r\n",
    "    print(i)\n",
    "cal()                  \n",
    "\n",
    "    "
   ]
  },
  {
   "cell_type": "code",
   "execution_count": null,
   "id": "8ce47a22-824f-4100-bf95-0fcc9e2974d6",
   "metadata": {},
   "outputs": [],
   "source": [
    "# Variable type i.e local and global variable \n",
    "#inside function, i.e, local and outside function, i.e, global variable\n",
    "\n",
    "\n",
    "p=int(input(\"Enter the value P:\"))   #global variable\n",
    "    t=float(input(\"Enter the value t:\")) #global variable\n",
    "    r=float(input(\"Enter the value r:\")) #global variable\n",
    "def cal():    # function should start with small letter\n",
    "    i=p*t*r\n",
    "    print(i)\n",
    "cal()    "
   ]
  },
  {
   "cell_type": "code",
   "execution_count": 13,
   "id": "e12883fd-adc1-4a82-b3c3-df98d46bbf25",
   "metadata": {},
   "outputs": [
    {
     "name": "stdout",
     "output_type": "stream",
     "text": [
      "inside function 10\n",
      "outside function 10\n"
     ]
    }
   ],
   "source": [
    "# #local and global variable and use og global keyword\n",
    "# to modify global variable we have to use global keyword\n",
    "s=4\n",
    "def modify():\n",
    "    global s\n",
    "    s=s+6\n",
    "    print(\"inside function\",s)\n",
    "modify()\n",
    "print(\"outside function\",s)\n"
   ]
  },
  {
   "cell_type": "code",
   "execution_count": 5,
   "id": "de91f76d-bf2f-414c-808f-8b99c1b59ce8",
   "metadata": {},
   "outputs": [
    {
     "name": "stdin",
     "output_type": "stream",
     "text": [
      "Enter name: Ram\n",
      "Enter age: 23\n",
      "Enter add: ktm\n"
     ]
    },
    {
     "name": "stdout",
     "output_type": "stream",
     "text": [
      "Hello Iam Ram Iam from ktm Iam 23\n"
     ]
    }
   ],
   "source": [
    "#Arguments and parameters\n",
    "\n",
    "#function with arguments\n",
    "def info(name,age,add):   #parameter\n",
    "    print(\"Hello, I am\", name, \"I am from\", add, \"I am\", age)\n",
    "name=input(\"Enter name:\")\n",
    "age=input(\"Enter age:\")\n",
    "add=input(\"Enter add:\")\n",
    "\n",
    "info(name,age,add) #carrying arguments"
   ]
  },
  {
   "cell_type": "code",
   "execution_count": 13,
   "id": "c15a5b4a-9bf9-420d-bc3c-3c69526f82df",
   "metadata": {},
   "outputs": [
    {
     "name": "stdout",
     "output_type": "stream",
     "text": [
      "Python\n"
     ]
    }
   ],
   "source": [
    "#if there is no argument then it takes the parameter if defined\n",
    "\n",
    "def language(lan=\"Python\"):    #parameter define\n",
    "    print(lan)\n",
    "language()\n",
    "language(\"C\")\n",
    "language(\"C++\")\n",
    "language(\"Java\")"
   ]
  },
  {
   "cell_type": "code",
   "execution_count": 3,
   "id": "849bd25d-3422-41c9-a049-525ab3ef36e6",
   "metadata": {},
   "outputs": [
    {
     "name": "stdout",
     "output_type": "stream",
     "text": [
      "Hello World I am Ram Iam 30 Iam from Nepal\n"
     ]
    }
   ],
   "source": [
    "# # #if there is a default value in the parameter and the default value has to define at last \n",
    "\n",
    "#default value in function\n",
    "def info(name, age,add=\"Nepal\"):\n",
    "    print(\"Hello World I am\", name,\"Iam\",age,\"Iam from\",add)\n",
    "name=\"Ram\"\n",
    "age=60\n",
    "info(name,age)\n",
    "\n",
    "\n",
    "\n",
    "#if address is given as well\n",
    "def info(name, age,add=\"Nepal\"):\n",
    "    print(\"Hello World I am\", name,\"Iam\",age,\"Iam from\",add)\n",
    "name=\"Ram\"\n",
    "age=60\n",
    "add=\"Kathmandu\"\n",
    "info(name,age,add)\n",
    "\n",
    "\n",
    "\n",
    "def info(name, age=30,add=\"Nepal\"):\n",
    "    print(\"Hello World I am\", name,\"Iam\",age,\"Iam from\",add)\n",
    "name=\"Ram\"\n",
    "info(name)\n"
   ]
  },
  {
   "cell_type": "code",
   "execution_count": null,
   "id": "24f6d8dc-8f44-4284-93e8-fcfa28910a44",
   "metadata": {},
   "outputs": [],
   "source": [
    "#function within function also called inner or nested function\n",
    "\n",
    "def f1():\n",
    "    s=\"Hello World\"\n",
    "    def f2():\n",
    "        print(s)\n",
    "    f2()\n",
    "f1()"
   ]
  },
  {
   "cell_type": "code",
   "execution_count": 1,
   "id": "3c036e53-e164-4a5c-8d42-b1361e0df415",
   "metadata": {},
   "outputs": [
    {
     "name": "stdout",
     "output_type": "stream",
     "text": [
      "Hello World I am Ram. I am from Kathmandu I am 45\n"
     ]
    }
   ],
   "source": [
    "def info(l):\n",
    "    x,y,z = l\n",
    "    print(f\"Hello World I am {x}. I am from {add} I am {age}\")\n",
    "\n",
    "name = \"Ram\"\n",
    "age = 45\n",
    "add = \"Kathmandu\"\n",
    "l = [name,age,add]\n",
    "info(l)"
   ]
  },
  {
   "cell_type": "code",
   "execution_count": 3,
   "id": "87507b40-2b40-405c-8581-0426414bf113",
   "metadata": {},
   "outputs": [
    {
     "name": "stdout",
     "output_type": "stream",
     "text": [
      "Hello World I am Ram. I am from Kathmandu I am 45\n"
     ]
    }
   ],
   "source": [
    "def info(k):\n",
    "    print(f\"Hello World I am {k['name']}. I am from {k['add']} I am {k['age']}\")\n",
    "\n",
    "name = \"Ram\"\n",
    "age = 45\n",
    "add = \"Kathmandu\"\n",
    "d = {'name':name,'age':age,'add':add}\n",
    "info(d)"
   ]
  },
  {
   "cell_type": "code",
   "execution_count": 5,
   "id": "f4512ebe-b5af-499a-9f08-27bbeab76070",
   "metadata": {},
   "outputs": [
    {
     "name": "stdout",
     "output_type": "stream",
     "text": [
      "Hello World\n"
     ]
    }
   ],
   "source": [
    "#return type function\n",
    "def hello():\n",
    "    x = \"Hello World\"\n",
    "    return x\n",
    "\n",
    "print(hello())"
   ]
  },
  {
   "cell_type": "code",
   "execution_count": 12,
   "id": "320938fd-98a7-41e2-a61f-4f81a33013e4",
   "metadata": {},
   "outputs": [
    {
     "name": "stdout",
     "output_type": "stream",
     "text": [
      "5\n",
      "True\n"
     ]
    }
   ],
   "source": [
    "def add(a,b):\n",
    "    sum=a+b\n",
    "    return sum\n",
    "def is_true(a):\n",
    "    return (bool(a))\n",
    "res=add(2,3)\n",
    "print(res)\n",
    "\n",
    "res=is_true(5)\n",
    "print(res)"
   ]
  },
  {
   "cell_type": "code",
   "execution_count": 7,
   "id": "3028d550-6e9a-42f8-8a18-8fc2d3209d1f",
   "metadata": {},
   "outputs": [
    {
     "name": "stdout",
     "output_type": "stream",
     "text": [
      "Hello World I am Python\n"
     ]
    }
   ],
   "source": [
    "def hello():\n",
    "    x = \"Hello World\"\n",
    "    return x\n",
    "\n",
    "y = hello()\n",
    "info = y + \" I am Python\"\n",
    "print(info)"
   ]
  },
  {
   "cell_type": "code",
   "execution_count": null,
   "id": "35d05c5e-5ab5-4f38-ba78-3c6ac9842a9e",
   "metadata": {},
   "outputs": [],
   "source": [
    "#function with arguments and return type\n",
    "def area(l,b):\n",
    "    a = l*b\n",
    "    return a\n",
    "\n",
    "l = int(input(\"Enter l = \"))\n",
    "b = int(input(\"Enter b = \"))\n",
    "h = int(input(\"Enter h = \"))\n",
    "ar = area(l,b)\n",
    "v = ar*h\n",
    "print(\"The volume = \",v)"
   ]
  },
  {
   "cell_type": "code",
   "execution_count": 38,
   "id": "c5f70bdc-828c-44c4-aa05-48ad921c004f",
   "metadata": {},
   "outputs": [
    {
     "name": "stdin",
     "output_type": "stream",
     "text": [
      "Enter value of a 3\n",
      "Enter value of b 4\n",
      "Enter value operator +\n"
     ]
    },
    {
     "name": "stdout",
     "output_type": "stream",
     "text": [
      "7\n"
     ]
    }
   ],
   "source": [
    "#making calculator using function\n",
    "def add(a,b):\n",
    "    return a+b\n",
    "def sub(a,b):\n",
    "    return a-b\n",
    "def mul(a,b):\n",
    "    return a*b\n",
    "def div(a,b):\n",
    "    return a/b\n",
    "\n",
    "def cal(a,b,o):\n",
    "    if o==\"+\":\n",
    "        print(add(a,b))\n",
    "    elif o==\"-\":\n",
    "        print(sub(a,b))\n",
    "    elif o==\"*\":\n",
    "        print(mul(a,b))\n",
    "    else:\n",
    "        print(div(a,b))\n",
    "a=int(input(\"Enter value of a\"))\n",
    "b=int(input(\"Enter value of b\"))\n",
    "o=input(\"Enter value operator\")\n",
    "cal(a,b,o)\n"
   ]
  },
  {
   "cell_type": "code",
   "execution_count": 1,
   "id": "b567fed7-0675-4173-bf1a-d93fbfc93c3b",
   "metadata": {},
   "outputs": [],
   "source": [
    "# # Recursive function\n",
    "# def hello():\n",
    "#     print(\"Hello World\")\n",
    "#     hello()\n",
    "    \n",
    "# hello()"
   ]
  },
  {
   "cell_type": "code",
   "execution_count": null,
   "id": "fee8cbd6-f7e2-4158-b49f-570065442e0b",
   "metadata": {},
   "outputs": [
    {
     "name": "stdout",
     "output_type": "stream",
     "text": [
      "Hello World\n"
     ]
    },
    {
     "name": "stdin",
     "output_type": "stream",
     "text": [
      "Enter a for more print. y\n"
     ]
    },
    {
     "name": "stdout",
     "output_type": "stream",
     "text": [
      "Hello World\n"
     ]
    }
   ],
   "source": [
    "def hello():\n",
    "    print(\"Hello World\")\n",
    "    x = input(\"Enter a for more print.\")\n",
    "    if x == 'y':\n",
    "        hello()\n",
    "    \n",
    "hello()"
   ]
  },
  {
   "cell_type": "code",
   "execution_count": 1,
   "id": "71cff80a-f674-4d37-891f-c6b74c48de58",
   "metadata": {},
   "outputs": [
    {
     "name": "stdout",
     "output_type": "stream",
     "text": [
      "4\n"
     ]
    }
   ],
   "source": [
    "# lambda function also called anonymous function\n",
    "#lambda <argument>:<operation>\n",
    "\n",
    "x = lambda a:a*a\n",
    "print(x(2))"
   ]
  },
  {
   "cell_type": "code",
   "execution_count": 5,
   "id": "054c08ff-b32e-4287-ad89-5523998ea0f4",
   "metadata": {},
   "outputs": [
    {
     "name": "stdout",
     "output_type": "stream",
     "text": [
      "12\n"
     ]
    },
    {
     "name": "stdin",
     "output_type": "stream",
     "text": [
      "Enter l= 3\n",
      "Enter b= 3\n"
     ]
    },
    {
     "name": "stdout",
     "output_type": "stream",
     "text": [
      "9\n"
     ]
    }
   ],
   "source": [
    "#finding area using lambda function\n",
    "x=lambda l,b:l*b\n",
    "l=3\n",
    "b=4\n",
    "print(x(l,b))\n",
    "\n",
    "\n",
    "x=lambda l,b:l*b\n",
    "l=int(input(\"Enter l=\"))\n",
    "b=int(input(\"Enter b=\"))\n",
    "print(x(l,b))\n"
   ]
  },
  {
   "cell_type": "code",
   "execution_count": 2,
   "id": "3eea864e-eb73-48f7-a5e4-308a5987c786",
   "metadata": {},
   "outputs": [
    {
     "data": {
      "text/plain": [
       "['Apple', 'Ant']"
      ]
     },
     "execution_count": 2,
     "metadata": {},
     "output_type": "execute_result"
    }
   ],
   "source": [
    "# filter() map()\n",
    "# filter()\n",
    "# list(filter(lambda <arugument>:<expresion>, list))\n",
    "l = [234,564,67,987,435,657,687,0,34,456,657,89,98,123,324,453,6]\n",
    "list(filter(lambda x:x%2==0, l))\n",
    "\n",
    "\n",
    "l = [\"Apple\",\"Ant\",\"Cat\",\"Dog\"]\n",
    "list(filter(lambda x:x[0]==\"A\", l))"
   ]
  },
  {
   "cell_type": "code",
   "execution_count": 4,
   "id": "ade139a2-c6e5-4952-9717-d722c29eddca",
   "metadata": {},
   "outputs": [
    {
     "data": {
      "text/plain": [
       "[1, 4, 9, 16, 25, 36, 49, 64, 81, 100]"
      ]
     },
     "execution_count": 4,
     "metadata": {},
     "output_type": "execute_result"
    }
   ],
   "source": [
    "# map()\n",
    "# list(map(lambda <arugument>:<operation>, list))\n",
    "l = [1,2,3,4,5,6,7,8,9,10]\n",
    "list(map(lambda x:x**2,l))"
   ]
  },
  {
   "cell_type": "code",
   "execution_count": 6,
   "id": "dd352358-b9ab-4d9d-bc71-0c5e51e2ee37",
   "metadata": {},
   "outputs": [
    {
     "data": {
      "text/plain": [
       "['apple', 'ball', 'cat', 'dog']"
      ]
     },
     "execution_count": 6,
     "metadata": {},
     "output_type": "execute_result"
    }
   ],
   "source": [
    "a = [\"Apple\",\"Ball\",\"CAT\",\"DOg\"]\n",
    "list(map(lambda x:x.lower(),a))"
   ]
  },
  {
   "cell_type": "code",
   "execution_count": 8,
   "id": "a60a5d6a-525b-4541-91a8-b50a13d22a23",
   "metadata": {},
   "outputs": [
    {
     "data": {
      "text/plain": [
       "['CAT', 'DOg']"
      ]
     },
     "execution_count": 8,
     "metadata": {},
     "output_type": "execute_result"
    }
   ],
   "source": [
    "a = [\"Apple\",\"Ball\",\"CAT\",\"DOg\"]\n",
    "list(filter(lambda x:len(x)==3,a))"
   ]
  },
  {
   "cell_type": "code",
   "execution_count": null,
   "id": "97b55ed7-0cda-4a8e-9fec-1ec9876c9319",
   "metadata": {},
   "outputs": [],
   "source": []
  },
  {
   "cell_type": "code",
   "execution_count": null,
   "id": "869a4126-76c0-495f-83c1-22bb9ced2077",
   "metadata": {},
   "outputs": [],
   "source": []
  },
  {
   "cell_type": "code",
   "execution_count": null,
   "id": "d4cd3f8f-a205-4aae-884f-c64c607c6ece",
   "metadata": {},
   "outputs": [],
   "source": []
  },
  {
   "cell_type": "code",
   "execution_count": null,
   "id": "64ae5634-7e9c-4f2d-9fd8-7a99bd6a55e8",
   "metadata": {},
   "outputs": [],
   "source": []
  },
  {
   "cell_type": "code",
   "execution_count": null,
   "id": "718c5cae-1140-4640-aeba-52efbcf213ff",
   "metadata": {},
   "outputs": [],
   "source": []
  }
 ],
 "metadata": {
  "kernelspec": {
   "display_name": "Python [conda env:base] *",
   "language": "python",
   "name": "conda-base-py"
  },
  "language_info": {
   "codemirror_mode": {
    "name": "ipython",
    "version": 3
   },
   "file_extension": ".py",
   "mimetype": "text/x-python",
   "name": "python",
   "nbconvert_exporter": "python",
   "pygments_lexer": "ipython3",
   "version": "3.12.7"
  }
 },
 "nbformat": 4,
 "nbformat_minor": 5
}
