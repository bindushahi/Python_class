{
 "cells": [
  {
   "cell_type": "code",
   "execution_count": null,
   "id": "70e3011f-825e-4f25-82d9-591c91054b52",
   "metadata": {},
   "outputs": [],
   "source": [
    "# #function's type \n",
    "# #predefined i.e int(), float(),str(),list(),tuple(),set(),print(),type()\n",
    "# #userdefined i.e bulk of code which we have created when we needed\n",
    "\n",
    "# def <function_name>():    #define the function\n",
    "#     <operation>\n",
    "# <function_name>()         #call the function\n"
   ]
  },
  {
   "cell_type": "code",
   "execution_count": 2,
   "id": "65c4fdb9-e0ae-4718-a446-7351c6b84ab6",
   "metadata": {},
   "outputs": [
    {
     "name": "stdout",
     "output_type": "stream",
     "text": [
      "Helloooo World\n"
     ]
    }
   ],
   "source": [
    "def hello():\n",
    "    print(\"Helloooo World\")\n",
    "hello()"
   ]
  },
  {
   "cell_type": "code",
   "execution_count": 3,
   "id": "8d3f3db3-d7e1-4681-9c53-16ce1afc5530",
   "metadata": {},
   "outputs": [
    {
     "name": "stdin",
     "output_type": "stream",
     "text": [
      "Enter the value P: 4\n",
      "Enter the value t: 3\n",
      "Enter the value r: 4\n"
     ]
    },
    {
     "name": "stdout",
     "output_type": "stream",
     "text": [
      "48.0\n"
     ]
    }
   ],
   "source": [
    "#function without returntype and argument\n",
    "def cal():\n",
    "    p=int(input(\"Enter the value P:\"))\n",
    "    t=float(input(\"Enter the value t:\"))\n",
    "    r=float(input(\"Enter the value r:\"))\n",
    "    i=p*t*r\n",
    "    print(i)\n",
    "cal()\n",
    "\n",
    "    "
   ]
  },
  {
   "cell_type": "code",
   "execution_count": null,
   "id": "8ce47a22-824f-4100-bf95-0fcc9e2974d6",
   "metadata": {},
   "outputs": [],
   "source": []
  }
 ],
 "metadata": {
  "kernelspec": {
   "display_name": "Python [conda env:base] *",
   "language": "python",
   "name": "conda-base-py"
  },
  "language_info": {
   "codemirror_mode": {
    "name": "ipython",
    "version": 3
   },
   "file_extension": ".py",
   "mimetype": "text/x-python",
   "name": "python",
   "nbconvert_exporter": "python",
   "pygments_lexer": "ipython3",
   "version": "3.12.7"
  }
 },
 "nbformat": 4,
 "nbformat_minor": 5
}
