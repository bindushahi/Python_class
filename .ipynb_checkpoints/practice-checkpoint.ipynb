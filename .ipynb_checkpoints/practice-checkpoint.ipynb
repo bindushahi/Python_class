{
 "cells": [
  {
   "cell_type": "code",
   "execution_count": 1,
   "id": "59d1c44b-ddc7-467a-9acc-03a34fddc0ca",
   "metadata": {},
   "outputs": [
    {
     "name": "stdout",
     "output_type": "stream",
     "text": [
      "Collecting pyjokes\n",
      "  Downloading pyjokes-0.8.3-py3-none-any.whl.metadata (3.4 kB)\n",
      "Downloading pyjokes-0.8.3-py3-none-any.whl (47 kB)\n",
      "Installing collected packages: pyjokes\n",
      "Successfully installed pyjokes-0.8.3\n",
      "Note: you may need to restart the kernel to use updated packages.\n"
     ]
    }
   ],
   "source": [
    "pip install pyjokes"
   ]
  },
  {
   "cell_type": "code",
   "execution_count": 3,
   "id": "557b3601-7d68-46f1-8ed5-ce1dc8a4797f",
   "metadata": {},
   "outputs": [],
   "source": [
    "import pyjokes"
   ]
  },
  {
   "cell_type": "code",
   "execution_count": 11,
   "id": "bf636df4-0045-4b94-b17d-fca2b9e45670",
   "metadata": {},
   "outputs": [
    {
     "name": "stdout",
     "output_type": "stream",
     "text": [
      "Programmer's Time-Space Continuum: Programmers continuously space the time.\n"
     ]
    }
   ],
   "source": [
    "joke=pyjokes.get_joke()\n",
    "print(joke)"
   ]
  },
  {
   "cell_type": "code",
   "execution_count": 27,
   "id": "f4d80631-9615-4593-86c9-2ae6bb62df9d",
   "metadata": {},
   "outputs": [
    {
     "name": "stdout",
     "output_type": "stream",
     "text": [
      "Twinkle Twinkle, Little Star\n",
      "How I wonder what you are\n",
      "Up above the world so high\n",
      "Like a diamond in the sky\n",
      "Twinkle Twinkle Little Star\n",
      "How I wonder what you are!\n",
      "Twinkle Twinkle, Little Star\n",
      "How I wonder what you are\n",
      "Up above the world so high\n",
      "Like a diamond in the sky\n",
      "Twinkle Twinkle Little Star\n",
      "How I wonder what you are!\n"
     ]
    }
   ],
   "source": [
    "#WAP to print twinkle twinkle in a python\n",
    "print('''Twinkle Twinkle, Little Star\n",
    "How I wonder what you are\n",
    "Up above the world so high\n",
    "Like a diamond in the sky\n",
    "Twinkle Twinkle Little Star\n",
    "How I wonder what you are!\n",
    "Twinkle Twinkle, Little Star\n",
    "How I wonder what you are\n",
    "Up above the world so high\n",
    "Like a diamond in the sky\n",
    "Twinkle Twinkle Little Star\n",
    "How I wonder what you are!''')"
   ]
  },
  {
   "cell_type": "code",
   "execution_count": null,
   "id": "988548be-434a-4083-9485-652319e297ca",
   "metadata": {},
   "outputs": [],
   "source": []
  }
 ],
 "metadata": {
  "kernelspec": {
   "display_name": "Python [conda env:base] *",
   "language": "python",
   "name": "conda-base-py"
  },
  "language_info": {
   "codemirror_mode": {
    "name": "ipython",
    "version": 3
   },
   "file_extension": ".py",
   "mimetype": "text/x-python",
   "name": "python",
   "nbconvert_exporter": "python",
   "pygments_lexer": "ipython3",
   "version": "3.12.7"
  }
 },
 "nbformat": 4,
 "nbformat_minor": 5
}
