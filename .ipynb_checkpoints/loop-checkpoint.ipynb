{
 "cells": [
  {
   "cell_type": "code",
   "execution_count": 1,
   "id": "af6fa3bd-d665-4d84-9436-6c8e512ec399",
   "metadata": {},
   "outputs": [],
   "source": [
    "#loop i.e for and while loop\n",
    "#range(5) i.e 0,1,2,3,4\n",
    "#range(1,5) i.e 1,2,3,4  exclude 5\n",
    "#range(1,5,2) i.e 1,3\n",
    "#range(0,5,2) i.e 0,2,4"
   ]
  },
  {
   "cell_type": "code",
   "execution_count": 9,
   "id": "135a1caa-edef-48f9-8416-359f93ef8f72",
   "metadata": {},
   "outputs": [
    {
     "name": "stdout",
     "output_type": "stream",
     "text": [
      "0\n",
      "1\n",
      "2\n",
      "3\n",
      "4\n",
      "0 Hello World\n",
      "1 Hello World\n",
      "2 Hello World\n",
      "3 Hello World\n",
      "4 Hello World\n"
     ]
    }
   ],
   "source": [
    "for i in range(5):\n",
    "      print(i)\n",
    "for i in range(5):\n",
    "      print(i,\"Hello World\")\n",
    "    "
   ]
  },
  {
   "cell_type": "code",
   "execution_count": 11,
   "id": "72177b99-f5ed-4ca0-8d97-c7480801b7bc",
   "metadata": {},
   "outputs": [
    {
     "name": "stdout",
     "output_type": "stream",
     "text": [
      "1\n",
      "2\n",
      "3\n",
      "4\n",
      "1 Hello world\n",
      "2 Hello world\n",
      "3 Hello world\n",
      "4 Hello world\n"
     ]
    }
   ],
   "source": [
    "for i in range(1,5):\n",
    "      print(i)\n",
    "for i in range(1,5):\n",
    "      print(i,\"Hello world\")"
   ]
  },
  {
   "cell_type": "code",
   "execution_count": 7,
   "id": "b03290f5-3283-491c-a470-c65f1bcc5d82",
   "metadata": {},
   "outputs": [
    {
     "name": "stdout",
     "output_type": "stream",
     "text": [
      "1\n",
      "3\n"
     ]
    }
   ],
   "source": [
    "for i in range(1,5,2):\n",
    "      print(i)"
   ]
  },
  {
   "cell_type": "code",
   "execution_count": 17,
   "id": "be13fdf7-11aa-47ab-b266-8ea1e47eae9a",
   "metadata": {},
   "outputs": [
    {
     "name": "stdin",
     "output_type": "stream",
     "text": [
      "Enter the value of a= 5\n"
     ]
    },
    {
     "name": "stdout",
     "output_type": "stream",
     "text": [
      "5 * 1 = 5\n",
      "5 * 2 = 10\n",
      "5 * 3 = 15\n",
      "5 * 4 = 20\n",
      "5 * 5 = 25\n",
      "5 * 6 = 30\n",
      "5 * 7 = 35\n",
      "5 * 8 = 40\n",
      "5 * 9 = 45\n",
      "5 * 10 = 50\n"
     ]
    }
   ],
   "source": [
    "#for multipliation part\n",
    "a=int(input(\"Enter the value of a=\"))\n",
    "for i in range(1,11):\n",
    "    print(a,\"*\",i,\"=\",a*i) #inside for loop\n",
    "#else                       #not inside for loop\n",
    "    "
   ]
  },
  {
   "cell_type": "code",
   "execution_count": 26,
   "id": "1bb28f3e-a88e-45fe-b222-1cc2cd3ca28c",
   "metadata": {},
   "outputs": [
    {
     "name": "stdin",
     "output_type": "stream",
     "text": [
      "Enter the value: 200\n"
     ]
    },
    {
     "name": "stdout",
     "output_type": "stream",
     "text": [
      "200\n"
     ]
    },
    {
     "name": "stdin",
     "output_type": "stream",
     "text": [
      "Enter the value: 300\n"
     ]
    },
    {
     "name": "stdout",
     "output_type": "stream",
     "text": [
      "500\n"
     ]
    },
    {
     "name": "stdin",
     "output_type": "stream",
     "text": [
      "Enter the value: 100\n"
     ]
    },
    {
     "name": "stdout",
     "output_type": "stream",
     "text": [
      "600\n"
     ]
    },
    {
     "name": "stdin",
     "output_type": "stream",
     "text": [
      "Enter the value: 100\n"
     ]
    },
    {
     "name": "stdout",
     "output_type": "stream",
     "text": [
      "700\n"
     ]
    },
    {
     "name": "stdin",
     "output_type": "stream",
     "text": [
      "Enter the value: 300\n"
     ]
    },
    {
     "name": "stdout",
     "output_type": "stream",
     "text": [
      "1000\n"
     ]
    }
   ],
   "source": [
    "s=0\n",
    "for i in range(5):\n",
    "    a=int(input(\"Enter the value:\"))\n",
    "    s=s+a\n",
    "    print(s)"
   ]
  },
  {
   "cell_type": "code",
   "execution_count": 28,
   "id": "34b09606-7cad-4e73-87d1-d118176791d1",
   "metadata": {},
   "outputs": [
    {
     "name": "stdin",
     "output_type": "stream",
     "text": [
      "enter the value n: 2\n",
      "Enter the value: 100\n"
     ]
    },
    {
     "name": "stdout",
     "output_type": "stream",
     "text": [
      "100\n"
     ]
    },
    {
     "name": "stdin",
     "output_type": "stream",
     "text": [
      "Enter the value: 200\n"
     ]
    },
    {
     "name": "stdout",
     "output_type": "stream",
     "text": [
      "300\n"
     ]
    }
   ],
   "source": [
    "#for infinite value print as user need\n",
    "s=0\n",
    "n=int(input(\"enter the value n:\"))\n",
    "for i in range(n):\n",
    "    a=int(input(\"Enter the value:\"))\n",
    "    s=s+a\n",
    "    print(s)"
   ]
  },
  {
   "cell_type": "code",
   "execution_count": 32,
   "id": "c082e5bf-d3b7-4087-8387-05b9a35dfb14",
   "metadata": {},
   "outputs": [
    {
     "name": "stdin",
     "output_type": "stream",
     "text": [
      "Enter number of user to print: 2\n",
      "Enter name: R\n"
     ]
    },
    {
     "name": "stdout",
     "output_type": "stream",
     "text": [
      "R\n",
      "\n"
     ]
    },
    {
     "name": "stdin",
     "output_type": "stream",
     "text": [
      "Enter name: B\n"
     ]
    },
    {
     "name": "stdout",
     "output_type": "stream",
     "text": [
      "R\n",
      "B\n",
      "\n"
     ]
    }
   ],
   "source": [
    "#to save the name of user\n",
    "s=\"\"\n",
    "n=int(input(\"Enter number of user to print:\"))\n",
    "for i in range(n):\n",
    "    name=input(\"Enter name:\")\n",
    "    s=s+name + \"\\n\"\n",
    "    print(s)"
   ]
  },
  {
   "cell_type": "code",
   "execution_count": 1,
   "id": "a44ec697-810b-412e-9e3a-cbc0f7960270",
   "metadata": {},
   "outputs": [
    {
     "name": "stdin",
     "output_type": "stream",
     "text": [
      "Enter number of user to print: 2\n",
      "Enter name: A\n",
      "Enter phone: 33\n",
      "Enter name: B\n",
      "Enter phone: 13\n"
     ]
    },
    {
     "name": "stdout",
     "output_type": "stream",
     "text": [
      "A--33\n",
      "B--13\n",
      "\n"
     ]
    }
   ],
   "source": [
    "#to save the name of user for multiple data\n",
    "s=\"\"\n",
    "n=int(input(\"Enter number of user to print:\"))\n",
    "for i in range(n):\n",
    "    name=input(\"Enter name:\")\n",
    "    phone=input(\"Enter phone:\")\n",
    "\n",
    "    s=s+name + \"--\"+phone+\"\\n\"\n",
    "print(s)"
   ]
  },
  {
   "cell_type": "code",
   "execution_count": 15,
   "id": "3e481ef3-ef79-4129-9c62-db9d5be8c244",
   "metadata": {},
   "outputs": [
    {
     "name": "stdin",
     "output_type": "stream",
     "text": [
      "Enter n= 2\n"
     ]
    },
    {
     "name": "stdout",
     "output_type": "stream",
     "text": [
      "I is: 1\n",
      "S is: 1\n",
      "I is: 2\n",
      "S is: 3\n"
     ]
    },
    {
     "name": "stdin",
     "output_type": "stream",
     "text": [
      "Enter n= 3\n"
     ]
    },
    {
     "name": "stdout",
     "output_type": "stream",
     "text": [
      "I is: 0\n",
      "S is: 0\n",
      "I is: 1\n",
      "S is: 1\n",
      "I is: 2\n",
      "S is: 3\n",
      "I is: 3\n",
      "S is: 6\n"
     ]
    }
   ],
   "source": [
    "#4!=1*2*3*4\n",
    "#5=+2+3+4+5\n",
    "s=0\n",
    "n=int(input(\"Enter n=\"))\n",
    "for i in range(1,n+1):\n",
    "    s=s+i\n",
    "    print(\"I is:\",i)\n",
    "    print(\"S is:\",s)\n",
    "\n",
    "\n",
    "s=0\n",
    "n=int(input(\"Enter n=\"))\n",
    "for i in range(0,n+1):\n",
    "    s=s+i\n",
    "    print(\"I is:\",i)\n",
    "    print(\"S is:\",s)"
   ]
  },
  {
   "cell_type": "code",
   "execution_count": 23,
   "id": "48b20304-6310-4240-b220-c42f58021e29",
   "metadata": {},
   "outputs": [
    {
     "name": "stdin",
     "output_type": "stream",
     "text": [
      "Enter n= 4\n"
     ]
    },
    {
     "name": "stdout",
     "output_type": "stream",
     "text": [
      "the value is  24\n"
     ]
    }
   ],
   "source": [
    "#factorial part\n",
    "s=1\n",
    "n=int(input(\"Enter n=\"))\n",
    "for i in range(1,n+1):\n",
    "    s=s*i\n",
    "   \n",
    "print(\"the value is \",s)"
   ]
  },
  {
   "cell_type": "code",
   "execution_count": 91,
   "id": "32d23e29-8c5d-4ba1-a5ba-c80804e2d6ba",
   "metadata": {},
   "outputs": [
    {
     "name": "stdout",
     "output_type": "stream",
     "text": [
      "\n",
      "*\n",
      "**\n",
      "***\n",
      "****\n",
      "      \n",
      "     *\n",
      "    ***\n",
      "   *****\n",
      "  *******\n",
      " *********\n",
      "    ***\n",
      "    ***\n",
      "    ***\n",
      "    ***\n",
      "..........\n"
     ]
    }
   ],
   "source": [
    "#print the patterns \n",
    "for i in range(5):\n",
    "    print(i* \"*\")\n",
    "\n",
    "\n",
    "for i in range(6):\n",
    "    print(\" \"*(5-i),(2*i-1)*\"*\")\n",
    "\n",
    "for i in range(1,5):\n",
    "    print(\" \"*3,\"*\"*3)\n",
    "    \n",
    "for i in range(1):\n",
    "    print(\".\"*10)"
   ]
  },
  {
   "cell_type": "code",
   "execution_count": 7,
   "id": "213a40bc-c8f9-40d9-9cbe-efe9f775c256",
   "metadata": {},
   "outputs": [
    {
     "name": "stdout",
     "output_type": "stream",
     "text": [
      "*\n",
      "*\n",
      "*\n",
      "*\n",
      "*\n"
     ]
    }
   ],
   "source": [
    "for i in range(1,6):   #this is single for loop \n",
    "    print(\"*\")"
   ]
  },
  {
   "cell_type": "code",
   "execution_count": 5,
   "id": "e9a107f2-4bef-4633-a7a4-64e0dbed55c5",
   "metadata": {},
   "outputs": [
    {
     "name": "stdout",
     "output_type": "stream",
     "text": [
      "* * * * * \n",
      "* * * * * \n",
      "* * * * * \n",
      "* * * * * \n",
      "* * * * * \n"
     ]
    }
   ],
   "source": [
    "#nested for loop\n",
    "for i in range(1,6):  \n",
    "    for j in range(1,6):\n",
    "            print(\"*\",end=\" \")\n",
    "    print()"
   ]
  },
  {
   "cell_type": "code",
   "execution_count": 117,
   "id": "7d438009-8b16-4844-94cc-db754fe1c6b5",
   "metadata": {},
   "outputs": [
    {
     "name": "stdout",
     "output_type": "stream",
     "text": [
      "* \n",
      "* * \n",
      "* * * \n",
      "* * * * \n",
      "* * * * * \n",
      "        * \n",
      "      * * \n",
      "    * * * \n",
      "  * * * * \n",
      "* * * * * \n"
     ]
    }
   ],
   "source": [
    "\n",
    "#ested approach\n",
    "r=5\n",
    "for i in range (1,r+1):\n",
    "    for j in range (1,i+1):\n",
    "        print(\"*\", end=\" \")\n",
    "    print()\n",
    "\n",
    "\n",
    "#string multiplication approach\n",
    "r = 5\n",
    "for i in range(1, r + 1):\n",
    "    print(\"  \" * (r - i) + \"* \" *  i)"
   ]
  },
  {
   "cell_type": "code",
   "execution_count": 103,
   "id": "c041de0d-533f-4e81-8d09-f2f631c8daaf",
   "metadata": {},
   "outputs": [
    {
     "name": "stdout",
     "output_type": "stream",
     "text": [
      "* * * * \n",
      "* * * \n",
      "* * \n",
      "* \n"
     ]
    }
   ],
   "source": [
    "#backward pattern\n",
    "r=4\n",
    "for i in range(r,0,-1):\n",
    "    for j in range (i):\n",
    "        print(\"*\" ,end=\" \")\n",
    "    print()"
   ]
  },
  {
   "cell_type": "code",
   "execution_count": 105,
   "id": "d27481d3-cd25-4ad7-aedf-253884ea7793",
   "metadata": {},
   "outputs": [],
   "source": [
    "# #1\n",
    "# 1 2\n",
    "# 1 2 3\n",
    "# 1 2 3 4 \n",
    "# 1 2 3 4 5\n",
    "\n",
    "# 1 2 3 4 5\n",
    "# 1 2 3 4 \n",
    "# 1 2 3 \n",
    "# 1 2 \n",
    "# 1 "
   ]
  },
  {
   "cell_type": "code",
   "execution_count": 15,
   "id": "21d8411e-cb69-4e4f-9886-8641a1d8ca0f",
   "metadata": {},
   "outputs": [
    {
     "name": "stdout",
     "output_type": "stream",
     "text": [
      " 1  2  3  4  5 \n",
      " 1  2  3  4 \n",
      " 1  2  3 \n",
      " 1  2 \n",
      " 1 \n",
      " 1 \n",
      " 1  2 \n",
      " 1  2  3 \n",
      " 1  2  3  4 \n",
      " 1  2  3  4  5 \n"
     ]
    }
   ],
   "source": [
    "r=5\n",
    "for i in range(r,0,-1):\n",
    "    for j in range(1,i+1):\n",
    "        print(\"\",j,end=\" \")\n",
    "    print()\n",
    "\n",
    "\n",
    "r=5\n",
    "for i in range(1,r+1):\n",
    "    for j in range(1,i+1):\n",
    "        print(\"\",j,end=\" \")\n",
    "    print()\n",
    "\n",
    "\n"
   ]
  },
  {
   "cell_type": "code",
   "execution_count": 143,
   "id": "d07aaa71-c941-4506-ab15-7b281c4a6ff3",
   "metadata": {},
   "outputs": [
    {
     "name": "stdout",
     "output_type": "stream",
     "text": [
      "8 8 8 8 * \n",
      "8 8 8 * * \n",
      "8 8 * * * \n",
      "8 * * * * \n",
      "* * * * * \n"
     ]
    }
   ],
   "source": [
    " #     *\n",
    " #    ***\n",
    " #   *****\n",
    " #  *******\n",
    " # *********\n",
    "r = 5\n",
    "for i in range(1, r + 1):\n",
    "    print(\"8 \" * (r - i) + \"* \" * i )"
   ]
  },
  {
   "cell_type": "code",
   "execution_count": 13,
   "id": "aea5170e-7cec-4a5d-b6aa-810863d60f3b",
   "metadata": {},
   "outputs": [
    {
     "name": "stdout",
     "output_type": "stream",
     "text": [
      "H e l l o "
     ]
    }
   ],
   "source": [
    "# loop in string\n",
    "\n",
    "a=\"Hello\"\n",
    "for i in a:\n",
    "    print(i, end=\" \")\n"
   ]
  },
  {
   "cell_type": "code",
   "execution_count": 15,
   "id": "bf9a5e9e-2100-4485-aced-6bb3d4497e88",
   "metadata": {},
   "outputs": [
    {
     "name": "stdout",
     "output_type": "stream",
     "text": [
      "Hello Iam learning python"
     ]
    }
   ],
   "source": [
    "#Loop string with condition\n",
    "a=\"Hello. Iam learning python.\"\n",
    "for i in a :\n",
    "    if i !=\".\":\n",
    "        print(i,end=\"\")"
   ]
  },
  {
   "cell_type": "code",
   "execution_count": 23,
   "id": "08cb8610-5256-4f04-8326-897a2e6c0060",
   "metadata": {},
   "outputs": [
    {
     "name": "stdout",
     "output_type": "stream",
     "text": [
      "Hello Iam Learning  python"
     ]
    }
   ],
   "source": [
    "#loop string if have to use two condition\n",
    "a=\"Hello. Iam Learning ! python..\"\n",
    "for i in a:\n",
    "    if i !=\".\" and i!=\"!\":\n",
    "        print(i,end=\"\")"
   ]
  },
  {
   "cell_type": "code",
   "execution_count": 25,
   "id": "a2f9d2cf-6b64-43d0-bde7-0461af22ba17",
   "metadata": {},
   "outputs": [
    {
     "name": "stdout",
     "output_type": "stream",
     "text": [
      "Hello\n",
      "\n",
      " My name is Python\n",
      "\n",
      " You are my master."
     ]
    }
   ],
   "source": [
    "#loop string if have to use two condition print in next line\n",
    "a=\"Hello! My name is Python! You are my master.\"\n",
    "for i in a:\n",
    "    if i!=\"!\":\n",
    "        print(i,end=\"\")\n",
    "    else:\n",
    "        print(\"\\n\")\n"
   ]
  },
  {
   "cell_type": "code",
   "execution_count": null,
   "id": "e9b06b6d-ba91-4ff1-a5fc-d3dcd014e297",
   "metadata": {},
   "outputs": [],
   "source": [
    "# control statement\n",
    "#break\n"
   ]
  },
  {
   "cell_type": "code",
   "execution_count": 35,
   "id": "82fcc986-4b1d-44f6-bfd6-5124e7d2b2a7",
   "metadata": {},
   "outputs": [
    {
     "name": "stdout",
     "output_type": "stream",
     "text": [
      "0 1 2 3 4 "
     ]
    }
   ],
   "source": [
    "for i in range(10):\n",
    "    if i==5:\n",
    "        break\n",
    "    print(i,end=\" \")"
   ]
  },
  {
   "cell_type": "code",
   "execution_count": 41,
   "id": "0baeb2c2-c3ed-47a4-9ae6-d222bbf396a9",
   "metadata": {},
   "outputs": [
    {
     "name": "stdout",
     "output_type": "stream",
     "text": [
      "0 1 2 3 4 6 7 8 9 "
     ]
    }
   ],
   "source": [
    "#continue\n",
    "for i in range(10):\n",
    "    if i==5:\n",
    "        continue\n",
    "    print(i,end=\" \")"
   ]
  },
  {
   "cell_type": "code",
   "execution_count": 69,
   "id": "191d8508-b28a-4999-909f-1b87819381c9",
   "metadata": {},
   "outputs": [
    {
     "name": "stdout",
     "output_type": "stream",
     "text": [
      "Hello World.\n"
     ]
    }
   ],
   "source": [
    "a = \"Hello World. I am Python\"\n",
    "for i in a:\n",
    "    if i != \".\":\n",
    "        print(i, end = \"\")\n",
    "    else:\n",
    "        print(\".\")\n",
    "        break"
   ]
  },
  {
   "cell_type": "code",
   "execution_count": 73,
   "id": "39607c51-eb22-4d67-906a-71d72e41a2f8",
   "metadata": {},
   "outputs": [
    {
     "name": "stdout",
     "output_type": "stream",
     "text": [
      "10 9 8 7 6 5 4 3 2 1 "
     ]
    }
   ],
   "source": [
    "#print in reverse order \n",
    "for i in range (10,0,-1):\n",
    "    print(i,end=\" \")"
   ]
  },
  {
   "cell_type": "code",
   "execution_count": 79,
   "id": "eb3f665d-a140-4edf-9a60-aa1b6630e364",
   "metadata": {},
   "outputs": [
    {
     "name": "stdout",
     "output_type": "stream",
     "text": [
      "Hello People\n",
      "Hello People\n",
      "Hello People\n",
      "Hello People\n",
      "Hello People\n",
      "Hello People\n"
     ]
    }
   ],
   "source": [
    "# while loop\n",
    "i=0\n",
    "while i<=5:\n",
    "    print(\"Hello People\")\n",
    "    i=i+1"
   ]
  },
  {
   "cell_type": "code",
   "execution_count": 3,
   "id": "7c4daa2f-cfd6-44c4-a8a3-f14d001475f4",
   "metadata": {},
   "outputs": [
    {
     "name": "stdin",
     "output_type": "stream",
     "text": [
      "Enter the value 11\n"
     ]
    },
    {
     "name": "stdout",
     "output_type": "stream",
     "text": [
      "11 * 1 = 11\n",
      "11 * 2 = 22\n",
      "11 * 3 = 33\n",
      "11 * 4 = 44\n",
      "11 * 5 = 55\n",
      "11 * 6 = 66\n",
      "11 * 7 = 77\n",
      "11 * 8 = 88\n",
      "11 * 9 = 99\n",
      "11 * 10 = 110\n"
     ]
    }
   ],
   "source": [
    "#while using and multiplication table for a number entered by the user.\n",
    "i=1\n",
    "a=int(input(\"Enter the value\"))\n",
    "while i<=10:\n",
    "    print(a,\"*\",i,\"=\",a*i)\n",
    "    i=i+1"
   ]
  },
  {
   "cell_type": "code",
   "execution_count": 3,
   "id": "0fe5ff4d-ea93-4b55-bcce-82a32ca2ad71",
   "metadata": {},
   "outputs": [
    {
     "name": "stdin",
     "output_type": "stream",
     "text": [
      "Enter the n: 2\n",
      "Enter the name: Ram\n",
      "Enter the phone number: 986886886\n",
      "Enter the name: Sits\n",
      "Enter the phone number: 94884\n"
     ]
    },
    {
     "name": "stdout",
     "output_type": "stream",
     "text": [
      "Ram--986886886\n",
      "Sits--94884\n",
      "\n"
     ]
    }
   ],
   "source": [
    "#collect names and phone numbers from the user and display them in a formatted string\n",
    "\n",
    "i=0\n",
    "s=\"\"\n",
    "n=int(input(\"Enter the n:\"))\n",
    "while i<n:\n",
    "    name=input(\"Enter the name:\")\n",
    "    phone=input(\"Enter the phone number:\")\n",
    "    s=s+name+\"--\"+phone+\"\\n\"\n",
    "    i=i+1\n",
    "print(s)\n"
   ]
  },
  {
   "cell_type": "code",
   "execution_count": null,
   "id": "1984d291-077f-47df-b43a-7d0973c63ff7",
   "metadata": {},
   "outputs": [],
   "source": []
  }
 ],
 "metadata": {
  "kernelspec": {
   "display_name": "Python [conda env:base] *",
   "language": "python",
   "name": "conda-base-py"
  },
  "language_info": {
   "codemirror_mode": {
    "name": "ipython",
    "version": 3
   },
   "file_extension": ".py",
   "mimetype": "text/x-python",
   "name": "python",
   "nbconvert_exporter": "python",
   "pygments_lexer": "ipython3",
   "version": "3.12.7"
  }
 },
 "nbformat": 4,
 "nbformat_minor": 5
}
