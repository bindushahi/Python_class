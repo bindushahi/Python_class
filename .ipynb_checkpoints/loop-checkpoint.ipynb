{
 "cells": [
  {
   "cell_type": "code",
   "execution_count": 1,
   "id": "af6fa3bd-d665-4d84-9436-6c8e512ec399",
   "metadata": {},
   "outputs": [],
   "source": [
    "#loop i.e for and while loop\n",
    "#range(5) i.e 0,1,2,3,4\n",
    "#range(1,5) i.e 1,2,3,4  exclude 5\n",
    "#range(1,5,2) i.e 1,3\n",
    "#range(0,5,2) i.e 0,2,4"
   ]
  },
  {
   "cell_type": "code",
   "execution_count": 9,
   "id": "135a1caa-edef-48f9-8416-359f93ef8f72",
   "metadata": {},
   "outputs": [
    {
     "name": "stdout",
     "output_type": "stream",
     "text": [
      "0\n",
      "1\n",
      "2\n",
      "3\n",
      "4\n",
      "0 Hello World\n",
      "1 Hello World\n",
      "2 Hello World\n",
      "3 Hello World\n",
      "4 Hello World\n"
     ]
    }
   ],
   "source": [
    "for i in range(5):\n",
    "      print(i)\n",
    "for i in range(5):\n",
    "      print(i,\"Hello World\")\n",
    "    "
   ]
  },
  {
   "cell_type": "code",
   "execution_count": 11,
   "id": "72177b99-f5ed-4ca0-8d97-c7480801b7bc",
   "metadata": {},
   "outputs": [
    {
     "name": "stdout",
     "output_type": "stream",
     "text": [
      "1\n",
      "2\n",
      "3\n",
      "4\n",
      "1 Hello world\n",
      "2 Hello world\n",
      "3 Hello world\n",
      "4 Hello world\n"
     ]
    }
   ],
   "source": [
    "for i in range(1,5):\n",
    "      print(i)\n",
    "for i in range(1,5):\n",
    "      print(i,\"Hello world\")"
   ]
  },
  {
   "cell_type": "code",
   "execution_count": 7,
   "id": "b03290f5-3283-491c-a470-c65f1bcc5d82",
   "metadata": {},
   "outputs": [
    {
     "name": "stdout",
     "output_type": "stream",
     "text": [
      "1\n",
      "3\n"
     ]
    }
   ],
   "source": [
    "for i in range(1,5,2):\n",
    "      print(i)"
   ]
  },
  {
   "cell_type": "code",
   "execution_count": 17,
   "id": "be13fdf7-11aa-47ab-b266-8ea1e47eae9a",
   "metadata": {},
   "outputs": [
    {
     "name": "stdin",
     "output_type": "stream",
     "text": [
      "Enter the value of a= 5\n"
     ]
    },
    {
     "name": "stdout",
     "output_type": "stream",
     "text": [
      "5 * 1 = 5\n",
      "5 * 2 = 10\n",
      "5 * 3 = 15\n",
      "5 * 4 = 20\n",
      "5 * 5 = 25\n",
      "5 * 6 = 30\n",
      "5 * 7 = 35\n",
      "5 * 8 = 40\n",
      "5 * 9 = 45\n",
      "5 * 10 = 50\n"
     ]
    }
   ],
   "source": [
    "#for multipliation part\n",
    "a=int(input(\"Enter the value of a=\"))\n",
    "for i in range(1,11):\n",
    "    print(a,\"*\",i,\"=\",a*i) #inside for loop\n",
    "#else                       #not inside for loop\n",
    "    "
   ]
  },
  {
   "cell_type": "markdown",
   "id": "3a7a9d14-92a1-478c-9766-37d941d85cb3",
   "metadata": {},
   "source": [
    "### s=0\n",
    "for i in range(5):\n",
    "    a=int(input(\"Enter the value:\"))\n",
    "    s=s+a\n",
    "    print(s)"
   ]
  },
  {
   "cell_type": "code",
   "execution_count": null,
   "id": "1bb28f3e-a88e-45fe-b222-1cc2cd3ca28c",
   "metadata": {},
   "outputs": [],
   "source": []
  }
 ],
 "metadata": {
  "kernelspec": {
   "display_name": "Python [conda env:base] *",
   "language": "python",
   "name": "conda-base-py"
  },
  "language_info": {
   "codemirror_mode": {
    "name": "ipython",
    "version": 3
   },
   "file_extension": ".py",
   "mimetype": "text/x-python",
   "name": "python",
   "nbconvert_exporter": "python",
   "pygments_lexer": "ipython3",
   "version": "3.12.7"
  }
 },
 "nbformat": 4,
 "nbformat_minor": 5
}
