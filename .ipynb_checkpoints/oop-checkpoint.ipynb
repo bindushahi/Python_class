{
 "cells": [
  {
   "cell_type": "code",
   "execution_count": null,
   "id": "977550ff-0ef9-4971-b22e-bdf82ec551ec",
   "metadata": {},
   "outputs": [],
   "source": [
    "#syntax in oop\n",
    "#class <class_name> : #defining class\n",
    "# <methods>\n",
    "#obj=<class_name>()  #object"
   ]
  },
  {
   "cell_type": "code",
   "execution_count": 4,
   "id": "04987a6b-cf0f-4885-8c0d-58bae758bd4d",
   "metadata": {},
   "outputs": [
    {
     "name": "stdout",
     "output_type": "stream",
     "text": [
      "Hello world\n"
     ]
    }
   ],
   "source": [
    "class Hello:                #class\n",
    "    def hello(self):             #method\n",
    "        print(\"Hello world\")        \n",
    "obj=Hello()                    #object\n",
    "obj.hello()                    #calling method"
   ]
  },
  {
   "cell_type": "code",
   "execution_count": null,
   "id": "1979a660-8b76-4fd3-85a0-1de51ea80b6e",
   "metadata": {},
   "outputs": [],
   "source": []
  },
  {
   "cell_type": "code",
   "execution_count": null,
   "id": "da5e1563-12bc-4b54-925f-e62db417f234",
   "metadata": {},
   "outputs": [],
   "source": []
  }
 ],
 "metadata": {
  "kernelspec": {
   "display_name": "Python [conda env:base] *",
   "language": "python",
   "name": "conda-base-py"
  },
  "language_info": {
   "codemirror_mode": {
    "name": "ipython",
    "version": 3
   },
   "file_extension": ".py",
   "mimetype": "text/x-python",
   "name": "python",
   "nbconvert_exporter": "python",
   "pygments_lexer": "ipython3",
   "version": "3.12.7"
  }
 },
 "nbformat": 4,
 "nbformat_minor": 5
}
