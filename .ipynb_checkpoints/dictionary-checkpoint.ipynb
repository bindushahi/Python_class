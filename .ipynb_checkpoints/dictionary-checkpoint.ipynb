{
 "cells": [
  {
   "cell_type": "code",
   "execution_count": null,
   "id": "b8f5f348-71ed-4646-ad17-292aad1a125b",
   "metadata": {},
   "outputs": [],
   "source": [
    "# #Dict\n",
    "# #indexing\n",
    "# ordered\n",
    "# multiple and duplicate data\n",
    "# mutable"
   ]
  },
  {
   "cell_type": "code",
   "execution_count": null,
   "id": "b121ce7d-c7b2-44cb-8c75-6beeca70a33c",
   "metadata": {},
   "outputs": [],
   "source": [
    "# d={<key>:<value>,<key>:<value>,<key>:<value>,......}"
   ]
  },
  {
   "cell_type": "code",
   "execution_count": 3,
   "id": "4bcc6631-2bdd-4cfa-b5f8-b931d4e91c0c",
   "metadata": {},
   "outputs": [
    {
     "name": "stdout",
     "output_type": "stream",
     "text": [
      "<class 'dict'>\n"
     ]
    }
   ],
   "source": [
    "d={'a':'Apple','b':'Banana'}\n",
    "print(type(d))"
   ]
  },
  {
   "cell_type": "code",
   "execution_count": 5,
   "id": "f240a6d1-6a28-4b72-9660-0cae73d5652d",
   "metadata": {},
   "outputs": [
    {
     "name": "stdout",
     "output_type": "stream",
     "text": [
      "3\n"
     ]
    }
   ],
   "source": [
    "d={'name':'Ram','age':'32','add':'Nepal'}\n",
    "print(len(d))\n"
   ]
  },
  {
   "cell_type": "code",
   "execution_count": 11,
   "id": "57aa27d1-a1d1-4536-a415-e6608f9103f7",
   "metadata": {},
   "outputs": [
    {
     "name": "stdout",
     "output_type": "stream",
     "text": [
      "Ram\n",
      "32\n",
      "Nepal\n"
     ]
    }
   ],
   "source": [
    "d={'name':'Ram','age':'32','add':'Nepal'}\n",
    "print(d['name'])\n",
    "print(d['age'])\n",
    "print(d['add'])"
   ]
  },
  {
   "cell_type": "code",
   "execution_count": null,
   "id": "477e66b2-3925-4411-bbf9-559a862411fd",
   "metadata": {},
   "outputs": [],
   "source": []
  }
 ],
 "metadata": {
  "kernelspec": {
   "display_name": "Python [conda env:base] *",
   "language": "python",
   "name": "conda-base-py"
  },
  "language_info": {
   "codemirror_mode": {
    "name": "ipython",
    "version": 3
   },
   "file_extension": ".py",
   "mimetype": "text/x-python",
   "name": "python",
   "nbconvert_exporter": "python",
   "pygments_lexer": "ipython3",
   "version": "3.12.7"
  }
 },
 "nbformat": 4,
 "nbformat_minor": 5
}
