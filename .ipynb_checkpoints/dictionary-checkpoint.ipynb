{
 "cells": [
  {
   "cell_type": "code",
   "execution_count": null,
   "id": "b8f5f348-71ed-4646-ad17-292aad1a125b",
   "metadata": {},
   "outputs": [],
   "source": [
    "# #Dict called (json in other programming language)\n",
    "# #indexing\n",
    "# ordered\n",
    "# multiple and duplicate data\n",
    "# mutable"
   ]
  },
  {
   "cell_type": "code",
   "execution_count": null,
   "id": "b121ce7d-c7b2-44cb-8c75-6beeca70a33c",
   "metadata": {},
   "outputs": [],
   "source": [
    "# d={<key>:<value>,<key>:<value>,<key>:<value>,......}"
   ]
  },
  {
   "cell_type": "code",
   "execution_count": 3,
   "id": "4bcc6631-2bdd-4cfa-b5f8-b931d4e91c0c",
   "metadata": {},
   "outputs": [
    {
     "name": "stdout",
     "output_type": "stream",
     "text": [
      "<class 'dict'>\n"
     ]
    }
   ],
   "source": [
    "d={'a':'Apple','b':'Banana'}\n",
    "print(type(d))"
   ]
  },
  {
   "cell_type": "code",
   "execution_count": 37,
   "id": "8b7cc3ab-8ca4-482d-8441-50ceb871b19c",
   "metadata": {},
   "outputs": [
    {
     "name": "stdout",
     "output_type": "stream",
     "text": [
      "{1: 1, 2: 4, 3: 9, 4: 16, 5: 25, 6: 36, 7: 49}\n"
     ]
    }
   ],
   "source": [
    "#in dictionary there is no concatination i.e +,*\n",
    "#should be use update\n",
    "\n",
    "a={1:1,2:4,3:9,4:16}\n",
    "b={5:25,6:36,7:49}\n",
    "a.update(b)\n",
    "print(a)\n"
   ]
  },
  {
   "cell_type": "code",
   "execution_count": 13,
   "id": "f240a6d1-6a28-4b72-9660-0cae73d5652d",
   "metadata": {},
   "outputs": [
    {
     "name": "stdout",
     "output_type": "stream",
     "text": [
      "3\n",
      "{'name': 'Ram', 'age': '32', 'add': 'Nepal'}\n"
     ]
    }
   ],
   "source": [
    "d={'name':'Ram','age':'32','add':'Nepal'}\n",
    "print(len(d))\n",
    "print(d)\n"
   ]
  },
  {
   "cell_type": "code",
   "execution_count": null,
   "id": "4350a81e-0976-4181-97e2-52c64d30c949",
   "metadata": {},
   "outputs": [],
   "source": [
    "#CRUD"
   ]
  },
  {
   "cell_type": "code",
   "execution_count": 35,
   "id": "2d64ae57-ae0b-40c9-930d-4d091e991369",
   "metadata": {},
   "outputs": [
    {
     "name": "stdout",
     "output_type": "stream",
     "text": [
      "{'name': 'Nepal', 'age': '32'}\n",
      "{'name': 'Nepal', 'age': '32', 'add': 'Nepal'}\n",
      "{'Ram': 9847689569, 'Hari': 9487595794, 'Shyam': 98585498574, 'Gita': 479390493}\n"
     ]
    }
   ],
   "source": [
    "#CREATE in dictionary\n",
    "d={'name':'Ram','age':'32','name':'Nepal'}   #if duplicate key should be unique\n",
    "print(d)\n",
    "\n",
    "d={'name':'Nepal','age':'32','add':'Nepal'} #value can be duplicate\n",
    "print(d)\n",
    "\n",
    "d={}\n",
    "d['Ram']=9847689569\n",
    "d['Hari']=9487595794\n",
    "d['Shyam']=98585498574\n",
    "d['Gita']=479390493\n",
    "print(d)"
   ]
  },
  {
   "cell_type": "code",
   "execution_count": 27,
   "id": "57aa27d1-a1d1-4536-a415-e6608f9103f7",
   "metadata": {},
   "outputs": [
    {
     "name": "stdout",
     "output_type": "stream",
     "text": [
      "Ram\n",
      "32\n",
      "Nepal\n",
      "dict_values(['Ram', '32', 'Nepal'])\n",
      "dict_keys(['name', 'age', 'add'])\n",
      "dict_items([('name', 'Ram'), ('age', '32'), ('add', 'Nepal')])\n"
     ]
    }
   ],
   "source": [
    "#READ\n",
    "d={'name':'Ram','age':'32','add':'Nepal'}\n",
    "print(d['name'])\n",
    "print(d['age'])\n",
    "print(d['add'])\n",
    "print(d.values())\n",
    "print(d.keys())\n",
    "print(d.items())\n"
   ]
  },
  {
   "cell_type": "code",
   "execution_count": 23,
   "id": "477e66b2-3925-4411-bbf9-559a862411fd",
   "metadata": {},
   "outputs": [
    {
     "name": "stdout",
     "output_type": "stream",
     "text": [
      "name\n",
      "age\n",
      "add\n"
     ]
    }
   ],
   "source": [
    "d={'name':'Ram','age':'32','add':'Nepal'}\n",
    "for i in d:\n",
    "    print(i)"
   ]
  },
  {
   "cell_type": "code",
   "execution_count": 25,
   "id": "e35c1f21-9dae-4aa6-9cab-eb40503341cd",
   "metadata": {},
   "outputs": [
    {
     "name": "stdout",
     "output_type": "stream",
     "text": [
      "Ram\n",
      "32\n",
      "Nepal\n"
     ]
    }
   ],
   "source": [
    "d={'name':'Ram','age':'32','add':'Nepal'}\n",
    "for i in d.values():\n",
    "    print(i)"
   ]
  },
  {
   "cell_type": "code",
   "execution_count": null,
   "id": "e9f9ed48-7ca7-4ea6-b193-cbae3a8695a8",
   "metadata": {},
   "outputs": [],
   "source": [
    "#"
   ]
  }
 ],
 "metadata": {
  "kernelspec": {
   "display_name": "Python [conda env:base] *",
   "language": "python",
   "name": "conda-base-py"
  },
  "language_info": {
   "codemirror_mode": {
    "name": "ipython",
    "version": 3
   },
   "file_extension": ".py",
   "mimetype": "text/x-python",
   "name": "python",
   "nbconvert_exporter": "python",
   "pygments_lexer": "ipython3",
   "version": "3.12.7"
  }
 },
 "nbformat": 4,
 "nbformat_minor": 5
}
