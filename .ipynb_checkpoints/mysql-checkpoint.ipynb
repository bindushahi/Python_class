{
 "cells": [
  {
   "cell_type": "code",
   "execution_count": 8,
   "id": "b8c0798c-5161-42c5-9b71-3493f0b3bd42",
   "metadata": {},
   "outputs": [
    {
     "name": "stdout",
     "output_type": "stream",
     "text": [
      "Requirement already satisfied: mysql in c:\\users\\user\\anaconda3\\lib\\site-packages (0.0.3)\n",
      "Requirement already satisfied: mysqlclient in c:\\users\\user\\anaconda3\\lib\\site-packages (from mysql) (2.2.7)\n",
      "Note: you may need to restart the kernel to use updated packages.\n"
     ]
    }
   ],
   "source": [
    "pip install mysql"
   ]
  },
  {
   "cell_type": "code",
   "execution_count": 10,
   "id": "63878072-ca8e-40d8-88ad-d7f6c8b57abe",
   "metadata": {},
   "outputs": [],
   "source": [
    "import mysql.connector"
   ]
  },
  {
   "cell_type": "code",
   "execution_count": 30,
   "id": "ae908534-9e2a-4801-ae9b-bda0112a7f1b",
   "metadata": {},
   "outputs": [],
   "source": [
    "# #creating a database\n",
    "# import mysql.connector\n",
    "# database=mysql.connector.connect(\n",
    "#     host=\"localhost\",\n",
    "#     user=\"root\",\n",
    "#     password=\"\"\n",
    "# )\n",
    "# db=database.cursor()\n",
    "# db.execute(\"CREATE DATABASE python_class\")"
   ]
  },
  {
   "cell_type": "markdown",
   "id": "5ea0c71a-fe49-4a92-8062-cb2e83148e77",
   "metadata": {},
   "source": [
    "2#### name = input(\"Enter name = \")\n",
    "physics = int(input(\"Enter physics marks= \"))\n",
    "chemistry = int(input(\"Enter chemistry marks= \"))\n",
    "math = int(input(\"Enter math marks= \"))\n",
    "english = int(input(\"Enter english marks= \"))\n",
    "nepali = int(input(\"Enter nepali marks= \"))\n",
    "\n",
    "total = physics + chemistry + math + english + nepali\n",
    "per = total/5\n",
    "\n",
    "if per >= 80:\n",
    "    grade = \"A\"\n",
    "elif per >= 60:\n",
    "    grade = \"B\"\n",
    "elif per >= 45:\n",
    "    grade = \"C\"\n",
    "else:\n",
    "    grade = \"F\"\n",
    "    \n",
    "\n",
    "#insert data into table\n",
    "sql = f''' INSERT INTO student (name, physics, chemistry, math, english, nepali, total, per, grade)\n",
    "        VALUES ('{name}', {physics}, {chemistry}, {math}, {english}, {nepali}, {total}, {per}, '{grade}')'''\n",
    "db.execute(sql)\n",
    "database.commit()\n",
    "print(db.rowcount, \"record inserted.\")"
   ]
  },
  {
   "cell_type": "code",
   "execution_count": 12,
   "id": "a0951ec1-0584-4def-90e8-591b9a2b30d3",
   "metadata": {},
   "outputs": [
    {
     "name": "stdout",
     "output_type": "stream",
     "text": [
      "('information_schema',)\n",
      "('mysql',)\n",
      "('performance_schema',)\n",
      "('phpmyadmin',)\n",
      "('python_class',)\n",
      "('test',)\n"
     ]
    }
   ],
   "source": [
    "#creating a database\n",
    "import mysql.connector\n",
    "database=mysql.connector.connect(\n",
    "    host=\"localhost\",\n",
    "    user=\"root\",\n",
    "    password=\"\"\n",
    ")\n",
    "db=database.cursor()\n",
    "db.execute(\"SHOW DATABASEs\")\n",
    "for x in db:\n",
    "    print(x)"
   ]
  },
  {
   "cell_type": "code",
   "execution_count": 16,
   "id": "717f94ec-d85e-4322-a353-140934e68b1f",
   "metadata": {},
   "outputs": [],
   "source": [
    "#creating a database\n",
    "import mysql.connector\n",
    "database=mysql.connector.connect(\n",
    "    host=\"localhost\",\n",
    "    user=\"root\",\n",
    "    password=\"\"\n",
    ")\n",
    "db=database.cursor()\n",
    "db.execute(\"CREATE DATABASE IF NOT EXISTS python_class\")\n",
    "db.execute(\"USE python_class\")\n",
    "\n",
    "db.execute(\"\"\"\n",
    "    CREATE TABLE IF NOT EXISTS student (\n",
    "        sn INT PRIMARY KEY,\n",
    "        name VARCHAR(50),\n",
    "        physics INT,\n",
    "        chemistry INT,\n",
    "        nepali INT,\n",
    "        java INT,\n",
    "        maths INT,\n",
    "        total INT,\n",
    "        per FLOAT,\n",
    "        grade VARCHAR(2)\n",
    "    )\n",
    "\"\"\")\n",
    "#INSERT DATA\n",
    "sql = \"INSERT INTO student(sn,name,physics,chemistry,nepali,java,maths,total,per,grade) VALUES (%s,%s,%s,%s,%s,%s,%s,%s,%s,%s)\"\n",
    "values = (7, \"Garima\", 32, 45, 67, 77, 44, 265, 77, \"B\")\n",
    "db.execute(sql, values)\n",
    "database.commit()  # Don't forget to commit the changes\n"
   ]
  },
  {
   "cell_type": "code",
   "execution_count": 20,
   "id": "6bee1ecb-e8b3-4b7d-ab51-1bfefea9b221",
   "metadata": {},
   "outputs": [
    {
     "name": "stdout",
     "output_type": "stream",
     "text": [
      "(2, 'Bina', 32, 45, 67, 77, 44, 265, 77.0, 'B')\n",
      "(3, 'Sita', 54, 67, 45, 23, 56, 34, 400.0, 'A')\n",
      "(7, 'Garima', 32, 45, 67, 77, 44, 265, 77.0, 'B')\n"
     ]
    }
   ],
   "source": [
    "#fetching data\n",
    "db.execute(\"SELECT * FROM student\")\n",
    "result = db.fetchall()\n",
    "for x in result:\n",
    "    print(x)"
   ]
  },
  {
   "cell_type": "code",
   "execution_count": null,
   "id": "09efb564-cb9c-4d58-b200-57f9fcb4286a",
   "metadata": {},
   "outputs": [],
   "source": []
  }
 ],
 "metadata": {
  "kernelspec": {
   "display_name": "Python [conda env:base] *",
   "language": "python",
   "name": "conda-base-py"
  },
  "language_info": {
   "codemirror_mode": {
    "name": "ipython",
    "version": 3
   },
   "file_extension": ".py",
   "mimetype": "text/x-python",
   "name": "python",
   "nbconvert_exporter": "python",
   "pygments_lexer": "ipython3",
   "version": "3.12.7"
  }
 },
 "nbformat": 4,
 "nbformat_minor": 5
}
