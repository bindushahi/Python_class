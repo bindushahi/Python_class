{
 "cells": [
  {
   "cell_type": "code",
   "execution_count": 1,
   "id": "23037f7d-c1ad-4070-a654-b234b590972d",
   "metadata": {},
   "outputs": [
    {
     "name": "stdout",
     "output_type": "stream",
     "text": [
      "True\n",
      "False\n",
      "True\n",
      "True\n",
      "False\n",
      "True\n"
     ]
    }
   ],
   "source": [
    "#> < >= == conditional statements\n",
    "a=10\n",
    "print(a<19)\n",
    "print(a>19)\n",
    "print(a<=19)\n",
    "print(a<=10)\n",
    "print(a==2) #== refers to is a =5 or not??\n",
    "print(a!= 5)"
   ]
  },
  {
   "cell_type": "code",
   "execution_count": null,
   "id": "790232e9-019b-486e-bee0-e0fddcbbbb0e",
   "metadata": {},
   "outputs": [],
   "source": []
  }
 ],
 "metadata": {
  "kernelspec": {
   "display_name": "Python [conda env:base] *",
   "language": "python",
   "name": "conda-base-py"
  },
  "language_info": {
   "codemirror_mode": {
    "name": "ipython",
    "version": 3
   },
   "file_extension": ".py",
   "mimetype": "text/x-python",
   "name": "python",
   "nbconvert_exporter": "python",
   "pygments_lexer": "ipython3",
   "version": "3.12.7"
  }
 },
 "nbformat": 4,
 "nbformat_minor": 5
}
