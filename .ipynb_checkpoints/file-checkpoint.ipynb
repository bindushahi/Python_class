{
 "cells": [
  {
   "cell_type": "code",
   "execution_count": null,
   "id": "517432ff-b0d8-4967-9c60-af22f39003c0",
   "metadata": {},
   "outputs": [],
   "source": [
    "# file\n",
    "# open('<file_name>','<mode>')\n",
    "\n",
    "# with open('<file_name>','<mode>'):\n",
    "#     <operations>\n",
    "\n",
    "# modes\n",
    "# r -> read\n",
    "# w -> write\n",
    "# x -> create\n",
    "# a -> append"
   ]
  },
  {
   "cell_type": "code",
   "execution_count": 6,
   "id": "6648fc4a-202e-4225-83c6-20c1f9168e91",
   "metadata": {},
   "outputs": [],
   "source": [
    "#create\n",
    "try:\n",
    "    file = open('data.txt','x')\n",
    "    file.close()\n",
    "except:\n",
    "    print(\"There is same file!\")"
   ]
  },
  {
   "cell_type": "code",
   "execution_count": 4,
   "id": "1acfc213-f214-4548-a815-acb2e7c09710",
   "metadata": {},
   "outputs": [],
   "source": [
    "#write\n",
    "data = \"Hello World\"\n",
    "file = open('data1.txt','w')\n",
    "file.write(data)\n",
    "file.close()"
   ]
  },
  {
   "cell_type": "code",
   "execution_count": null,
   "id": "a01fd4b4-11f0-49da-88b7-93dbf326d658",
   "metadata": {},
   "outputs": [],
   "source": [
    "#append\n",
    "data = \"Hello World\\n\"\n",
    "file = open('data1.txt','a')\n",
    "file.write(data)\n",
    "file.close()"
   ]
  },
  {
   "cell_type": "code",
   "execution_count": null,
   "id": "4da11a31-1ae0-472d-b6aa-83a640412a90",
   "metadata": {},
   "outputs": [],
   "source": [
    "#read\n",
    "file = open('data.txt','r')\n",
    "my_data = file.read()\n",
    "print(my_data)\n",
    "file.close()"
   ]
  },
  {
   "cell_type": "code",
   "execution_count": null,
   "id": "a1060442-01fd-4e2c-aba8-4114cf41d8a2",
   "metadata": {},
   "outputs": [],
   "source": [
    "# Bill system\n",
    "bill = \"\"\n",
    "n = int(input(\"Enter n = \"))\n",
    "for i in range(n):\n",
    "    product = input(\"Enter Product name = \")\n",
    "    price = int(input(\"Enter price = \"))\n",
    "    qty = float(input(\"Enter quantity = \"))\n",
    "    total = price * qty\n",
    "    row = f\"{product} {price} {qty} {total}\\n\"\n",
    "    bill = bill + row\n",
    "\n",
    "file = open('bill.txt','a')\n",
    "file.write(bill)\n",
    "file.close()"
   ]
  },
  {
   "cell_type": "code",
   "execution_count": null,
   "id": "d7829872-3f67-440b-ac3c-87bcdb1615a5",
   "metadata": {},
   "outputs": [],
   "source": [
    "#read\n",
    "file = open('bill.txt','r')\n",
    "my_data = file.read()\n",
    "print(my_data)\n",
    "file.close()"
   ]
  },
  {
   "cell_type": "code",
   "execution_count": null,
   "id": "bc4440e9-3ec9-4dd6-8b5a-d917224ab478",
   "metadata": {},
   "outputs": [],
   "source": [
    "my_data"
   ]
  },
  {
   "cell_type": "code",
   "execution_count": null,
   "id": "21c1eea0-392d-4761-a7d4-680cb53d5f70",
   "metadata": {},
   "outputs": [],
   "source": [
    "row = my_data.split('\\n')[0:-1]\n",
    "row"
   ]
  },
  {
   "cell_type": "code",
   "execution_count": null,
   "id": "d2037c7a-81e9-4462-94c9-482256a07b5e",
   "metadata": {},
   "outputs": [],
   "source": [
    "bills = []\n",
    "for i in row:\n",
    "    x = i.split()\n",
    "    x[1] = int(x[1])\n",
    "    x[2] = float(x[2])\n",
    "    x[3] = float(x[3])\n",
    "\n",
    "    bills.append(x)\n",
    "\n",
    "bills"
   ]
  },
  {
   "cell_type": "code",
   "execution_count": null,
   "id": "5ad302b5-e26b-447c-853f-3c5935f160d1",
   "metadata": {},
   "outputs": [],
   "source": [
    "s = 0\n",
    "for i in bills:\n",
    "    s = s+ i[3]\n",
    "print(s)"
   ]
  },
  {
   "cell_type": "code",
   "execution_count": 6,
   "id": "41f9780f-e69f-4961-a4a3-74e9fc4c22a6",
   "metadata": {},
   "outputs": [
    {
     "name": "stdin",
     "output_type": "stream",
     "text": [
      "Enter n =  2\n",
      "Enter Product name =  Apple\n",
      "Enter price =  400\n",
      "Enter quantity =  3\n",
      "Enter Product name =  Banaa\n",
      "Enter price =  600\n",
      "Enter quantity =  2\n"
     ]
    }
   ],
   "source": [
    "# Bill system\n",
    "bill = \"\"\n",
    "s = 0\n",
    "n = int(input(\"Enter n = \"))\n",
    "for i in range(n):\n",
    "    product = input(\"Enter Product name = \")\n",
    "    price = int(input(\"Enter price = \"))\n",
    "    qty = float(input(\"Enter quantity = \"))\n",
    "    total = price * qty\n",
    "    row = f\"{product},{price},{qty},{total}\\n\"\n",
    "    bill = bill + row\n",
    "    s = s + total\n",
    "#write mode\n",
    "file = open('bill.csv','w')\n",
    "file.write('Product,Price,Quantity,Total\\n')\n",
    "file.write(f\"{bill}\\n\")\n",
    "file.write(f\"Total = {s}\")\n",
    "file.close()\n",
    "\n",
    "#append\n",
    "file = open('all_bill.csv','a')\n",
    "file.write(bill)\n",
    "file.close()"
   ]
  },
  {
   "cell_type": "code",
   "execution_count": 8,
   "id": "9c91ef9e-10c0-4b3f-bfda-dffd01116f47",
   "metadata": {},
   "outputs": [
    {
     "data": {
      "text/plain": [
       "'C:\\\\Users\\\\user\\\\Desktop\\\\Python_class'"
      ]
     },
     "execution_count": 8,
     "metadata": {},
     "output_type": "execute_result"
    }
   ],
   "source": [
    "pwd"
   ]
  },
  {
   "cell_type": "code",
   "execution_count": null,
   "id": "7967f165-18ae-403e-8aad-4d499027fb47",
   "metadata": {},
   "outputs": [],
   "source": []
  }
 ],
 "metadata": {
  "kernelspec": {
   "display_name": "Python [conda env:base] *",
   "language": "python",
   "name": "conda-base-py"
  },
  "language_info": {
   "codemirror_mode": {
    "name": "ipython",
    "version": 3
   },
   "file_extension": ".py",
   "mimetype": "text/x-python",
   "name": "python",
   "nbconvert_exporter": "python",
   "pygments_lexer": "ipython3",
   "version": "3.12.7"
  }
 },
 "nbformat": 4,
 "nbformat_minor": 5
}
