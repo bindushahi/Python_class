{
 "cells": [
  {
   "cell_type": "code",
   "execution_count": 1,
   "id": "be30cc72-2092-4aa4-b0d9-43802d940e88",
   "metadata": {},
   "outputs": [
    {
     "name": "stdout",
     "output_type": "stream",
     "text": [
      "Hello world\n"
     ]
    }
   ],
   "source": [
    "print(\"Hello world\")"
   ]
  },
  {
   "cell_type": "code",
   "execution_count": 3,
   "id": "c01b127a-4cce-4bc2-88fe-102695d89a7b",
   "metadata": {},
   "outputs": [
    {
     "name": "stdout",
     "output_type": "stream",
     "text": [
      "11\n"
     ]
    }
   ],
   "source": [
    "#Variable\n",
    "a=11\n",
    "print(a)"
   ]
  },
  {
   "cell_type": "code",
   "execution_count": 144,
   "id": "4b4f45d9-c22c-4344-b728-ae8d154a9fe6",
   "metadata": {},
   "outputs": [
    {
     "name": "stdout",
     "output_type": "stream",
     "text": [
      "2\n",
      "10.5\n",
      "Hello World\n",
      "True\n"
     ]
    }
   ],
   "source": [
    "a= 2  #interger value i.e datatype\n",
    "b=10.5 #float value\n",
    "c=\"Hello World\"   #string value\n",
    "d=True    #boolean value\n",
    "print(a)\n",
    "print(b)\n",
    "print(c)\n",
    "print(d)"
   ]
  },
  {
   "cell_type": "code",
   "execution_count": 65,
   "id": "5e34c80c-2549-486f-8fd3-fa8308a1b0c3",
   "metadata": {},
   "outputs": [
    {
     "name": "stdout",
     "output_type": "stream",
     "text": [
      "0.6666666666666666\n"
     ]
    }
   ],
   "source": [
    "#operators +,-,*,/,%,** (this is known as power of next value),// (floor division)\n",
    "a=2\n",
    "b=3\n",
    "c=a/b\n",
    "print(c)"
   ]
  },
  {
   "cell_type": "code",
   "execution_count": 66,
   "id": "b752f16c-5f78-4329-b917-e2a529f4dcec",
   "metadata": {},
   "outputs": [
    {
     "name": "stdout",
     "output_type": "stream",
     "text": [
      "2\n",
      "8\n",
      "0\n"
     ]
    }
   ],
   "source": [
    "print(a%b)\n",
    "print(a**b)\n",
    "print (a//b)"
   ]
  },
  {
   "cell_type": "code",
   "execution_count": 134,
   "id": "61b35817-82f8-4720-ad58-340212b878a4",
   "metadata": {},
   "outputs": [
    {
     "name": "stdout",
     "output_type": "stream",
     "text": [
      "11World\n",
      "1111\n"
     ]
    }
   ],
   "source": [
    "#in string only + or * can be done\n",
    "o=\"Hello Hello \\n\"\n",
    "b=\"World\"\n",
    "c=a+b\n",
    "d=a*2\n",
    "print(c)\n",
    "print(d)"
   ]
  },
  {
   "cell_type": "code",
   "execution_count": 110,
   "id": "a18d1ff0-ffc9-474c-8239-1c6e2ab66140",
   "metadata": {},
   "outputs": [
    {
     "name": "stdout",
     "output_type": "stream",
     "text": [
      "0\n"
     ]
    }
   ],
   "source": [
    "#boolean 1=true and 0 is false\n",
    "a=True\n",
    "b=False\n",
    "print(a*b)"
   ]
  },
  {
   "cell_type": "code",
   "execution_count": 140,
   "id": "588f568f-efbc-47d9-9ae7-f4fbf76f2541",
   "metadata": {},
   "outputs": [
    {
     "name": "stdout",
     "output_type": "stream",
     "text": [
      "<class 'str'>\n"
     ]
    }
   ],
   "source": [
    " #datatype find out\n",
    "a=\"11\"\n",
    "\n",
    "print(type(a))"
   ]
  },
  {
   "cell_type": "code",
   "execution_count": 61,
   "id": "f4341f32-932f-444b-bc9d-3e8627faf962",
   "metadata": {},
   "outputs": [
    {
     "name": "stdout",
     "output_type": "stream",
     "text": [
      "10.0\n",
      "<class 'float'>\n",
      "15\n",
      "<class 'int'>\n",
      "1100\n",
      "<class 'str'>\n",
      "1020\n",
      "30\n",
      "True\n",
      "<class 'bool'>\n"
     ]
    }
   ],
   "source": [
    "#typecasting converting datatypes\n",
    "# str() int() float() bool()\n",
    "a = 10\n",
    "b = float(a)\n",
    "print(b)\n",
    "print(type(b))\n",
    "\n",
    "\n",
    "a=15.5\n",
    "b=int(a)\n",
    "print(b)\n",
    "print(type(b))\n",
    "\n",
    "\n",
    "a=1100\n",
    "b=str(a)\n",
    "print(b)\n",
    "print(type(b))\n",
    "\n",
    "\n",
    "a=\"10\"\n",
    "b=\"20\"\n",
    "c=a+b  #here concatinating is happening\n",
    "print(c)\n",
    "\n",
    "\n",
    "a=\"10\"\n",
    "b=\"20\"\n",
    "c=int(a) +int(b)    #this is integer value\n",
    "print(c)\n",
    "\n",
    "\n",
    "\n",
    "a=\"hello\"    #other than 0 boolean shows false \n",
    "b=bool(a)\n",
    "print(b)\n",
    "print(type(b))"
   ]
  },
  {
   "cell_type": "code",
   "execution_count": 9,
   "id": "e72a04b2-e909-49cb-9c46-9ba1fc1274dd",
   "metadata": {},
   "outputs": [
    {
     "name": "stdin",
     "output_type": "stream",
     "text": [
      "Enter value of a 4\n"
     ]
    },
    {
     "name": "stdout",
     "output_type": "stream",
     "text": [
      "4\n"
     ]
    },
    {
     "name": "stdin",
     "output_type": "stream",
     "text": [
      "Enter the value of a= 3\n",
      "Enter the value of b= 2\n"
     ]
    },
    {
     "name": "stdout",
     "output_type": "stream",
     "text": [
      "32\n"
     ]
    },
    {
     "name": "stdin",
     "output_type": "stream",
     "text": [
      "Enter the value of a= 3\n",
      "Enter the value of b= 5\n"
     ]
    },
    {
     "name": "stdout",
     "output_type": "stream",
     "text": [
      "8\n"
     ]
    }
   ],
   "source": [
    "#I/O operations\n",
    "a=input(\"Enter value of a\")\n",
    "print(a)\n",
    "\n",
    "a=input(\"Enter the value of a=\")  #if not int is given then it will concatinate\n",
    "b=input(\"Enter the value of b=\")\n",
    "c=a+b\n",
    "print(c)\n",
    "\n",
    "a=int(input(\"Enter the value of a=\")) #need to write int to get the int value\n",
    "b=int(input(\"Enter the value of b=\"))\n",
    "c=a+b\n",
    "print(c)\n"
   ]
  },
  {
   "cell_type": "code",
   "execution_count": 13,
   "id": "98b7b2f1-05f2-4a2a-b6a0-43693458ec11",
   "metadata": {},
   "outputs": [
    {
     "name": "stdin",
     "output_type": "stream",
     "text": [
      "Enter p= 2\n",
      "Enter t= 3\n",
      "Enter r= 4\n"
     ]
    },
    {
     "name": "stdout",
     "output_type": "stream",
     "text": [
      "The value of i is 0.24\n"
     ]
    }
   ],
   "source": [
    "#calculating simple interest\n",
    "p=int(input(\"Enter p=\"))\n",
    "t=float(input(\"Enter t=\"))\n",
    "r=float(input(\"Enter r=\"))\n",
    "i=p*t*r/100\n",
    "print(\"The value of i is\",i)"
   ]
  },
  {
   "cell_type": "code",
   "execution_count": 23,
   "id": "93cbc461-f288-4046-8e72-4e04ae8ea5aa",
   "metadata": {},
   "outputs": [
    {
     "name": "stdout",
     "output_type": "stream",
     "text": [
      "3 5 4.0 3.0 2\n"
     ]
    }
   ],
   "source": [
    "print(a,b,r,t,p) #can print multiple once"
   ]
  },
  {
   "cell_type": "code",
   "execution_count": 3,
   "id": "e9659a31-0f93-4702-be9e-115c8c427afa",
   "metadata": {},
   "outputs": [
    {
     "name": "stdin",
     "output_type": "stream",
     "text": [
      "Enter the value of r: 3\n"
     ]
    },
    {
     "name": "stdout",
     "output_type": "stream",
     "text": [
      "The area of circle is 28.26\n"
     ]
    }
   ],
   "source": [
    "#finding the value of the circle\n",
    "r=float(input(\"Enter the value of r:\"))\n",
    "pi=3.14\n",
    "a=pi*r**2\n",
    "print(\"The area of circle is\",a)"
   ]
  },
  {
   "cell_type": "code",
   "execution_count": 11,
   "id": "3ecc6ce4-3f8e-4f26-a920-b9afb7d2900f",
   "metadata": {},
   "outputs": [
    {
     "name": "stdin",
     "output_type": "stream",
     "text": [
      "Enter the length: 3\n",
      "Enter the breadth: 2\n",
      "Enter the height: 4\n"
     ]
    },
    {
     "name": "stdout",
     "output_type": "stream",
     "text": [
      "The volume of cylinder is: 24.0\n"
     ]
    }
   ],
   "source": [
    "#calculate the volume\n",
    "l=float(input(\"Enter the length:\"))\n",
    "b=float(input(\"Enter the breadth:\"))\n",
    "h=float(input(\"Enter the height:\"))\n",
    "v=l*b*h\n",
    "print(\"The volume of cylinder is:\",v)"
   ]
  },
  {
   "cell_type": "code",
   "execution_count": 13,
   "id": "cc7ad679-afcf-4c9b-a1a4-2e9ccbbf7738",
   "metadata": {},
   "outputs": [
    {
     "name": "stdout",
     "output_type": "stream",
     "text": [
      "<class 'float'>\n"
     ]
    }
   ],
   "source": [
    "print(type(v))"
   ]
  },
  {
   "cell_type": "code",
   "execution_count": 17,
   "id": "94fbfa68-4e32-48d8-b721-b8845b4741d0",
   "metadata": {},
   "outputs": [
    {
     "name": "stdin",
     "output_type": "stream",
     "text": [
      "Enter your name Ram\n",
      "Enter your age 20\n",
      "Enter your address Nepal\n"
     ]
    },
    {
     "name": "stdout",
     "output_type": "stream",
     "text": [
      "Ram 20 Nepal\n"
     ]
    }
   ],
   "source": [
    "name=input(\"Enter your name\")\n",
    "age=int(input(\"Enter your age\"))\n",
    "address=input(\"Enter your address\")\n",
    "print(name,age,address)"
   ]
  },
  {
   "cell_type": "code",
   "execution_count": 27,
   "id": "e4923607-79f6-4ebb-bc72-03f08248e850",
   "metadata": {},
   "outputs": [
    {
     "name": "stdout",
     "output_type": "stream",
     "text": [
      "Hello World I am Ram and I am 20  and I am from Nepal\n"
     ]
    }
   ],
   "source": [
    "print(\"Hello World I am\",name,\"and I am\",age,\" and I am from\", address)"
   ]
  },
  {
   "cell_type": "code",
   "execution_count": 45,
   "id": "b9ce0d3b-5cba-4f56-a654-d74e55ec16d3",
   "metadata": {},
   "outputs": [
    {
     "name": "stdout",
     "output_type": "stream",
     "text": [
      "Hello world I am Ram I am 20 I am from  Nepal\n"
     ]
    }
   ],
   "source": [
    "#info=\"Hello world Iam \" + name + \"I am\" + age   #integer and string never concatenate or we have to convert integer to string\n",
    "info=\"Hello world I am \" + name + \" I am \" + str(age) + \" I am from  \" + address\n",
    "print(info)"
   ]
  },
  {
   "cell_type": "code",
   "execution_count": 71,
   "id": "08c97857-3421-4be0-aa24-545d0bb8172d",
   "metadata": {},
   "outputs": [
    {
     "name": "stdin",
     "output_type": "stream",
     "text": [
      "Enter the marks of physics: 30\n",
      "Enter the marks of physics: 20\n",
      "Enter the marks of physics: 10\n",
      "Enter the marks of physics: 40\n",
      "Enter the marks of physics: 20\n"
     ]
    },
    {
     "name": "stdout",
     "output_type": "stream",
     "text": [
      "total is  120\n",
      "percentage is  24.0\n"
     ]
    }
   ],
   "source": [
    "#WAP to calculate the total, percentage of +2 science students\n",
    "p=int(input(\"Enter the marks of physics:\"))\n",
    "c=int(input(\"Enter the marks of physics:\"))\n",
    "m=int(input(\"Enter the marks of physics:\"))\n",
    "s=int(input(\"Enter the marks of physics:\"))\n",
    "com=int(input(\"Enter the marks of physics:\"))\n",
    "total=p+c+m+s+com\n",
    "percentage=total/5\n",
    "print(\"total is \", total)\n",
    "print(\"percentage is \", percentage)"
   ]
  }
 ],
 "metadata": {
  "kernelspec": {
   "display_name": "Python [conda env:base] *",
   "language": "python",
   "name": "conda-base-py"
  },
  "language_info": {
   "codemirror_mode": {
    "name": "ipython",
    "version": 3
   },
   "file_extension": ".py",
   "mimetype": "text/x-python",
   "name": "python",
   "nbconvert_exporter": "python",
   "pygments_lexer": "ipython3",
   "version": "3.12.7"
  }
 },
 "nbformat": 4,
 "nbformat_minor": 5
}
