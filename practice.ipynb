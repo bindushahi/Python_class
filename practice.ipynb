{
 "cells": [
  {
   "cell_type": "code",
   "execution_count": 1,
   "id": "59d1c44b-ddc7-467a-9acc-03a34fddc0ca",
   "metadata": {},
   "outputs": [
    {
     "name": "stdout",
     "output_type": "stream",
     "text": [
      "Requirement already satisfied: pyjokes in c:\\users\\user\\anaconda3\\lib\\site-packages (0.8.3)\n",
      "Note: you may need to restart the kernel to use updated packages.\n"
     ]
    }
   ],
   "source": [
    "pip install pyjokes"
   ]
  },
  {
   "cell_type": "code",
   "execution_count": 5,
   "id": "557b3601-7d68-46f1-8ed5-ce1dc8a4797f",
   "metadata": {},
   "outputs": [],
   "source": [
    "import pyjokes"
   ]
  },
  {
   "cell_type": "code",
   "execution_count": 31,
   "id": "bf636df4-0045-4b94-b17d-fca2b9e45670",
   "metadata": {},
   "outputs": [
    {
     "name": "stdout",
     "output_type": "stream",
     "text": [
      "What do you mean 911 is only for emergencies? I've got a merge conflict.\n"
     ]
    }
   ],
   "source": [
    "joke=pyjokes.get_joke()\n",
    "print(joke)"
   ]
  },
  {
   "cell_type": "code",
   "execution_count": 37,
   "id": "f4d80631-9615-4593-86c9-2ae6bb62df9d",
   "metadata": {},
   "outputs": [],
   "source": [
    "# #WAP to print twinkle twinkle in a python\n",
    "# print('''Twinkle Twinkle, Little Star\n",
    "# How I wonder what you are\n",
    "# Up above the world so high\n",
    "# Like a diamond in the sky\n",
    "# Twinkle Twinkle Little Star\n",
    "# How I wonder what you are!\n",
    "# Twinkle Twinkle, Little Star\n",
    "# How I wonder what you are\n",
    "# Up above the world so high\n",
    "# Like a diamond in the sky\n",
    "# Twinkle Twinkle Little Star\n",
    "# How I wonder what you are!''')"
   ]
  },
  {
   "cell_type": "code",
   "execution_count": null,
   "id": "988548be-434a-4083-9485-652319e297ca",
   "metadata": {},
   "outputs": [],
   "source": [
    "#use REPL and print the table of 5 using it 5 * 1= 5\n",
    "\n",
    "#for multipliation part\n",
    "a=int(input(\"Enter the value of a=\"))\n",
    "for i in range(1,11):\n",
    "    print(a,\"*\",i,\"=\",a*i) #inside for loop\n",
    "      "
   ]
  },
  {
   "cell_type": "code",
   "execution_count": null,
   "id": "95bf96d4-9ca5-4f3d-8d3b-c11cef5e6808",
   "metadata": {},
   "outputs": [],
   "source": [
    "# titanic_data=titanic_data.drop(columns='cabin',axis=1)\n",
    "sns.countplot(X=\"sex\", hue='survived',data=titanic_data)"
   ]
  },
  {
   "cell_type": "code",
   "execution_count": null,
   "id": "8f42c2ee-6071-4a4e-91d6-4760c5b7a991",
   "metadata": {},
   "outputs": [],
   "source": []
  }
 ],
 "metadata": {
  "kernelspec": {
   "display_name": "Python [conda env:base] *",
   "language": "python",
   "name": "conda-base-py"
  },
  "language_info": {
   "codemirror_mode": {
    "name": "ipython",
    "version": 3
   },
   "file_extension": ".py",
   "mimetype": "text/x-python",
   "name": "python",
   "nbconvert_exporter": "python",
   "pygments_lexer": "ipython3",
   "version": "3.12.7"
  }
 },
 "nbformat": 4,
 "nbformat_minor": 5
}
