{
 "cells": [
  {
   "cell_type": "code",
   "execution_count": null,
   "id": "70e3011f-825e-4f25-82d9-591c91054b52",
   "metadata": {},
   "outputs": [],
   "source": [
    "# #function's type \n",
    "# #predefined i.e int(), float(),str(),list(),tuple(),set(),print(),type()\n",
    "# #userdefined i.e bulk of code which we have created when we needed\n",
    "\n",
    "# def <function_name>():    #define the function\n",
    "#     <operation>\n",
    "# <function_name>()         #call the function\n",
    "\n"
   ]
  },
  {
   "cell_type": "code",
   "execution_count": 2,
   "id": "65c4fdb9-e0ae-4718-a446-7351c6b84ab6",
   "metadata": {},
   "outputs": [
    {
     "name": "stdout",
     "output_type": "stream",
     "text": [
      "Helloooo World\n"
     ]
    }
   ],
   "source": [
    "def hello():\n",
    "    print(\"Helloooo World\")\n",
    "hello()"
   ]
  },
  {
   "cell_type": "code",
   "execution_count": 3,
   "id": "8d3f3db3-d7e1-4681-9c53-16ce1afc5530",
   "metadata": {},
   "outputs": [
    {
     "name": "stdin",
     "output_type": "stream",
     "text": [
      "Enter the value P: 4\n",
      "Enter the value t: 3\n",
      "Enter the value r: 4\n"
     ]
    },
    {
     "name": "stdout",
     "output_type": "stream",
     "text": [
      "48.0\n"
     ]
    }
   ],
   "source": [
    "#function without return type and argument\n",
    "def cal():\n",
    "    p=int(input(\"Enter the value P:\"))   #local variable\n",
    "    t=float(input(\"Enter the value t:\"))  #local variable\n",
    "    r=float(input(\"Enter the value r:\"))  #local variable\n",
    "    i=p*t*r\n",
    "    print(i)\n",
    "cal()                  \n",
    "\n",
    "    "
   ]
  },
  {
   "cell_type": "code",
   "execution_count": null,
   "id": "8ce47a22-824f-4100-bf95-0fcc9e2974d6",
   "metadata": {},
   "outputs": [],
   "source": [
    "# Variable type i.e local and global variable \n",
    "#inside function, i.e, local and outside function, i.e, global variable\n",
    "\n",
    "\n",
    "p=int(input(\"Enter the value P:\"))   #global variable\n",
    "    t=float(input(\"Enter the value t:\")) #global variable\n",
    "    r=float(input(\"Enter the value r:\")) #global variable\n",
    "def cal():    # function should start with small letter\n",
    "    i=p*t*r\n",
    "    print(i)\n",
    "cal()    "
   ]
  },
  {
   "cell_type": "code",
   "execution_count": 5,
   "id": "de91f76d-bf2f-414c-808f-8b99c1b59ce8",
   "metadata": {},
   "outputs": [
    {
     "name": "stdin",
     "output_type": "stream",
     "text": [
      "Enter name: Ram\n",
      "Enter age: 23\n",
      "Enter add: ktm\n"
     ]
    },
    {
     "name": "stdout",
     "output_type": "stream",
     "text": [
      "Hello Iam Ram Iam from ktm Iam 23\n"
     ]
    }
   ],
   "source": [
    "#Arguments and parameters\n",
    "\n",
    "#function with arguments\n",
    "def info(name,age,add):   #parameter\n",
    "    print(\"Hello, I am\", name, \"I am from\", add, \"I am\", age)\n",
    "name=input(\"Enter name:\")\n",
    "age=input(\"Enter age:\")\n",
    "add=input(\"Enter add:\")\n",
    "\n",
    "info(name,age,add) #carrying arguments"
   ]
  },
  {
   "cell_type": "code",
   "execution_count": 13,
   "id": "c15a5b4a-9bf9-420d-bc3c-3c69526f82df",
   "metadata": {},
   "outputs": [
    {
     "name": "stdout",
     "output_type": "stream",
     "text": [
      "Python\n"
     ]
    }
   ],
   "source": [
    "#if there is no argument then it takes the parameter if defined\n",
    "\n",
    "def language(lan=\"Python\"):    #parameter define\n",
    "    print(lan)\n",
    "language()\n",
    "language(\"C\")\n",
    "language(\"C++\")\n",
    "language(\"Java\")"
   ]
  },
  {
   "cell_type": "code",
   "execution_count": 11,
   "id": "849bd25d-3422-41c9-a049-525ab3ef36e6",
   "metadata": {},
   "outputs": [
    {
     "name": "stdin",
     "output_type": "stream",
     "text": [
      "Enter name: ram\n",
      "Enter age: \n",
      "Enter add: \n"
     ]
    },
    {
     "name": "stdout",
     "output_type": "stream",
     "text": [
      "Hello, I am ram I am from  I am \n"
     ]
    }
   ],
   "source": [
    "#if there is a default value in the parameter and the default value has to define at last \n",
    "\n",
    "\n",
    "\n",
    "# def info(name,age=30,add=\"Nepal\"):\n",
    "#     print(\"Hello, I am\", name, \"I am from\", add, \"I am\", age)\n",
    "# name=\"Ram\"\n",
    "# age= 30\n",
    "# add= \"ktm\"\n",
    "# info(name, age, add)\n",
    "\n",
    "\n",
    "def info(name,age=30,add=\"Nepal\"):\n",
    "    print(\"Hello, I am\", name, \"I am from\", add, \"I am\", age)\n",
    "name=input(\"Enter name:\")\n",
    "age=input(\"Enter age:\")\n",
    "add=input(\"Enter add:\")\n",
    "info(name, age, add)"
   ]
  },
  {
   "cell_type": "code",
   "execution_count": 1,
   "id": "3c036e53-e164-4a5c-8d42-b1361e0df415",
   "metadata": {},
   "outputs": [
    {
     "name": "stdout",
     "output_type": "stream",
     "text": [
      "Hello World I am Ram. I am from Kathmandu I am 45\n"
     ]
    }
   ],
   "source": [
    "def info(l):\n",
    "    x,y,z = l\n",
    "    print(f\"Hello World I am {x}. I am from {add} I am {age}\")\n",
    "\n",
    "name = \"Ram\"\n",
    "age = 45\n",
    "add = \"Kathmandu\"\n",
    "l = [name,age,add]\n",
    "info(l)"
   ]
  },
  {
   "cell_type": "code",
   "execution_count": 3,
   "id": "87507b40-2b40-405c-8581-0426414bf113",
   "metadata": {},
   "outputs": [
    {
     "name": "stdout",
     "output_type": "stream",
     "text": [
      "Hello World I am Ram. I am from Kathmandu I am 45\n"
     ]
    }
   ],
   "source": [
    "def info(k):\n",
    "    print(f\"Hello World I am {k['name']}. I am from {k['add']} I am {k['age']}\")\n",
    "\n",
    "name = \"Ram\"\n",
    "age = 45\n",
    "add = \"Kathmandu\"\n",
    "d = {'name':name,'age':age,'add':add}\n",
    "info(d)"
   ]
  },
  {
   "cell_type": "code",
   "execution_count": 5,
   "id": "f4512ebe-b5af-499a-9f08-27bbeab76070",
   "metadata": {},
   "outputs": [
    {
     "name": "stdout",
     "output_type": "stream",
     "text": [
      "Hello World\n"
     ]
    }
   ],
   "source": [
    "def hello():\n",
    "    x = \"Hello World\"\n",
    "    return x\n",
    "\n",
    "print(hello())"
   ]
  },
  {
   "cell_type": "code",
   "execution_count": 7,
   "id": "3028d550-6e9a-42f8-8a18-8fc2d3209d1f",
   "metadata": {},
   "outputs": [
    {
     "name": "stdout",
     "output_type": "stream",
     "text": [
      "Hello World I am Python\n"
     ]
    }
   ],
   "source": [
    "def hello():\n",
    "    x = \"Hello World\"\n",
    "    return x\n",
    "\n",
    "y = hello()\n",
    "info = y + \" I am Python\"\n",
    "print(info)"
   ]
  },
  {
   "cell_type": "code",
   "execution_count": null,
   "id": "35d05c5e-5ab5-4f38-ba78-3c6ac9842a9e",
   "metadata": {},
   "outputs": [],
   "source": [
    "#function with arguments and return type\n",
    "def area(l,b):\n",
    "    a = l*b\n",
    "    return a\n",
    "\n",
    "l = int(input(\"Enter l = \"))\n",
    "b = int(input(\"Enter b = \"))\n",
    "h = int(input(\"Enter h = \"))\n",
    "ar = area(l,b)\n",
    "v = ar*h\n",
    "print(\"The volume = \",v)"
   ]
  },
  {
   "cell_type": "code",
   "execution_count": null,
   "id": "c5f70bdc-828c-44c4-aa05-48ad921c004f",
   "metadata": {},
   "outputs": [],
   "source": [
    "def add(a,b):\n",
    "    return a+b\n",
    "def sub(a,b):\n",
    "    return a-b\n",
    "def mul(a,b):\n",
    "    return a*b\n",
    "def div(a,b):\n",
    "    return a/b\n",
    "\n",
    "def cal(a,b,o):\n",
    "    if o == \"+\":\n",
    "        print(add(a,b))\n",
    "    elif o == \"-\":\n",
    "        print(sub(a,b))\n",
    "    elif o == \"*\":\n",
    "        print(mul(a,b))\n",
    "    else:\n",
    "        print(div(a,b))\n",
    "\n",
    "a = int(input(\"Enter a = \"))\n",
    "b = int(input(\"Enter b = \"))\n",
    "o = input(\"Enter + or - or * or / \")\n",
    "cal(a,b,o)"
   ]
  },
  {
   "cell_type": "code",
   "execution_count": null,
   "id": "b567fed7-0675-4173-bf1a-d93fbfc93c3b",
   "metadata": {},
   "outputs": [],
   "source": []
  }
 ],
 "metadata": {
  "kernelspec": {
   "display_name": "Python [conda env:base] *",
   "language": "python",
   "name": "conda-base-py"
  },
  "language_info": {
   "codemirror_mode": {
    "name": "ipython",
    "version": 3
   },
   "file_extension": ".py",
   "mimetype": "text/x-python",
   "name": "python",
   "nbconvert_exporter": "python",
   "pygments_lexer": "ipython3",
   "version": "3.12.7"
  }
 },
 "nbformat": 4,
 "nbformat_minor": 5
}
